{
 "cells": [
  {
   "cell_type": "code",
   "execution_count": 2,
   "outputs": [],
   "source": [
    "import networkx as nx\n",
    "import torch\n",
    "from tqdm import trange, tqdm\n",
    "\n",
    "from graph import milp_solve_mds, prepare_graph, mds_is_solved"
   ],
   "metadata": {
    "collapsed": false
   }
  },
  {
   "cell_type": "code",
   "execution_count": 3,
   "metadata": {
    "collapsed": true
   },
   "outputs": [],
   "source": [
    "agent_path = './experiments/2024-11-06-1120/agent_220.pt'\n",
    "net_path = './experiments/2024-11-06-1120/version_0/checkpoints/epoch=99-step=99.ckpt'\n",
    "if agent_path:\n",
    "    agent = torch.load(agent_path)\n"
   ]
  },
  {
   "cell_type": "code",
   "execution_count": 17,
   "outputs": [
    {
     "name": "stdout",
     "output_type": "stream",
     "text": [
      "sampling 100 x G(10, 0.15)\n"
     ]
    },
    {
     "name": "stderr",
     "output_type": "stream",
     "text": [
      "100%|██████████| 100/100 [00:00<00:00, 770.66it/s]\n"
     ]
    },
    {
     "name": "stdout",
     "output_type": "stream",
     "text": [
      "solving mds\n"
     ]
    },
    {
     "name": "stderr",
     "output_type": "stream",
     "text": [
      "100%|██████████| 100/100 [00:00<00:00, 111.27it/s]\n"
     ]
    }
   ],
   "source": [
    "valid_ds = []\n",
    "size_eq_mlip = []\n",
    "\n",
    "n, p = 10, .15\n",
    "tt_g = 100\n",
    "graphs = []\n",
    "\n",
    "print(f'sampling {tt_g} x G{n, p}')\n",
    "for i in trange(tt_g):\n",
    "    g = prepare_graph(i, n, p, milp_solve_mds, g_nx=True)\n",
    "    graphs.append(g)\n",
    "\n",
    "print(f'solving mds')\n",
    "for g in tqdm(graphs):\n",
    "\n",
    "    # Perform an episode of actions\n",
    "    s = []\n",
    "    for step in range(n):\n",
    "        action = agent.select_action(g)\n",
    "        s.append(action)\n",
    "        g.x = g.x.clone()\n",
    "        g.x[action][0] = 0\n",
    "        if mds_is_solved(g.nx, s):\n",
    "            break\n",
    "    g.s = s\n",
    "\n",
    "    valid_ds.append(all(v in s or len(g.nx[v].keys() & s) > 0 for v in g.nx))\n",
    "    size_eq_mlip.append(len(s) <= len([i for i in g.y if i]))"
   ],
   "metadata": {
    "collapsed": false
   }
  },
  {
   "cell_type": "code",
   "execution_count": 18,
   "outputs": [
    {
     "name": "stdout",
     "output_type": "stream",
     "text": [
      "53.0% valid DS      2.0% equivalent to MILP\n"
     ]
    }
   ],
   "source": [
    "print(f'{100*sum(valid_ds)/tt_g}% valid DS      {100*sum(size_eq_mlip)/tt_g}% equivalent to MILP')"
   ],
   "metadata": {
    "collapsed": false
   }
  },
  {
   "cell_type": "code",
   "execution_count": 19,
   "outputs": [
    {
     "data": {
      "text/plain": "[8, 9, 0, 6, 3, 9, 2, 2, 0, 2]"
     },
     "execution_count": 19,
     "metadata": {},
     "output_type": "execute_result"
    }
   ],
   "source": [
    "graphs[0].s"
   ],
   "metadata": {
    "collapsed": false
   }
  },
  {
   "cell_type": "code",
   "execution_count": 21,
   "outputs": [
    {
     "name": "stdout",
     "output_type": "stream",
     "text": [
      "[2, 9, 0]\n"
     ]
    },
    {
     "data": {
      "text/plain": "<Figure size 640x480 with 1 Axes>",
      "image/png": "[encoded data removed]"
     },
     "metadata": {},
     "output_type": "display_data"
    }
   ],
   "source": [
    "for g in graphs:\n",
    "    if len(g.s) == len([i for i in g.y if i]):\n",
    "        break\n",
    "g_n = g.nx\n",
    "\n",
    "try:\n",
    "    layout = nx.planar_layout(g_n)\n",
    "except:\n",
    "    layout = nx.drawing.spring_layout(g_n)\n",
    "\n",
    "node_colors = ['blue' if n in g.s else 'gray' for n in g.nx]\n",
    "nx.draw(g_n, with_labels=True, node_color=node_colors, pos=layout)\n",
    "print(g.s)"
   ],
   "metadata": {
    "collapsed": false
   }
  },
  {
   "cell_type": "code",
   "execution_count": 24,
   "outputs": [
    {
     "data": {
      "text/plain": "tensor([1., 1., 1., 1., 1., 1., 1., 1., 1., 1.], grad_fn=<SqueezeBackward0>)"
     },
     "execution_count": 24,
     "metadata": {},
     "output_type": "execute_result"
    }
   ],
   "source": [
    "edge_index, node_feats = g.edge_index, torch.FloatTensor([[1]] * n)\n",
    "agent.gnn(node_feats, edge_index).squeeze()"
   ],
   "metadata": {
    "collapsed": false
   }
  }
 ],
 "metadata": {
  "kernelspec": {
   "display_name": "Python 3",
   "language": "python",
   "name": "python3"
  },
  "language_info": {
   "codemirror_mode": {
    "name": "ipython",
    "version": 2
   },
   "file_extension": ".py",
   "mimetype": "text/x-python",
   "name": "python",
   "nbconvert_exporter": "python",
   "pygments_lexer": "ipython2",
   "version": "2.7.6"
  }
 },
 "nbformat": 4,
 "nbformat_minor": 0
}
