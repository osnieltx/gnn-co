{
 "cells": [
  {
   "cell_type": "code",
   "execution_count": 1,
   "outputs": [],
   "source": [
    "from pathlib import Path\n",
    "\n",
    "import networkx as nx\n",
    "import torch\n",
    "import yaml\n",
    "from tqdm import tqdm\n",
    "\n",
    "from dql import DQNLightning\n",
    "from graph import milp_solve_mds, is_ds, generate_graphs"
   ],
   "metadata": {
    "collapsed": false
   }
  },
  {
   "cell_type": "code",
   "execution_count": 2,
   "outputs": [],
   "source": [
    "base_path = '../experiments/2025-04-17-0752/version_0'\n",
    "model_path = base_path + '/checkpoints/epoch=39-step=40.ckpt'\n",
    "hparams_path = base_path + '/hparams.yaml'"
   ],
   "metadata": {
    "collapsed": false
   }
  },
  {
   "cell_type": "code",
   "execution_count": 3,
   "outputs": [
    {
     "name": "stdout",
     "output_type": "stream",
     "text": [
      "Sampling 1 instances from G(range(100, 101), 0.15)...\n"
     ]
    },
    {
     "name": "stderr",
     "output_type": "stream",
     "text": [
      "100%|██████████| 1/1 [00:01<00:00,  1.29s/graph]\n"
     ]
    }
   ],
   "source": [
    "dqn_model: DQNLightning = DQNLightning.load_from_checkpoint(model_path, map_location=torch.device(\"cpu\"), hparams_file=hparams_path, s=1, warm_start_steps=0)"
   ],
   "metadata": {
    "collapsed": false
   }
  },
  {
   "cell_type": "code",
   "execution_count": 4,
   "outputs": [
    {
     "name": "stdout",
     "output_type": "stream",
     "text": [
      "sampling 300 x G(100, 0.15)\n"
     ]
    },
    {
     "name": "stderr",
     "output_type": "stream",
     "text": [
      "100%|██████████| 300/300 [02:01<00:00,  2.47it/s]\n"
     ]
    }
   ],
   "source": [
    "valid_ds = []\n",
    "size_eq_mlip = []\n",
    "\n",
    "conf = yaml.safe_load(Path(hparams_path).read_text())\n",
    "n, p = conf['n'], conf['p']\n",
    "tt_g = 300\n",
    "graphs = generate_graphs(range(n, conf['delta_n']+1), p, tt_g, milp_solve_mds, attrs=conf['graph_attr'])"
   ],
   "metadata": {
    "collapsed": false
   }
  },
  {
   "cell_type": "code",
   "execution_count": 7,
   "outputs": [
    {
     "name": "stdout",
     "output_type": "stream",
     "text": [
      "solving mds\n"
     ]
    },
    {
     "name": "stderr",
     "output_type": "stream",
     "text": [
      "100%|██████████| 300/300 [00:44<00:00,  6.74it/s]\n"
     ]
    }
   ],
   "source": [
    "print(f'solving mds')\n",
    "for g in tqdm(graphs):\n",
    "\n",
    "    # Perform an episode of actions\n",
    "    s = []\n",
    "    dqn_model.agent.reset(g)\n",
    "    for step in range(n):\n",
    "        action = dqn_model.agent.get_action(dqn_model.net, 0, 'cpu')\n",
    "        s.append(action)\n",
    "        g.x = g.x.clone()\n",
    "        g.x[action][0] = 1\n",
    "        dqn_model.agent.state = g\n",
    "        if is_ds(g.nx, s):\n",
    "            break\n",
    "    else:\n",
    "        raise Exception('Could not find a DS')\n",
    "    g.s = s\n",
    "    breakpoint()\n",
    "\n",
    "    valid_ds.append(all(v in s or len(g.nx[v].keys() & s) > 0 for v in g.nx))\n",
    "    size_eq_mlip.append(len(s) <= len([i for i in g.y if i]))"
   ],
   "metadata": {
    "collapsed": false
   }
  },
  {
   "cell_type": "code",
   "execution_count": 8,
   "outputs": [
    {
     "data": {
      "text/plain": "'apx-ratio 2.48 -- avg S_gnn 22.70 -- avg S* 9.17'"
     },
     "execution_count": 8,
     "metadata": {},
     "output_type": "execute_result"
    }
   ],
   "source": [
    "f'apx-ratio {sum(len(g.s)/(g.y == 1).sum() for g in graphs)/len(graphs):.2f} -- ' \\\n",
    "f'avg S_gnn {sum(len(g.s) for g in graphs)/len(graphs):.2f} -- ' \\\n",
    "f'avg S* {sum((g.y == 1).sum() for g in graphs)/len(graphs):.2f}'"
   ],
   "metadata": {
    "collapsed": false
   }
  },
  {
   "cell_type": "code",
   "execution_count": null,
   "outputs": [],
   "source": [
    "print(f'{100*sum(valid_ds)/tt_g}% valid DS      {100*sum(size_eq_mlip)/tt_g}% equivalent to MILP')"
   ],
   "metadata": {
    "collapsed": false
   }
  },
  {
   "cell_type": "code",
   "execution_count": null,
   "outputs": [],
   "source": [
    "print(conf)"
   ],
   "metadata": {
    "collapsed": false
   }
  },
  {
   "cell_type": "code",
   "execution_count": null,
   "outputs": [],
   "source": [
    "graphs[0].s"
   ],
   "metadata": {
    "collapsed": false
   }
  },
  {
   "cell_type": "code",
   "execution_count": null,
   "outputs": [],
   "source": [
    "for g in graphs:\n",
    "    if len(g.s) == len([i for i in g.y if i]):\n",
    "        break\n",
    "g_n = g.nx\n",
    "\n",
    "try:\n",
    "    layout = nx.planar_layout(g_n)\n",
    "except:\n",
    "    layout = nx.drawing.spring_layout(g_n)\n",
    "\n",
    "node_colors = ['blue' if n in g.s else 'gray' for n in g.nx]\n",
    "nx.draw(g_n, with_labels=True, node_color=node_colors, pos=layout)\n",
    "print(g.s)"
   ],
   "metadata": {
    "collapsed": false
   }
  },
  {
   "cell_type": "code",
   "execution_count": null,
   "outputs": [],
   "source": [
    "edge_index, node_feats = g.edge_index, torch.FloatTensor([[1]] * n)\n",
    "agent.gnn(node_feats, edge_index).squeeze()"
   ],
   "metadata": {
    "collapsed": false
   }
  }
 ],
 "metadata": {
  "kernelspec": {
   "display_name": "Python 3",
   "language": "python",
   "name": "python3"
  },
  "language_info": {
   "codemirror_mode": {
    "name": "ipython",
    "version": 2
   },
   "file_extension": ".py",
   "mimetype": "text/x-python",
   "name": "python",
   "nbconvert_exporter": "python",
   "pygments_lexer": "ipython2",
   "version": "2.7.6"
  }
 },
 "nbformat": 4,
 "nbformat_minor": 0
}
