{
 "cells": [
  {
   "cell_type": "code",
   "execution_count": 8,
   "outputs": [],
   "source": [
    "from pathlib import Path\n",
    "\n",
    "import networkx as nx\n",
    "import torch\n",
    "import yaml\n",
    "from tqdm import trange, tqdm\n",
    "\n",
    "from dql import DQNLightning\n",
    "from graph import milp_solve_mds, prepare_graph, is_ds"
   ],
   "metadata": {
    "collapsed": false
   }
  },
  {
   "cell_type": "code",
   "execution_count": 2,
   "metadata": {
    "collapsed": true
   },
   "outputs": [
    {
     "ename": "FileNotFoundError",
     "evalue": "[Errno 2] No such file or directory: './experiments/2024-11-06-1120/agent_220.pt'",
     "output_type": "error",
     "traceback": [
      "\u001B[0;31m---------------------------------------------------------------------------\u001B[0m",
      "\u001B[0;31mFileNotFoundError\u001B[0m                         Traceback (most recent call last)",
      "Cell \u001B[0;32mIn[2], line 4\u001B[0m\n\u001B[1;32m      2\u001B[0m net_path \u001B[38;5;241m=\u001B[39m \u001B[38;5;124m'\u001B[39m\u001B[38;5;124m./experiments/2024-11-06-1120/version_0/checkpoints/epoch=99-step=99.ckpt\u001B[39m\u001B[38;5;124m'\u001B[39m\n\u001B[1;32m      3\u001B[0m \u001B[38;5;28;01mif\u001B[39;00m agent_path:\n\u001B[0;32m----> 4\u001B[0m     agent \u001B[38;5;241m=\u001B[39m \u001B[43mtorch\u001B[49m\u001B[38;5;241;43m.\u001B[39;49m\u001B[43mload\u001B[49m\u001B[43m(\u001B[49m\u001B[43magent_path\u001B[49m\u001B[43m)\u001B[49m\n",
      "File \u001B[0;32m~/Documents/UFF/mestrado/2o Sem/EO/gnn-co/venv/lib/python3.9/site-packages/torch/serialization.py:699\u001B[0m, in \u001B[0;36mload\u001B[0;34m(f, map_location, pickle_module, **pickle_load_args)\u001B[0m\n\u001B[1;32m    696\u001B[0m \u001B[38;5;28;01mif\u001B[39;00m \u001B[38;5;124m'\u001B[39m\u001B[38;5;124mencoding\u001B[39m\u001B[38;5;124m'\u001B[39m \u001B[38;5;129;01mnot\u001B[39;00m \u001B[38;5;129;01min\u001B[39;00m pickle_load_args\u001B[38;5;241m.\u001B[39mkeys():\n\u001B[1;32m    697\u001B[0m     pickle_load_args[\u001B[38;5;124m'\u001B[39m\u001B[38;5;124mencoding\u001B[39m\u001B[38;5;124m'\u001B[39m] \u001B[38;5;241m=\u001B[39m \u001B[38;5;124m'\u001B[39m\u001B[38;5;124mutf-8\u001B[39m\u001B[38;5;124m'\u001B[39m\n\u001B[0;32m--> 699\u001B[0m \u001B[38;5;28;01mwith\u001B[39;00m \u001B[43m_open_file_like\u001B[49m\u001B[43m(\u001B[49m\u001B[43mf\u001B[49m\u001B[43m,\u001B[49m\u001B[43m \u001B[49m\u001B[38;5;124;43m'\u001B[39;49m\u001B[38;5;124;43mrb\u001B[39;49m\u001B[38;5;124;43m'\u001B[39;49m\u001B[43m)\u001B[49m \u001B[38;5;28;01mas\u001B[39;00m opened_file:\n\u001B[1;32m    700\u001B[0m     \u001B[38;5;28;01mif\u001B[39;00m _is_zipfile(opened_file):\n\u001B[1;32m    701\u001B[0m         \u001B[38;5;66;03m# The zipfile reader is going to advance the current file position.\u001B[39;00m\n\u001B[1;32m    702\u001B[0m         \u001B[38;5;66;03m# If we want to actually tail call to torch.jit.load, we need to\u001B[39;00m\n\u001B[1;32m    703\u001B[0m         \u001B[38;5;66;03m# reset back to the original position.\u001B[39;00m\n\u001B[1;32m    704\u001B[0m         orig_position \u001B[38;5;241m=\u001B[39m opened_file\u001B[38;5;241m.\u001B[39mtell()\n",
      "File \u001B[0;32m~/Documents/UFF/mestrado/2o Sem/EO/gnn-co/venv/lib/python3.9/site-packages/torch/serialization.py:230\u001B[0m, in \u001B[0;36m_open_file_like\u001B[0;34m(name_or_buffer, mode)\u001B[0m\n\u001B[1;32m    228\u001B[0m \u001B[38;5;28;01mdef\u001B[39;00m \u001B[38;5;21m_open_file_like\u001B[39m(name_or_buffer, mode):\n\u001B[1;32m    229\u001B[0m     \u001B[38;5;28;01mif\u001B[39;00m _is_path(name_or_buffer):\n\u001B[0;32m--> 230\u001B[0m         \u001B[38;5;28;01mreturn\u001B[39;00m \u001B[43m_open_file\u001B[49m\u001B[43m(\u001B[49m\u001B[43mname_or_buffer\u001B[49m\u001B[43m,\u001B[49m\u001B[43m \u001B[49m\u001B[43mmode\u001B[49m\u001B[43m)\u001B[49m\n\u001B[1;32m    231\u001B[0m     \u001B[38;5;28;01melse\u001B[39;00m:\n\u001B[1;32m    232\u001B[0m         \u001B[38;5;28;01mif\u001B[39;00m \u001B[38;5;124m'\u001B[39m\u001B[38;5;124mw\u001B[39m\u001B[38;5;124m'\u001B[39m \u001B[38;5;129;01min\u001B[39;00m mode:\n",
      "File \u001B[0;32m~/Documents/UFF/mestrado/2o Sem/EO/gnn-co/venv/lib/python3.9/site-packages/torch/serialization.py:211\u001B[0m, in \u001B[0;36m_open_file.__init__\u001B[0;34m(self, name, mode)\u001B[0m\n\u001B[1;32m    210\u001B[0m \u001B[38;5;28;01mdef\u001B[39;00m \u001B[38;5;21m__init__\u001B[39m(\u001B[38;5;28mself\u001B[39m, name, mode):\n\u001B[0;32m--> 211\u001B[0m     \u001B[38;5;28msuper\u001B[39m(_open_file, \u001B[38;5;28mself\u001B[39m)\u001B[38;5;241m.\u001B[39m\u001B[38;5;21m__init__\u001B[39m(\u001B[38;5;28;43mopen\u001B[39;49m\u001B[43m(\u001B[49m\u001B[43mname\u001B[49m\u001B[43m,\u001B[49m\u001B[43m \u001B[49m\u001B[43mmode\u001B[49m\u001B[43m)\u001B[49m)\n",
      "\u001B[0;31mFileNotFoundError\u001B[0m: [Errno 2] No such file or directory: './experiments/2024-11-06-1120/agent_220.pt'"
     ]
    }
   ],
   "source": [
    "# agent_path = './experiments/2024-11-06-1120/agent_220.pt'\n",
    "# net_path = './experiments/2024-11-06-1120/version_0/checkpoints/epoch=99-step=99.ckpt'\n",
    "# if agent_path:\n",
    "#     agent = torch.load(agent_path)\n"
   ]
  },
  {
   "cell_type": "code",
   "execution_count": 39,
   "outputs": [],
   "source": [
    "base_path = '../experiments/2025-04-16-1736/version_0'\n",
    "model_path = base_path + '/checkpoints/epoch=2639-step=2640.ckpt'\n",
    "hparams_path = base_path + '/hparams.yaml'"
   ],
   "metadata": {
    "collapsed": false
   }
  },
  {
   "cell_type": "code",
   "execution_count": 40,
   "outputs": [
    {
     "name": "stdout",
     "output_type": "stream",
     "text": [
      "Sampling 10000 instances from G(range(10, 11), 0.15)...\n"
     ]
    },
    {
     "name": "stderr",
     "output_type": "stream",
     "text": [
      "100%|██████████| 10000/10000 [00:30<00:00, 332.35graph/s]\n"
     ]
    }
   ],
   "source": [
    "dqn_model: DQNLightning = DQNLightning.load_from_checkpoint(model_path, map_location=torch.device(\"cpu\"), hparams_file=hparams_path)"
   ],
   "metadata": {
    "collapsed": false
   }
  },
  {
   "cell_type": "code",
   "execution_count": 41,
   "outputs": [
    {
     "name": "stdout",
     "output_type": "stream",
     "text": [
      "sampling 300 x G(10, 0.15)\n"
     ]
    },
    {
     "name": "stderr",
     "output_type": "stream",
     "text": [
      "  0%|          | 0/300 [00:00<?, ?it/s]"
     ]
    },
    {
     "name": "stdout",
     "output_type": "stream",
     "text": [
      "Restricted license - for non-production use only - expires 2026-11-23\n",
      "Set parameter TimeLimit to value 3600\n"
     ]
    },
    {
     "name": "stderr",
     "output_type": "stream",
     "text": [
      "  0%|          | 1/300 [00:00<00:42,  7.09it/s]"
     ]
    },
    {
     "name": "stdout",
     "output_type": "stream",
     "text": [
      "Restricted license - for non-production use only - expires 2026-11-23\n",
      "Set parameter TimeLimit to value 3600\n",
      "Restricted license - for non-production use only - expires 2026-11-23\n",
      "Set parameter TimeLimit to value 3600\n",
      "Restricted license - for non-production use only - expires 2026-11-23\n",
      "Set parameter TimeLimit to value 3600\n",
      "Restricted license - for non-production use only - expires 2026-11-23\n",
      "Set parameter TimeLimit to value 3600\n",
      "Restricted license - for non-production use only - expires 2026-11-23\n",
      "Set parameter TimeLimit to value 3600\n",
      "Restricted license - for non-production use only - expires 2026-11-23\n",
      "Set parameter TimeLimit to value 3600\n",
      "Restricted license - for non-production use only - expires 2026-11-23\n",
      "Set parameter TimeLimit to value 3600\n",
      "Restricted license - for non-production use only - expires 2026-11-23\n",
      "Set parameter TimeLimit to value 3600\n",
      "Restricted license - for non-production use only - expires 2026-11-23\n",
      "Set parameter TimeLimit to value 3600\n",
      "Restricted license - for non-production use only - expires 2026-11-23\n",
      "Set parameter TimeLimit to value 3600\n",
      "Restricted license - for non-production use only - expires 2026-11-23\n",
      "Set parameter TimeLimit to value 3600\n",
      "Restricted license - for non-production use only - expires 2026-11-23\n",
      "Set parameter TimeLimit to value 3600\n"
     ]
    },
    {
     "name": "stderr",
     "output_type": "stream",
     "text": [
      "  4%|▍         | 13/300 [00:00<00:04, 62.42it/s]"
     ]
    },
    {
     "name": "stdout",
     "output_type": "stream",
     "text": [
      "Restricted license - for non-production use only - expires 2026-11-23\n",
      "Set parameter TimeLimit to value 3600\n",
      "Restricted license - for non-production use only - expires 2026-11-23\n",
      "Set parameter TimeLimit to value 3600\n",
      "Restricted license - for non-production use only - expires 2026-11-23\n",
      "Set parameter TimeLimit to value 3600\n",
      "Restricted license - for non-production use only - expires 2026-11-23\n",
      "Set parameter TimeLimit to value 3600\n",
      "Restricted license - for non-production use only - expires 2026-11-23\n",
      "Set parameter TimeLimit to value 3600\n",
      "Restricted license - for non-production use only - expires 2026-11-23\n",
      "Set parameter TimeLimit to value 3600\n",
      "Restricted license - for non-production use only - expires 2026-11-23\n",
      "Set parameter TimeLimit to value 3600\n",
      "Restricted license - for non-production use only - expires 2026-11-23\n",
      "Set parameter TimeLimit to value 3600\n",
      "Restricted license - for non-production use only - expires 2026-11-23\n",
      "Set parameter TimeLimit to value 3600\n",
      "Restricted license - for non-production use only - expires 2026-11-23\n",
      "Set parameter TimeLimit to value 3600\n",
      "Restricted license - for non-production use only - expires 2026-11-23\n",
      "Set parameter TimeLimit to value 3600\n",
      "Restricted license - for non-production use only - expires 2026-11-23\n",
      "Set parameter TimeLimit to value 3600\n",
      "Restricted license - for non-production use only - expires 2026-11-23\n",
      "Set parameter TimeLimit to value 3600\n",
      "Restricted license - for non-production use only - expires 2026-11-23\n",
      "Set parameter TimeLimit to value 3600\n",
      "Restricted license - for non-production use only - expires 2026-11-23\n",
      "Set parameter TimeLimit to value 3600\n",
      "Restricted license - for non-production use only - expires 2026-11-23\n",
      "Set parameter TimeLimit to value 3600\n",
      "Restricted license - for non-production use only - expires 2026-11-23\n",
      "Set parameter TimeLimit to value 3600\n"
     ]
    },
    {
     "name": "stderr",
     "output_type": "stream",
     "text": [
      " 10%|█         | 30/300 [00:00<00:02, 101.38it/s]"
     ]
    },
    {
     "name": "stdout",
     "output_type": "stream",
     "text": [
      "Restricted license - for non-production use only - expires 2026-11-23\n",
      "Set parameter TimeLimit to value 3600\n",
      "Restricted license - for non-production use only - expires 2026-11-23\n",
      "Set parameter TimeLimit to value 3600\n",
      "Restricted license - for non-production use only - expires 2026-11-23\n",
      "Set parameter TimeLimit to value 3600\n",
      "Restricted license - for non-production use only - expires 2026-11-23\n",
      "Set parameter TimeLimit to value 3600\n",
      "Restricted license - for non-production use only - expires 2026-11-23\n",
      "Set parameter TimeLimit to value 3600\n",
      "Restricted license - for non-production use only - expires 2026-11-23\n",
      "Set parameter TimeLimit to value 3600\n",
      "Restricted license - for non-production use only - expires 2026-11-23\n",
      "Set parameter TimeLimit to value 3600\n",
      "Restricted license - for non-production use only - expires 2026-11-23\n",
      "Set parameter TimeLimit to value 3600\n",
      "Restricted license - for non-production use only - expires 2026-11-23\n",
      "Set parameter TimeLimit to value 3600\n",
      "Restricted license - for non-production use only - expires 2026-11-23\n",
      "Set parameter TimeLimit to value 3600\n",
      "Restricted license - for non-production use only - expires 2026-11-23\n",
      "Set parameter TimeLimit to value 3600\n"
     ]
    },
    {
     "name": "stderr",
     "output_type": "stream",
     "text": [
      " 14%|█▎        | 41/300 [00:00<00:02, 95.60it/s] "
     ]
    },
    {
     "name": "stdout",
     "output_type": "stream",
     "text": [
      "Restricted license - for non-production use only - expires 2026-11-23\n",
      "Set parameter TimeLimit to value 3600\n",
      "Restricted license - for non-production use only - expires 2026-11-23\n",
      "Set parameter TimeLimit to value 3600\n",
      "Restricted license - for non-production use only - expires 2026-11-23\n",
      "Set parameter TimeLimit to value 3600\n",
      "Restricted license - for non-production use only - expires 2026-11-23\n",
      "Set parameter TimeLimit to value 3600\n",
      "Restricted license - for non-production use only - expires 2026-11-23\n",
      "Set parameter TimeLimit to value 3600\n",
      "Restricted license - for non-production use only - expires 2026-11-23\n",
      "Set parameter TimeLimit to value 3600\n",
      "Restricted license - for non-production use only - expires 2026-11-23\n",
      "Set parameter TimeLimit to value 3600\n",
      "Restricted license - for non-production use only - expires 2026-11-23\n",
      "Set parameter TimeLimit to value 3600\n",
      "Restricted license - for non-production use only - expires 2026-11-23\n",
      "Set parameter TimeLimit to value 3600\n",
      "Restricted license - for non-production use only - expires 2026-11-23\n",
      "Set parameter TimeLimit to value 3600\n",
      "Restricted license - for non-production use only - expires 2026-11-23\n",
      "Set parameter TimeLimit to value 3600\n",
      "Restricted license - for non-production use only - expires 2026-11-23\n",
      "Set parameter TimeLimit to value 3600\n",
      "Restricted license - for non-production use only - expires 2026-11-23\n",
      "Set parameter TimeLimit to value 3600\n",
      "Restricted license - for non-production use only - expires 2026-11-23\n",
      "Set parameter TimeLimit to value 3600\n",
      "Restricted license - for non-production use only - expires 2026-11-23\n",
      "Set parameter TimeLimit to value 3600\n"
     ]
    },
    {
     "name": "stderr",
     "output_type": "stream",
     "text": [
      " 19%|█▊        | 56/300 [00:00<00:02, 112.56it/s]"
     ]
    },
    {
     "name": "stdout",
     "output_type": "stream",
     "text": [
      "Restricted license - for non-production use only - expires 2026-11-23\n",
      "Set parameter TimeLimit to value 3600\n",
      "Restricted license - for non-production use only - expires 2026-11-23\n",
      "Set parameter TimeLimit to value 3600\n",
      "Restricted license - for non-production use only - expires 2026-11-23\n",
      "Set parameter TimeLimit to value 3600\n",
      "Restricted license - for non-production use only - expires 2026-11-23\n",
      "Set parameter TimeLimit to value 3600\n",
      "Restricted license - for non-production use only - expires 2026-11-23\n",
      "Set parameter TimeLimit to value 3600\n",
      "Restricted license - for non-production use only - expires 2026-11-23\n",
      "Set parameter TimeLimit to value 3600\n",
      "Restricted license - for non-production use only - expires 2026-11-23\n",
      "Set parameter TimeLimit to value 3600\n",
      "Restricted license - for non-production use only - expires 2026-11-23\n",
      "Set parameter TimeLimit to value 3600\n",
      "Restricted license - for non-production use only - expires 2026-11-23\n",
      "Set parameter TimeLimit to value 3600\n",
      "Restricted license - for non-production use only - expires 2026-11-23\n",
      "Set parameter TimeLimit to value 3600\n",
      "Restricted license - for non-production use only - expires 2026-11-23\n",
      "Set parameter TimeLimit to value 3600\n",
      "Restricted license - for non-production use only - expires 2026-11-23\n",
      "Set parameter TimeLimit to value 3600\n",
      "Restricted license - for non-production use only - expires 2026-11-23\n",
      "Set parameter TimeLimit to value 3600\n",
      "Restricted license - for non-production use only - expires 2026-11-23\n",
      "Set parameter TimeLimit to value 3600\n",
      "Restricted license - for non-production use only - expires 2026-11-23\n",
      "Set parameter TimeLimit to value 3600\n"
     ]
    },
    {
     "name": "stderr",
     "output_type": "stream",
     "text": [
      " 24%|██▎       | 71/300 [00:00<00:01, 123.99it/s]"
     ]
    },
    {
     "name": "stdout",
     "output_type": "stream",
     "text": [
      "Restricted license - for non-production use only - expires 2026-11-23\n",
      "Set parameter TimeLimit to value 3600\n",
      "Restricted license - for non-production use only - expires 2026-11-23\n",
      "Set parameter TimeLimit to value 3600\n",
      "Restricted license - for non-production use only - expires 2026-11-23\n",
      "Set parameter TimeLimit to value 3600\n",
      "Restricted license - for non-production use only - expires 2026-11-23\n",
      "Set parameter TimeLimit to value 3600\n",
      "Restricted license - for non-production use only - expires 2026-11-23\n",
      "Set parameter TimeLimit to value 3600\n",
      "Restricted license - for non-production use only - expires 2026-11-23\n",
      "Set parameter TimeLimit to value 3600\n",
      "Restricted license - for non-production use only - expires 2026-11-23\n",
      "Set parameter TimeLimit to value 3600\n",
      "Restricted license - for non-production use only - expires 2026-11-23\n",
      "Set parameter TimeLimit to value 3600\n",
      "Restricted license - for non-production use only - expires 2026-11-23\n",
      "Set parameter TimeLimit to value 3600\n",
      "Restricted license - for non-production use only - expires 2026-11-23\n",
      "Set parameter TimeLimit to value 3600\n",
      "Restricted license - for non-production use only - expires 2026-11-23\n",
      "Set parameter TimeLimit to value 3600\n",
      "Restricted license - for non-production use only - expires 2026-11-23\n",
      "Set parameter TimeLimit to value 3600\n",
      "Restricted license - for non-production use only - expires 2026-11-23\n",
      "Set parameter TimeLimit to value 3600\n",
      "Restricted license - for non-production use only - expires 2026-11-23\n",
      "Set parameter TimeLimit to value 3600\n",
      "Restricted license - for non-production use only - expires 2026-11-23\n",
      "Set parameter TimeLimit to value 3600\n",
      "Restricted license - for non-production use only - expires 2026-11-23\n",
      "Set parameter TimeLimit to value 3600\n",
      "Restricted license - for non-production use only - expires 2026-11-23\n",
      "Set parameter TimeLimit to value 3600\n",
      "Restricted license - for non-production use only - expires 2026-11-23\n",
      "Set parameter TimeLimit to value 3600\n",
      "Restricted license - for non-production use only - expires 2026-11-23\n",
      "Set parameter TimeLimit to value 3600\n",
      "Restricted license - for non-production use only - expires 2026-11-23\n",
      "Set parameter TimeLimit to value 3600\n"
     ]
    },
    {
     "name": "stderr",
     "output_type": "stream",
     "text": [
      " 30%|███       | 91/300 [00:00<00:01, 146.17it/s]"
     ]
    },
    {
     "name": "stdout",
     "output_type": "stream",
     "text": [
      "Restricted license - for non-production use only - expires 2026-11-23\n",
      "Set parameter TimeLimit to value 3600\n",
      "Restricted license - for non-production use only - expires 2026-11-23\n",
      "Set parameter TimeLimit to value 3600\n",
      "Restricted license - for non-production use only - expires 2026-11-23\n",
      "Set parameter TimeLimit to value 3600\n",
      "Restricted license - for non-production use only - expires 2026-11-23\n",
      "Set parameter TimeLimit to value 3600\n",
      "Restricted license - for non-production use only - expires 2026-11-23\n",
      "Set parameter TimeLimit to value 3600\n",
      "Restricted license - for non-production use only - expires 2026-11-23\n",
      "Set parameter TimeLimit to value 3600\n",
      "Restricted license - for non-production use only - expires 2026-11-23\n",
      "Set parameter TimeLimit to value 3600\n",
      "Restricted license - for non-production use only - expires 2026-11-23\n",
      "Set parameter TimeLimit to value 3600\n",
      "Restricted license - for non-production use only - expires 2026-11-23\n",
      "Set parameter TimeLimit to value 3600\n",
      "Restricted license - for non-production use only - expires 2026-11-23\n",
      "Set parameter TimeLimit to value 3600\n",
      "Restricted license - for non-production use only - expires 2026-11-23\n",
      "Set parameter TimeLimit to value 3600\n",
      "Restricted license - for non-production use only - expires 2026-11-23\n",
      "Set parameter TimeLimit to value 3600\n",
      "Restricted license - for non-production use only - expires 2026-11-23\n",
      "Set parameter TimeLimit to value 3600\n",
      "Restricted license - for non-production use only - expires 2026-11-23\n",
      "Set parameter TimeLimit to value 3600\n",
      "Restricted license - for non-production use only - expires 2026-11-23\n",
      "Set parameter TimeLimit to value 3600\n",
      "Restricted license - for non-production use only - expires 2026-11-23\n",
      "Set parameter TimeLimit to value 3600\n",
      "Restricted license - for non-production use only - expires 2026-11-23\n",
      "Set parameter TimeLimit to value 3600\n",
      "Restricted license - for non-production use only - expires 2026-11-23\n",
      "Set parameter TimeLimit to value 3600\n",
      "Restricted license - for non-production use only - expires 2026-11-23\n",
      "Set parameter TimeLimit to value 3600\n"
     ]
    },
    {
     "name": "stderr",
     "output_type": "stream",
     "text": [
      " 37%|███▋      | 110/300 [00:00<00:01, 157.95it/s]"
     ]
    },
    {
     "name": "stdout",
     "output_type": "stream",
     "text": [
      "Restricted license - for non-production use only - expires 2026-11-23\n",
      "Set parameter TimeLimit to value 3600\n",
      "Restricted license - for non-production use only - expires 2026-11-23\n",
      "Set parameter TimeLimit to value 3600\n",
      "Restricted license - for non-production use only - expires 2026-11-23\n",
      "Set parameter TimeLimit to value 3600\n",
      "Restricted license - for non-production use only - expires 2026-11-23\n",
      "Set parameter TimeLimit to value 3600\n",
      "Restricted license - for non-production use only - expires 2026-11-23\n",
      "Set parameter TimeLimit to value 3600\n",
      "Restricted license - for non-production use only - expires 2026-11-23\n",
      "Set parameter TimeLimit to value 3600\n",
      "Restricted license - for non-production use only - expires 2026-11-23\n",
      "Set parameter TimeLimit to value 3600\n",
      "Restricted license - for non-production use only - expires 2026-11-23\n",
      "Set parameter TimeLimit to value 3600\n",
      "Restricted license - for non-production use only - expires 2026-11-23\n",
      "Set parameter TimeLimit to value 3600\n",
      "Restricted license - for non-production use only - expires 2026-11-23\n",
      "Set parameter TimeLimit to value 3600\n",
      "Restricted license - for non-production use only - expires 2026-11-23\n",
      "Set parameter TimeLimit to value 3600\n",
      "Restricted license - for non-production use only - expires 2026-11-23\n",
      "Set parameter TimeLimit to value 3600\n",
      "Restricted license - for non-production use only - expires 2026-11-23\n",
      "Set parameter TimeLimit to value 3600\n",
      "Restricted license - for non-production use only - expires 2026-11-23\n",
      "Set parameter TimeLimit to value 3600\n",
      "Restricted license - for non-production use only - expires 2026-11-23\n",
      "Set parameter TimeLimit to value 3600\n",
      "Restricted license - for non-production use only - expires 2026-11-23\n",
      "Set parameter TimeLimit to value 3600\n",
      "Restricted license - for non-production use only - expires 2026-11-23\n",
      "Set parameter TimeLimit to value 3600\n"
     ]
    },
    {
     "name": "stderr",
     "output_type": "stream",
     "text": [
      " 42%|████▏     | 127/300 [00:01<00:01, 141.50it/s]"
     ]
    },
    {
     "name": "stdout",
     "output_type": "stream",
     "text": [
      "Restricted license - for non-production use only - expires 2026-11-23\n",
      "Set parameter TimeLimit to value 3600\n",
      "Restricted license - for non-production use only - expires 2026-11-23\n",
      "Set parameter TimeLimit to value 3600\n",
      "Restricted license - for non-production use only - expires 2026-11-23\n",
      "Set parameter TimeLimit to value 3600\n",
      "Restricted license - for non-production use only - expires 2026-11-23\n",
      "Set parameter TimeLimit to value 3600\n",
      "Restricted license - for non-production use only - expires 2026-11-23\n",
      "Set parameter TimeLimit to value 3600\n",
      "Restricted license - for non-production use only - expires 2026-11-23\n",
      "Set parameter TimeLimit to value 3600\n",
      "Restricted license - for non-production use only - expires 2026-11-23\n",
      "Set parameter TimeLimit to value 3600\n",
      "Restricted license - for non-production use only - expires 2026-11-23\n",
      "Set parameter TimeLimit to value 3600\n",
      "Restricted license - for non-production use only - expires 2026-11-23\n",
      "Set parameter TimeLimit to value 3600\n",
      "Restricted license - for non-production use only - expires 2026-11-23\n",
      "Set parameter TimeLimit to value 3600\n",
      "Restricted license - for non-production use only - expires 2026-11-23\n",
      "Set parameter TimeLimit to value 3600\n",
      "Restricted license - for non-production use only - expires 2026-11-23\n",
      "Set parameter TimeLimit to value 3600\n",
      "Restricted license - for non-production use only - expires 2026-11-23\n",
      "Set parameter TimeLimit to value 3600\n",
      "Restricted license - for non-production use only - expires 2026-11-23\n",
      "Set parameter TimeLimit to value 3600\n",
      "Restricted license - for non-production use only - expires 2026-11-23\n",
      "Set parameter TimeLimit to value 3600\n"
     ]
    },
    {
     "name": "stderr",
     "output_type": "stream",
     "text": [
      " 47%|████▋     | 142/300 [00:01<00:01, 131.44it/s]"
     ]
    },
    {
     "name": "stdout",
     "output_type": "stream",
     "text": [
      "Restricted license - for non-production use only - expires 2026-11-23\n",
      "Set parameter TimeLimit to value 3600\n",
      "Restricted license - for non-production use only - expires 2026-11-23\n",
      "Set parameter TimeLimit to value 3600\n",
      "Restricted license - for non-production use only - expires 2026-11-23\n",
      "Set parameter TimeLimit to value 3600\n",
      "Restricted license - for non-production use only - expires 2026-11-23\n",
      "Set parameter TimeLimit to value 3600\n",
      "Restricted license - for non-production use only - expires 2026-11-23\n",
      "Set parameter TimeLimit to value 3600\n",
      "Restricted license - for non-production use only - expires 2026-11-23\n",
      "Set parameter TimeLimit to value 3600\n",
      "Restricted license - for non-production use only - expires 2026-11-23\n",
      "Set parameter TimeLimit to value 3600\n",
      "Restricted license - for non-production use only - expires 2026-11-23\n",
      "Set parameter TimeLimit to value 3600\n",
      "Restricted license - for non-production use only - expires 2026-11-23\n",
      "Set parameter TimeLimit to value 3600\n",
      "Restricted license - for non-production use only - expires 2026-11-23\n",
      "Set parameter TimeLimit to value 3600\n",
      "Restricted license - for non-production use only - expires 2026-11-23\n",
      "Set parameter TimeLimit to value 3600\n",
      "Restricted license - for non-production use only - expires 2026-11-23\n",
      "Set parameter TimeLimit to value 3600\n",
      "Restricted license - for non-production use only - expires 2026-11-23\n",
      "Set parameter TimeLimit to value 3600\n",
      "Restricted license - for non-production use only - expires 2026-11-23\n",
      "Set parameter TimeLimit to value 3600\n"
     ]
    },
    {
     "name": "stderr",
     "output_type": "stream",
     "text": [
      " 52%|█████▏    | 156/300 [00:01<00:01, 125.80it/s]"
     ]
    },
    {
     "name": "stdout",
     "output_type": "stream",
     "text": [
      "Restricted license - for non-production use only - expires 2026-11-23\n",
      "Set parameter TimeLimit to value 3600\n",
      "Restricted license - for non-production use only - expires 2026-11-23\n",
      "Set parameter TimeLimit to value 3600\n",
      "Restricted license - for non-production use only - expires 2026-11-23\n",
      "Set parameter TimeLimit to value 3600\n",
      "Restricted license - for non-production use only - expires 2026-11-23\n",
      "Set parameter TimeLimit to value 3600\n",
      "Restricted license - for non-production use only - expires 2026-11-23\n",
      "Set parameter TimeLimit to value 3600\n",
      "Restricted license - for non-production use only - expires 2026-11-23\n",
      "Set parameter TimeLimit to value 3600\n",
      "Restricted license - for non-production use only - expires 2026-11-23\n",
      "Set parameter TimeLimit to value 3600\n",
      "Restricted license - for non-production use only - expires 2026-11-23\n",
      "Set parameter TimeLimit to value 3600\n",
      "Restricted license - for non-production use only - expires 2026-11-23\n",
      "Set parameter TimeLimit to value 3600\n",
      "Restricted license - for non-production use only - expires 2026-11-23\n",
      "Set parameter TimeLimit to value 3600\n",
      "Restricted license - for non-production use only - expires 2026-11-23\n",
      "Set parameter TimeLimit to value 3600\n",
      "Restricted license - for non-production use only - expires 2026-11-23\n",
      "Set parameter TimeLimit to value 3600\n",
      "Restricted license - for non-production use only - expires 2026-11-23\n",
      "Set parameter TimeLimit to value 3600\n"
     ]
    },
    {
     "name": "stderr",
     "output_type": "stream",
     "text": [
      " 56%|█████▋    | 169/300 [00:01<00:01, 121.38it/s]"
     ]
    },
    {
     "name": "stdout",
     "output_type": "stream",
     "text": [
      "Restricted license - for non-production use only - expires 2026-11-23\n",
      "Set parameter TimeLimit to value 3600\n",
      "Restricted license - for non-production use only - expires 2026-11-23\n",
      "Set parameter TimeLimit to value 3600\n",
      "Restricted license - for non-production use only - expires 2026-11-23\n",
      "Set parameter TimeLimit to value 3600\n",
      "Restricted license - for non-production use only - expires 2026-11-23\n",
      "Set parameter TimeLimit to value 3600\n",
      "Restricted license - for non-production use only - expires 2026-11-23\n",
      "Set parameter TimeLimit to value 3600\n",
      "Restricted license - for non-production use only - expires 2026-11-23\n",
      "Set parameter TimeLimit to value 3600\n",
      "Restricted license - for non-production use only - expires 2026-11-23\n",
      "Set parameter TimeLimit to value 3600\n",
      "Restricted license - for non-production use only - expires 2026-11-23\n",
      "Set parameter TimeLimit to value 3600\n",
      "Restricted license - for non-production use only - expires 2026-11-23\n",
      "Set parameter TimeLimit to value 3600\n",
      "Restricted license - for non-production use only - expires 2026-11-23\n",
      "Set parameter TimeLimit to value 3600\n",
      "Restricted license - for non-production use only - expires 2026-11-23\n",
      "Set parameter TimeLimit to value 3600\n",
      "Restricted license - for non-production use only - expires 2026-11-23\n",
      "Set parameter TimeLimit to value 3600\n",
      "Restricted license - for non-production use only - expires 2026-11-23\n",
      "Set parameter TimeLimit to value 3600\n"
     ]
    },
    {
     "name": "stderr",
     "output_type": "stream",
     "text": [
      " 61%|██████    | 182/300 [00:01<00:01, 114.58it/s]"
     ]
    },
    {
     "name": "stdout",
     "output_type": "stream",
     "text": [
      "Restricted license - for non-production use only - expires 2026-11-23\n",
      "Set parameter TimeLimit to value 3600\n",
      "Restricted license - for non-production use only - expires 2026-11-23\n",
      "Set parameter TimeLimit to value 3600\n",
      "Restricted license - for non-production use only - expires 2026-11-23\n",
      "Set parameter TimeLimit to value 3600\n",
      "Restricted license - for non-production use only - expires 2026-11-23\n",
      "Set parameter TimeLimit to value 3600\n",
      "Restricted license - for non-production use only - expires 2026-11-23\n",
      "Set parameter TimeLimit to value 3600\n",
      "Restricted license - for non-production use only - expires 2026-11-23\n",
      "Set parameter TimeLimit to value 3600\n",
      "Restricted license - for non-production use only - expires 2026-11-23\n",
      "Set parameter TimeLimit to value 3600\n",
      "Restricted license - for non-production use only - expires 2026-11-23\n",
      "Set parameter TimeLimit to value 3600\n",
      "Restricted license - for non-production use only - expires 2026-11-23\n",
      "Set parameter TimeLimit to value 3600\n",
      "Restricted license - for non-production use only - expires 2026-11-23\n",
      "Set parameter TimeLimit to value 3600\n",
      "Restricted license - for non-production use only - expires 2026-11-23\n",
      "Set parameter TimeLimit to value 3600\n",
      "Restricted license - for non-production use only - expires 2026-11-23\n",
      "Set parameter TimeLimit to value 3600\n"
     ]
    },
    {
     "name": "stderr",
     "output_type": "stream",
     "text": [
      " 65%|██████▍   | 194/300 [00:01<00:00, 111.47it/s]"
     ]
    },
    {
     "name": "stdout",
     "output_type": "stream",
     "text": [
      "Restricted license - for non-production use only - expires 2026-11-23\n",
      "Set parameter TimeLimit to value 3600\n",
      "Restricted license - for non-production use only - expires 2026-11-23\n",
      "Set parameter TimeLimit to value 3600\n",
      "Restricted license - for non-production use only - expires 2026-11-23\n",
      "Set parameter TimeLimit to value 3600\n",
      "Restricted license - for non-production use only - expires 2026-11-23\n",
      "Set parameter TimeLimit to value 3600\n",
      "Restricted license - for non-production use only - expires 2026-11-23\n",
      "Set parameter TimeLimit to value 3600\n",
      "Restricted license - for non-production use only - expires 2026-11-23\n",
      "Set parameter TimeLimit to value 3600\n",
      "Restricted license - for non-production use only - expires 2026-11-23\n",
      "Set parameter TimeLimit to value 3600\n",
      "Restricted license - for non-production use only - expires 2026-11-23\n",
      "Set parameter TimeLimit to value 3600\n",
      "Restricted license - for non-production use only - expires 2026-11-23\n",
      "Set parameter TimeLimit to value 3600\n",
      "Restricted license - for non-production use only - expires 2026-11-23\n",
      "Set parameter TimeLimit to value 3600\n",
      "Restricted license - for non-production use only - expires 2026-11-23\n",
      "Set parameter TimeLimit to value 3600\n",
      "Restricted license - for non-production use only - expires 2026-11-23\n",
      "Set parameter TimeLimit to value 3600\n"
     ]
    },
    {
     "name": "stderr",
     "output_type": "stream",
     "text": [
      " 69%|██████▊   | 206/300 [00:01<00:00, 110.67it/s]"
     ]
    },
    {
     "name": "stdout",
     "output_type": "stream",
     "text": [
      "Restricted license - for non-production use only - expires 2026-11-23\n",
      "Set parameter TimeLimit to value 3600\n",
      "Restricted license - for non-production use only - expires 2026-11-23\n",
      "Set parameter TimeLimit to value 3600\n",
      "Restricted license - for non-production use only - expires 2026-11-23\n",
      "Set parameter TimeLimit to value 3600\n",
      "Restricted license - for non-production use only - expires 2026-11-23\n",
      "Set parameter TimeLimit to value 3600\n",
      "Restricted license - for non-production use only - expires 2026-11-23\n",
      "Set parameter TimeLimit to value 3600\n",
      "Restricted license - for non-production use only - expires 2026-11-23\n",
      "Set parameter TimeLimit to value 3600\n",
      "Restricted license - for non-production use only - expires 2026-11-23\n",
      "Set parameter TimeLimit to value 3600\n",
      "Restricted license - for non-production use only - expires 2026-11-23\n",
      "Set parameter TimeLimit to value 3600\n",
      "Restricted license - for non-production use only - expires 2026-11-23\n",
      "Set parameter TimeLimit to value 3600\n",
      "Restricted license - for non-production use only - expires 2026-11-23\n",
      "Set parameter TimeLimit to value 3600\n",
      "Restricted license - for non-production use only - expires 2026-11-23\n",
      "Set parameter TimeLimit to value 3600\n",
      "Restricted license - for non-production use only - expires 2026-11-23\n",
      "Set parameter TimeLimit to value 3600\n"
     ]
    },
    {
     "name": "stderr",
     "output_type": "stream",
     "text": [
      " 73%|███████▎  | 218/300 [00:01<00:00, 98.19it/s] "
     ]
    },
    {
     "name": "stdout",
     "output_type": "stream",
     "text": [
      "Restricted license - for non-production use only - expires 2026-11-23\n",
      "Set parameter TimeLimit to value 3600\n",
      "Restricted license - for non-production use only - expires 2026-11-23\n",
      "Set parameter TimeLimit to value 3600\n",
      "Restricted license - for non-production use only - expires 2026-11-23\n",
      "Set parameter TimeLimit to value 3600\n",
      "Restricted license - for non-production use only - expires 2026-11-23\n",
      "Set parameter TimeLimit to value 3600\n",
      "Restricted license - for non-production use only - expires 2026-11-23\n",
      "Set parameter TimeLimit to value 3600\n",
      "Restricted license - for non-production use only - expires 2026-11-23\n",
      "Set parameter TimeLimit to value 3600\n",
      "Restricted license - for non-production use only - expires 2026-11-23\n",
      "Set parameter TimeLimit to value 3600\n",
      "Restricted license - for non-production use only - expires 2026-11-23\n",
      "Set parameter TimeLimit to value 3600\n",
      "Restricted license - for non-production use only - expires 2026-11-23\n",
      "Set parameter TimeLimit to value 3600\n",
      "Restricted license - for non-production use only - expires 2026-11-23\n",
      "Set parameter TimeLimit to value 3600\n",
      "Restricted license - for non-production use only - expires 2026-11-23\n",
      "Set parameter TimeLimit to value 3600\n"
     ]
    },
    {
     "name": "stderr",
     "output_type": "stream",
     "text": [
      " 76%|███████▋  | 229/300 [00:02<00:00, 91.64it/s]"
     ]
    },
    {
     "name": "stdout",
     "output_type": "stream",
     "text": [
      "Restricted license - for non-production use only - expires 2026-11-23\n",
      "Set parameter TimeLimit to value 3600\n",
      "Restricted license - for non-production use only - expires 2026-11-23\n",
      "Set parameter TimeLimit to value 3600\n",
      "Restricted license - for non-production use only - expires 2026-11-23\n",
      "Set parameter TimeLimit to value 3600\n",
      "Restricted license - for non-production use only - expires 2026-11-23\n",
      "Set parameter TimeLimit to value 3600\n",
      "Restricted license - for non-production use only - expires 2026-11-23\n",
      "Set parameter TimeLimit to value 3600\n",
      "Restricted license - for non-production use only - expires 2026-11-23\n",
      "Set parameter TimeLimit to value 3600\n",
      "Restricted license - for non-production use only - expires 2026-11-23\n",
      "Set parameter TimeLimit to value 3600\n",
      "Restricted license - for non-production use only - expires 2026-11-23\n",
      "Set parameter TimeLimit to value 3600\n",
      "Restricted license - for non-production use only - expires 2026-11-23\n",
      "Set parameter TimeLimit to value 3600\n",
      "Restricted license - for non-production use only - expires 2026-11-23\n",
      "Set parameter TimeLimit to value 3600\n"
     ]
    },
    {
     "name": "stderr",
     "output_type": "stream",
     "text": [
      " 80%|███████▉  | 239/300 [00:02<00:00, 89.62it/s]"
     ]
    },
    {
     "name": "stdout",
     "output_type": "stream",
     "text": [
      "Restricted license - for non-production use only - expires 2026-11-23\n",
      "Set parameter TimeLimit to value 3600\n",
      "Restricted license - for non-production use only - expires 2026-11-23\n",
      "Set parameter TimeLimit to value 3600\n",
      "Restricted license - for non-production use only - expires 2026-11-23\n",
      "Set parameter TimeLimit to value 3600\n",
      "Restricted license - for non-production use only - expires 2026-11-23\n",
      "Set parameter TimeLimit to value 3600\n",
      "Restricted license - for non-production use only - expires 2026-11-23\n",
      "Set parameter TimeLimit to value 3600\n",
      "Restricted license - for non-production use only - expires 2026-11-23\n",
      "Set parameter TimeLimit to value 3600\n",
      "Restricted license - for non-production use only - expires 2026-11-23\n",
      "Set parameter TimeLimit to value 3600\n",
      "Restricted license - for non-production use only - expires 2026-11-23\n",
      "Set parameter TimeLimit to value 3600\n",
      "Restricted license - for non-production use only - expires 2026-11-23\n",
      "Set parameter TimeLimit to value 3600\n",
      "Restricted license - for non-production use only - expires 2026-11-23\n",
      "Set parameter TimeLimit to value 3600\n",
      "Restricted license - for non-production use only - expires 2026-11-23\n",
      "Set parameter TimeLimit to value 3600\n",
      "Restricted license - for non-production use only - expires 2026-11-23\n",
      "Set parameter TimeLimit to value 3600\n"
     ]
    },
    {
     "name": "stderr",
     "output_type": "stream",
     "text": [
      " 84%|████████▎ | 251/300 [00:02<00:00, 94.94it/s]"
     ]
    },
    {
     "name": "stdout",
     "output_type": "stream",
     "text": [
      "Restricted license - for non-production use only - expires 2026-11-23\n",
      "Set parameter TimeLimit to value 3600\n",
      "Restricted license - for non-production use only - expires 2026-11-23\n",
      "Set parameter TimeLimit to value 3600\n",
      "Restricted license - for non-production use only - expires 2026-11-23\n",
      "Set parameter TimeLimit to value 3600\n",
      "Restricted license - for non-production use only - expires 2026-11-23\n",
      "Set parameter TimeLimit to value 3600\n",
      "Restricted license - for non-production use only - expires 2026-11-23\n",
      "Set parameter TimeLimit to value 3600\n",
      "Restricted license - for non-production use only - expires 2026-11-23\n",
      "Set parameter TimeLimit to value 3600\n",
      "Restricted license - for non-production use only - expires 2026-11-23\n",
      "Set parameter TimeLimit to value 3600\n",
      "Restricted license - for non-production use only - expires 2026-11-23\n",
      "Set parameter TimeLimit to value 3600\n",
      "Restricted license - for non-production use only - expires 2026-11-23\n",
      "Set parameter TimeLimit to value 3600\n",
      "Restricted license - for non-production use only - expires 2026-11-23\n",
      "Set parameter TimeLimit to value 3600\n"
     ]
    },
    {
     "name": "stderr",
     "output_type": "stream",
     "text": [
      " 87%|████████▋ | 261/300 [00:02<00:00, 94.08it/s]"
     ]
    },
    {
     "name": "stdout",
     "output_type": "stream",
     "text": [
      "Restricted license - for non-production use only - expires 2026-11-23\n",
      "Set parameter TimeLimit to value 3600\n",
      "Restricted license - for non-production use only - expires 2026-11-23\n",
      "Set parameter TimeLimit to value 3600\n",
      "Restricted license - for non-production use only - expires 2026-11-23\n",
      "Set parameter TimeLimit to value 3600\n",
      "Restricted license - for non-production use only - expires 2026-11-23\n",
      "Set parameter TimeLimit to value 3600\n",
      "Restricted license - for non-production use only - expires 2026-11-23\n",
      "Set parameter TimeLimit to value 3600\n",
      "Restricted license - for non-production use only - expires 2026-11-23\n",
      "Set parameter TimeLimit to value 3600\n",
      "Restricted license - for non-production use only - expires 2026-11-23\n",
      "Set parameter TimeLimit to value 3600\n",
      "Restricted license - for non-production use only - expires 2026-11-23\n",
      "Set parameter TimeLimit to value 3600\n",
      "Restricted license - for non-production use only - expires 2026-11-23\n",
      "Set parameter TimeLimit to value 3600\n",
      "Restricted license - for non-production use only - expires 2026-11-23\n",
      "Set parameter TimeLimit to value 3600\n"
     ]
    },
    {
     "name": "stderr",
     "output_type": "stream",
     "text": [
      " 90%|█████████ | 271/300 [00:02<00:00, 93.97it/s]"
     ]
    },
    {
     "name": "stdout",
     "output_type": "stream",
     "text": [
      "Restricted license - for non-production use only - expires 2026-11-23\n",
      "Set parameter TimeLimit to value 3600\n",
      "Restricted license - for non-production use only - expires 2026-11-23\n",
      "Set parameter TimeLimit to value 3600\n",
      "Restricted license - for non-production use only - expires 2026-11-23\n",
      "Set parameter TimeLimit to value 3600\n",
      "Restricted license - for non-production use only - expires 2026-11-23\n",
      "Set parameter TimeLimit to value 3600\n",
      "Restricted license - for non-production use only - expires 2026-11-23\n",
      "Set parameter TimeLimit to value 3600\n",
      "Restricted license - for non-production use only - expires 2026-11-23\n",
      "Set parameter TimeLimit to value 3600\n",
      "Restricted license - for non-production use only - expires 2026-11-23\n",
      "Set parameter TimeLimit to value 3600\n",
      "Restricted license - for non-production use only - expires 2026-11-23\n",
      "Set parameter TimeLimit to value 3600\n",
      "Restricted license - for non-production use only - expires 2026-11-23\n",
      "Set parameter TimeLimit to value 3600\n",
      "Restricted license - for non-production use only - expires 2026-11-23\n",
      "Set parameter TimeLimit to value 3600\n",
      "Restricted license - for non-production use only - expires 2026-11-23\n",
      "Set parameter TimeLimit to value 3600\n"
     ]
    },
    {
     "name": "stderr",
     "output_type": "stream",
     "text": [
      " 94%|█████████▍| 282/300 [00:02<00:00, 96.73it/s]"
     ]
    },
    {
     "name": "stdout",
     "output_type": "stream",
     "text": [
      "Restricted license - for non-production use only - expires 2026-11-23\n",
      "Set parameter TimeLimit to value 3600\n",
      "Restricted license - for non-production use only - expires 2026-11-23\n",
      "Set parameter TimeLimit to value 3600\n",
      "Restricted license - for non-production use only - expires 2026-11-23\n",
      "Set parameter TimeLimit to value 3600\n",
      "Restricted license - for non-production use only - expires 2026-11-23\n",
      "Set parameter TimeLimit to value 3600\n",
      "Restricted license - for non-production use only - expires 2026-11-23\n",
      "Set parameter TimeLimit to value 3600\n",
      "Restricted license - for non-production use only - expires 2026-11-23\n",
      "Set parameter TimeLimit to value 3600\n",
      "Restricted license - for non-production use only - expires 2026-11-23\n",
      "Set parameter TimeLimit to value 3600\n",
      "Restricted license - for non-production use only - expires 2026-11-23\n",
      "Set parameter TimeLimit to value 3600\n",
      "Restricted license - for non-production use only - expires 2026-11-23\n",
      "Set parameter TimeLimit to value 3600\n",
      "Restricted license - for non-production use only - expires 2026-11-23\n",
      "Set parameter TimeLimit to value 3600\n"
     ]
    },
    {
     "name": "stderr",
     "output_type": "stream",
     "text": [
      " 97%|█████████▋| 292/300 [00:02<00:00, 96.64it/s]"
     ]
    },
    {
     "name": "stdout",
     "output_type": "stream",
     "text": [
      "Restricted license - for non-production use only - expires 2026-11-23\n",
      "Set parameter TimeLimit to value 3600\n",
      "Restricted license - for non-production use only - expires 2026-11-23\n",
      "Set parameter TimeLimit to value 3600\n",
      "Restricted license - for non-production use only - expires 2026-11-23\n",
      "Set parameter TimeLimit to value 3600\n",
      "Restricted license - for non-production use only - expires 2026-11-23\n",
      "Set parameter TimeLimit to value 3600\n",
      "Restricted license - for non-production use only - expires 2026-11-23\n",
      "Set parameter TimeLimit to value 3600\n",
      "Restricted license - for non-production use only - expires 2026-11-23\n",
      "Set parameter TimeLimit to value 3600\n",
      "Restricted license - for non-production use only - expires 2026-11-23\n",
      "Set parameter TimeLimit to value 3600\n",
      "Restricted license - for non-production use only - expires 2026-11-23\n",
      "Set parameter TimeLimit to value 3600\n"
     ]
    },
    {
     "name": "stderr",
     "output_type": "stream",
     "text": [
      "100%|██████████| 300/300 [00:02<00:00, 107.01it/s]\n"
     ]
    }
   ],
   "source": [
    "valid_ds = []\n",
    "size_eq_mlip = []\n",
    "\n",
    "conf = yaml.safe_load(Path(hparams_path).read_text())\n",
    "n, p = conf['n'], conf['p']\n",
    "tt_g = 300\n",
    "graphs = []\n",
    "\n",
    "print(f'sampling {tt_g} x G{n, p}')\n",
    "for i in trange(tt_g):\n",
    "    g = prepare_graph(i, range(n, conf['delta_n']+1), p, milp_solve_mds, g_nx=True, attrs=conf['graph_attr'])\n",
    "    graphs.append(g)"
   ],
   "metadata": {
    "collapsed": false
   }
  },
  {
   "cell_type": "code",
   "execution_count": 42,
   "outputs": [
    {
     "name": "stdout",
     "output_type": "stream",
     "text": [
      "solving mds\n"
     ]
    },
    {
     "name": "stderr",
     "output_type": "stream",
     "text": [
      "100%|██████████| 300/300 [00:01<00:00, 172.89it/s]\n"
     ]
    }
   ],
   "source": [
    "print(f'solving mds')\n",
    "for g in tqdm(graphs):\n",
    "\n",
    "    # Perform an episode of actions\n",
    "    s = []\n",
    "    dqn_model.agent.reset(g)\n",
    "    for step in range(n):\n",
    "        action = dqn_model.agent.get_action(dqn_model.net, 0, 'cpu')\n",
    "        s.append(action)\n",
    "        g.x = g.x.clone()\n",
    "        g.x[action][0] = 1\n",
    "        if is_ds(g.nx, s):\n",
    "            break\n",
    "    g.s = s\n",
    "\n",
    "    valid_ds.append(all(v in s or len(g.nx[v].keys() & s) > 0 for v in g.nx))\n",
    "    size_eq_mlip.append(len(s) <= len([i for i in g.y if i]))"
   ],
   "metadata": {
    "collapsed": false
   }
  },
  {
   "cell_type": "code",
   "execution_count": 52,
   "outputs": [
    {
     "data": {
      "text/plain": "'apx-ratio 1.10 -- avg S_gnn 4.12 -- avg S* 3.78'"
     },
     "execution_count": 52,
     "metadata": {},
     "output_type": "execute_result"
    }
   ],
   "source": [
    "f'apx-ratio {sum(len(g.s)/(g.y == 1).sum() for g in graphs)/len(graphs):.2f} -- ' \\\n",
    "f'avg S_gnn {sum(len(g.s) for g in graphs)/len(graphs):.2f} -- ' \\\n",
    "f'avg S* {sum((g.y == 1).sum() for g in graphs)/len(graphs):.2f}'"
   ],
   "metadata": {
    "collapsed": false
   }
  },
  {
   "cell_type": "code",
   "execution_count": 44,
   "outputs": [
    {
     "name": "stdout",
     "output_type": "stream",
     "text": [
      "100.0% valid DS      69.66666666666667% equivalent to MILP\n"
     ]
    }
   ],
   "source": [
    "print(f'{100*sum(valid_ds)/tt_g}% valid DS      {100*sum(size_eq_mlip)/tt_g}% equivalent to MILP')"
   ],
   "metadata": {
    "collapsed": false
   }
  },
  {
   "cell_type": "code",
   "execution_count": 48,
   "outputs": [
    {
     "name": "stdout",
     "output_type": "stream",
     "text": [
      "{'batch_size': 5000, 'delta_n': 10, 'episode_length': 5000, 'eps_end': 0.05, 'eps_last_frame': 2000, 'eps_start': 1.0, 'gamma': 0.99, 'graph_attr': ['dominable_neighbors'], 'lr': 0.02, 'n': 10, 'n_step': 2, 'p': 0.15, 'replay_size': 100000, 's': 10000, 'sync_rate': 1024, 'validation_size': 300, 'warm_start_steps': 100000}\n"
     ]
    }
   ],
   "source": [
    "print(conf)"
   ],
   "metadata": {
    "collapsed": false
   }
  },
  {
   "cell_type": "code",
   "execution_count": 45,
   "outputs": [
    {
     "data": {
      "text/plain": "[0, 4, 7, 8]"
     },
     "execution_count": 45,
     "metadata": {},
     "output_type": "execute_result"
    }
   ],
   "source": [
    "graphs[0].s"
   ],
   "metadata": {
    "collapsed": false
   }
  },
  {
   "cell_type": "code",
   "execution_count": 46,
   "outputs": [
    {
     "name": "stdout",
     "output_type": "stream",
     "text": [
      "[0, 4, 7, 8]\n"
     ]
    },
    {
     "data": {
      "text/plain": "<Figure size 640x480 with 1 Axes>",
      "image/png": "[encoded data removed]"
     },
     "metadata": {},
     "output_type": "display_data"
    }
   ],
   "source": [
    "for g in graphs:\n",
    "    if len(g.s) == len([i for i in g.y if i]):\n",
    "        break\n",
    "g_n = g.nx\n",
    "\n",
    "try:\n",
    "    layout = nx.planar_layout(g_n)\n",
    "except:\n",
    "    layout = nx.drawing.spring_layout(g_n)\n",
    "\n",
    "node_colors = ['blue' if n in g.s else 'gray' for n in g.nx]\n",
    "nx.draw(g_n, with_labels=True, node_color=node_colors, pos=layout)\n",
    "print(g.s)"
   ],
   "metadata": {
    "collapsed": false
   }
  },
  {
   "cell_type": "code",
   "execution_count": 47,
   "outputs": [
    {
     "ename": "NameError",
     "evalue": "name 'agent' is not defined",
     "output_type": "error",
     "traceback": [
      "\u001B[0;31m---------------------------------------------------------------------------\u001B[0m",
      "\u001B[0;31mNameError\u001B[0m                                 Traceback (most recent call last)",
      "Cell \u001B[0;32mIn[47], line 2\u001B[0m\n\u001B[1;32m      1\u001B[0m edge_index, node_feats \u001B[38;5;241m=\u001B[39m g\u001B[38;5;241m.\u001B[39medge_index, torch\u001B[38;5;241m.\u001B[39mFloatTensor([[\u001B[38;5;241m1\u001B[39m]] \u001B[38;5;241m*\u001B[39m n)\n\u001B[0;32m----> 2\u001B[0m \u001B[43magent\u001B[49m\u001B[38;5;241m.\u001B[39mgnn(node_feats, edge_index)\u001B[38;5;241m.\u001B[39msqueeze()\n",
      "\u001B[0;31mNameError\u001B[0m: name 'agent' is not defined"
     ]
    }
   ],
   "source": [
    "edge_index, node_feats = g.edge_index, torch.FloatTensor([[1]] * n)\n",
    "agent.gnn(node_feats, edge_index).squeeze()"
   ],
   "metadata": {
    "collapsed": false
   }
  }
 ],
 "metadata": {
  "kernelspec": {
   "display_name": "Python 3",
   "language": "python",
   "name": "python3"
  },
  "language_info": {
   "codemirror_mode": {
    "name": "ipython",
    "version": 2
   },
   "file_extension": ".py",
   "mimetype": "text/x-python",
   "name": "python",
   "nbconvert_exporter": "python",
   "pygments_lexer": "ipython2",
   "version": "2.7.6"
  }
 },
 "nbformat": 4,
 "nbformat_minor": 0
}
