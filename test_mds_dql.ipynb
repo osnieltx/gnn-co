{
 "cells": [
  {
   "cell_type": "code",
   "execution_count": 1,
   "outputs": [],
   "source": [
    "import networkx as nx\n",
    "import torch\n",
    "from tqdm import trange, tqdm\n",
    "\n",
    "from dql import DQGN, Agent\n",
    "from graph import milp_solve_mds, prepare_graph, mds_is_solved"
   ],
   "metadata": {
    "collapsed": false
   }
  },
  {
   "cell_type": "code",
   "execution_count": null,
   "outputs": [
    {
     "name": "stdout",
     "output_type": "stream",
     "text": [
      "sampling and solving 500 x G(100, 0.15)\n"
     ]
    },
    {
     "name": "stderr",
     "output_type": "stream",
     "text": [
      " 56%|█████▋    | 282/500 [14:30<09:02,  2.49s/graph]"
     ]
    }
   ],
   "source": [
    "n, p = 100, .15\n",
    "tt_g = 500\n",
    "graphs = []\n",
    "\n",
    "print(f'sampling and solving {tt_g} x G{n, p}')\n",
    "for i in trange(tt_g, unit='graph'):\n",
    "    g = prepare_graph(i, range(n, n+1), p, milp_solve_mds, g_nx=True)\n",
    "    graphs.append(g)"
   ],
   "metadata": {
    "collapsed": false,
    "pycharm": {
     "is_executing": true
    }
   }
  },
  {
   "cell_type": "code",
   "execution_count": null,
   "outputs": [],
   "source": [
    "ckp_path = './experiments/2024-12-10-2120/version_0/checkpoints/epoch=839-step=840.ckpt'\n",
    "device = torch.device('cpu')\n",
    "checkpoint = torch.load(ckp_path, map_location=device)\n",
    "hyper_parameters = checkpoint['hyper_parameters']\n",
    "\n",
    "state_dict = {k.replace('net.', ''): v for k, v in checkpoint['state_dict'].items() if 'target' not in k}\n",
    "state_dict.pop('loss_module.pos_weight', None)\n",
    "\n",
    "c_in = graphs[0].x.shape[1]\n",
    "gnn = DQGN(c_in=c_in)\n",
    "gnn.load_state_dict(state_dict)\n",
    "gnn.eval()\n",
    "gnn"
   ],
   "metadata": {
    "collapsed": false,
    "pycharm": {
     "is_executing": true
    }
   }
  },
  {
   "cell_type": "code",
   "execution_count": null,
   "outputs": [],
   "source": [
    "agent = Agent(n, p, None, None, None, graphs)"
   ],
   "metadata": {
    "collapsed": false,
    "pycharm": {
     "is_executing": true
    }
   }
  },
  {
   "cell_type": "code",
   "execution_count": null,
   "outputs": [],
   "source": [
    "valid_ds = []\n",
    "size_eq_mlip = []\n",
    "apx_ratio = []\n",
    "gap = []\n",
    "\n",
    "print(f'testing agent on mds')\n",
    "for g in tqdm(graphs, unit='graph'):\n",
    "    agent.reset(g)\n",
    "    # Perform an episode of actions\n",
    "    for step in range(n):\n",
    "        rwd, done = agent.play_validation_step(gnn, 'cpu')\n",
    "        if done:\n",
    "            break\n",
    "    g.s = {i for i, v in enumerate(agent.state.x) if v == 1}\n",
    "\n",
    "    valid_ds.append(all(v in g.s or len(g.nx[v].keys() & g.s) > 0 for v in g.nx))\n",
    "    len_sol = len([i for i in g.y if i])\n",
    "    size_eq_mlip.append(len(g.s) <= len_sol)\n",
    "    apx_ratio.append(len(g.s)/len_sol)\n",
    "    gap.append(len_sol/len(g.s))"
   ],
   "metadata": {
    "collapsed": false,
    "pycharm": {
     "is_executing": true
    }
   }
  },
  {
   "cell_type": "code",
   "execution_count": null,
   "outputs": [],
   "source": [
    "print(f'{100*sum(valid_ds)/tt_g}% valid DS      {100*sum(size_eq_mlip)/tt_g}% equivalent to MILP        {sum(apx_ratio)/tt_g:.3f} apx ratio         {1-sum(gap)/tt_g:.3f} gap')"
   ],
   "metadata": {
    "collapsed": false,
    "pycharm": {
     "is_executing": true
    }
   }
  },
  {
   "cell_type": "code",
   "execution_count": null,
   "outputs": [],
   "source": [
    "g_gen = (g for g in graphs if len(g.s) == len([i for i in g.y if i]))"
   ],
   "metadata": {
    "collapsed": false,
    "pycharm": {
     "is_executing": true
    }
   }
  },
  {
   "cell_type": "code",
   "execution_count": null,
   "outputs": [],
   "source": [
    "g = next(g_gen)\n",
    "g_n = g.nx\n",
    "\n",
    "try:\n",
    "    layout = nx.planar_layout(g_n)\n",
    "except:\n",
    "    layout = nx.drawing.spring_layout(g_n)\n",
    "\n",
    "node_colors = ['blue' if n in g.s else 'gray' for n in g.nx]\n",
    "nx.draw(g_n, with_labels=True, node_color=node_colors, pos=layout)\n",
    "y = {i for i, v in enumerate(g.y) if v}\n",
    "print(f'{g.s=} {y=}')"
   ],
   "metadata": {
    "collapsed": false,
    "pycharm": {
     "is_executing": true
    }
   }
  },
  {
   "cell_type": "code",
   "execution_count": null,
   "outputs": [],
   "source": [
    "edge_index, node_feats = g.edge_index, torch.FloatTensor([[0]] * n)\n",
    "q_values = gnn(node_feats, edge_index).squeeze().tolist()\n",
    "sorted(enumerate(q_values), key=lambda qv: qv[1], reverse=True)"
   ],
   "metadata": {
    "collapsed": false,
    "pycharm": {
     "is_executing": true
    }
   }
  },
  {
   "cell_type": "code",
   "execution_count": null,
   "outputs": [],
   "source": [
    "edge_index, node_feats = g.edge_index, torch.FloatTensor([[1], [0], [1], [1], [0], [0], [0], [0], [0], [0]])\n",
    "q_values = gnn(node_feats, edge_index).squeeze().tolist()\n",
    "sorted(enumerate(q_values), key=lambda qv: qv[1], reverse=True)"
   ],
   "metadata": {
    "collapsed": false,
    "pycharm": {
     "is_executing": true
    }
   }
  },
  {
   "cell_type": "code",
   "execution_count": null,
   "outputs": [],
   "source": [],
   "metadata": {
    "collapsed": false,
    "pycharm": {
     "is_executing": true
    }
   }
  }
 ],
 "metadata": {
  "kernelspec": {
   "display_name": "Python 3",
   "language": "python",
   "name": "python3"
  },
  "language_info": {
   "codemirror_mode": {
    "name": "ipython",
    "version": 2
   },
   "file_extension": ".py",
   "mimetype": "text/x-python",
   "name": "python",
   "nbconvert_exporter": "python",
   "pygments_lexer": "ipython2",
   "version": "2.7.6"
  }
 },
 "nbformat": 4,
 "nbformat_minor": 0
}
