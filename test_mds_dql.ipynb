{
 "cells": [
  {
   "cell_type": "code",
   "execution_count": 12,
   "outputs": [],
   "source": [
    "import networkx as nx\n",
    "import torch\n",
    "from tqdm import trange, tqdm\n",
    "\n",
    "from dql import DQGN, Agent\n",
    "from graph import milp_solve_mds, prepare_graph, mds_is_solved"
   ],
   "metadata": {
    "collapsed": false
   }
  },
  {
   "cell_type": "code",
   "execution_count": 107,
   "outputs": [
    {
     "name": "stdout",
     "output_type": "stream",
     "text": [
      "sampling 10000 x G(10, 0.15)\n"
     ]
    },
    {
     "name": "stderr",
     "output_type": "stream",
     "text": [
      "100%|██████████| 10000/10000 [00:20<00:00, 486.86it/s]\n"
     ]
    }
   ],
   "source": [
    "n, p = 10, .15\n",
    "tt_g = 10000\n",
    "graphs = []\n",
    "\n",
    "print(f'sampling {tt_g} x G{n, p}')\n",
    "for i in trange(tt_g):\n",
    "    g = prepare_graph(i, n, p, milp_solve_mds, g_nx=True)\n",
    "    graphs.append(g)"
   ],
   "metadata": {
    "collapsed": false
   }
  },
  {
   "cell_type": "code",
   "execution_count": 108,
   "outputs": [
    {
     "data": {
      "text/plain": "DQGN(\n  (layers): ModuleList(\n    (0): GCNConv(1, 64)\n    (1): ReLU(inplace=True)\n    (2): GCNConv(64, 64)\n    (3): ReLU(inplace=True)\n    (4): GCNConv(64, 64)\n    (5): ReLU(inplace=True)\n    (6): GCNConv(64, 64)\n    (7): ReLU(inplace=True)\n    (8): GCNConv(64, 64)\n    (9): ReLU(inplace=True)\n    (10): GCNConv(64, 64)\n    (11): ReLU(inplace=True)\n    (12): GCNConv(64, 64)\n    (13): ReLU(inplace=True)\n    (14): GCNConv(64, 64)\n    (15): ReLU(inplace=True)\n    (16): GCNConv(64, 64)\n    (17): ReLU(inplace=True)\n  )\n  (node_transform): Linear(in_features=64, out_features=64, bias=False)\n  (neig_transform): Linear(in_features=64, out_features=64, bias=False)\n  (aggr_transform): Linear(in_features=128, out_features=1, bias=False)\n  (relu): ReLU(inplace=True)\n  (tanh): Tanh()\n)"
     },
     "execution_count": 108,
     "metadata": {},
     "output_type": "execute_result"
    }
   ],
   "source": [
    "ckp_path = './experiments/2024-11-07-1213/version_0/checkpoints/epoch=19-step=19.ckpt'\n",
    "device = torch.device('cpu')\n",
    "checkpoint = torch.load(ckp_path, map_location=device)\n",
    "hyper_parameters = checkpoint['hyper_parameters']\n",
    "\n",
    "state_dict = {k.replace('net.', ''): v for k, v in checkpoint['state_dict'].items() if 'target' not in k}\n",
    "state_dict.pop('loss_module.pos_weight', None)\n",
    "\n",
    "c_in = graphs[0].x.shape[1]\n",
    "gnn = DQGN(c_in=c_in, n=n)\n",
    "gnn.load_state_dict(state_dict)\n",
    "gnn.eval()\n",
    "gnn"
   ],
   "metadata": {
    "collapsed": false
   }
  },
  {
   "cell_type": "code",
   "execution_count": 109,
   "outputs": [],
   "source": [
    "agent = Agent(n, p, None, None, None, graphs)"
   ],
   "metadata": {
    "collapsed": false
   }
  },
  {
   "cell_type": "code",
   "execution_count": 110,
   "outputs": [
    {
     "name": "stdout",
     "output_type": "stream",
     "text": [
      "solving mds\n"
     ]
    },
    {
     "name": "stderr",
     "output_type": "stream",
     "text": [
      "100%|██████████| 10000/10000 [01:41<00:00, 98.70it/s] \n"
     ]
    }
   ],
   "source": [
    "valid_ds = []\n",
    "size_eq_mlip = []\n",
    "apx_ratio = []\n",
    "\n",
    "print(f'solving mds')\n",
    "for g in tqdm(graphs):\n",
    "    agent.state = g\n",
    "    # Perform an episode of actions\n",
    "    for step in range(n):\n",
    "        rwd, done = agent.play_validation_step(gnn, 'cpu')\n",
    "        if done:\n",
    "            break\n",
    "    g.s = {i for i, v in enumerate(agent.state.x) if v == 1}\n",
    "\n",
    "    valid_ds.append(all(v in g.s or len(g.nx[v].keys() & g.s) > 0 for v in g.nx))\n",
    "    len_sol = len([i for i in g.y if i])\n",
    "    size_eq_mlip.append(len(g.s) <= len_sol)\n",
    "    apx_ratio.append(len(g.s)/len_sol)"
   ],
   "metadata": {
    "collapsed": false
   }
  },
  {
   "cell_type": "code",
   "execution_count": 111,
   "outputs": [
    {
     "name": "stdout",
     "output_type": "stream",
     "text": [
      "100.0% valid DS      4.26% equivalent to MILP        1.812 apx ratio\n"
     ]
    }
   ],
   "source": [
    "print(f'{100*sum(valid_ds)/tt_g}% valid DS      {100*sum(size_eq_mlip)/tt_g}% equivalent to MILP        {sum(apx_ratio)/tt_g:.3f} apx ratio')"
   ],
   "metadata": {
    "collapsed": false
   }
  },
  {
   "cell_type": "code",
   "execution_count": 112,
   "outputs": [],
   "source": [
    "g_gen = (g for g in graphs if len(g.s) > len([i for i in g.y if i]))"
   ],
   "metadata": {
    "collapsed": false
   }
  },
  {
   "cell_type": "code",
   "execution_count": 113,
   "outputs": [
    {
     "name": "stdout",
     "output_type": "stream",
     "text": [
      "{0, 1, 2, 3, 4, 5, 6, 7}\n"
     ]
    },
    {
     "data": {
      "text/plain": "<Figure size 640x480 with 1 Axes>",
      "image/png": "[encoded data removed]"
     },
     "metadata": {},
     "output_type": "display_data"
    }
   ],
   "source": [
    "g = next(g_gen)\n",
    "g_n = g.nx\n",
    "\n",
    "try:\n",
    "    layout = nx.planar_layout(g_n)\n",
    "except:\n",
    "    layout = nx.drawing.spring_layout(g_n)\n",
    "\n",
    "node_colors = ['blue' if n in g.s else 'gray' for n in g.nx]\n",
    "nx.draw(g_n, with_labels=True, node_color=node_colors, pos=layout)\n",
    "print(g.s)"
   ],
   "metadata": {
    "collapsed": false
   }
  },
  {
   "cell_type": "code",
   "execution_count": 114,
   "outputs": [
    {
     "data": {
      "text/plain": "[(0, -1.0),\n (1, -1.0),\n (2, -1.0),\n (3, -1.0),\n (4, -1.0),\n (5, -1.0),\n (6, -1.0),\n (7, -1.0),\n (8, -1.0),\n (9, -1.0)]"
     },
     "execution_count": 114,
     "metadata": {},
     "output_type": "execute_result"
    }
   ],
   "source": [
    "edge_index, node_feats = g.edge_index, torch.FloatTensor([[0]] * n)\n",
    "q_values = gnn(node_feats, edge_index).squeeze().tolist()\n",
    "sorted(enumerate(q_values), key=lambda qv: qv[1], reverse=True)"
   ],
   "metadata": {
    "collapsed": false
   }
  },
  {
   "cell_type": "code",
   "execution_count": 115,
   "outputs": [
    {
     "data": {
      "text/plain": "[(0, -1.0),\n (1, -1.0),\n (2, -1.0),\n (3, -1.0),\n (4, -1.0),\n (5, -1.0),\n (6, -1.0),\n (7, -1.0),\n (8, -1.0),\n (9, -1.0)]"
     },
     "execution_count": 115,
     "metadata": {},
     "output_type": "execute_result"
    }
   ],
   "source": [
    "edge_index, node_feats = g.edge_index, torch.FloatTensor([[0], [0], [1], [1], [1], [0], [0], [0], [0], [0]])\n",
    "q_values = gnn(node_feats, edge_index).squeeze().tolist()\n",
    "sorted(enumerate(q_values), key=lambda qv: qv[1], reverse=True)"
   ],
   "metadata": {
    "collapsed": false
   }
  },
  {
   "cell_type": "code",
   "execution_count": 115,
   "outputs": [],
   "source": [],
   "metadata": {
    "collapsed": false
   }
  }
 ],
 "metadata": {
  "kernelspec": {
   "display_name": "Python 3",
   "language": "python",
   "name": "python3"
  },
  "language_info": {
   "codemirror_mode": {
    "name": "ipython",
    "version": 2
   },
   "file_extension": ".py",
   "mimetype": "text/x-python",
   "name": "python",
   "nbconvert_exporter": "python",
   "pygments_lexer": "ipython2",
   "version": "2.7.6"
  }
 },
 "nbformat": 4,
 "nbformat_minor": 0
}
