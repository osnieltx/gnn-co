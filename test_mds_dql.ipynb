{
 "cells": [
  {
   "cell_type": "code",
   "execution_count": 4,
   "outputs": [],
   "source": [
    "import gurobi_manager\n",
    "\n",
    "gurobi_manager.options = {\n",
    "    'WLSACCESSID': '023dd6c9-cfb8-4f1b-a33c-77f3682d6631',\n",
    "    'WLSSECRET': 'd7d09c3c-39c0-42dd-9f4d-4fae36615968',\n",
    "    'LICENSEID': 2589125\n",
    "}"
   ],
   "metadata": {
    "collapsed": false
   }
  },
  {
   "cell_type": "code",
   "execution_count": 5,
   "outputs": [],
   "source": [
    "import networkx as nx\n",
    "import torch\n",
    "from tqdm import tqdm\n",
    "\n",
    "from dql import DQGN, Agent\n",
    "\n",
    "from graph import milp_solve_mds, generate_graphs"
   ],
   "metadata": {
    "collapsed": false
   }
  },
  {
   "cell_type": "code",
   "execution_count": 6,
   "outputs": [
    {
     "name": "stdout",
     "output_type": "stream",
     "text": [
      "Sampling 1000 instances from G(range(100, 101), 0.15)...\n"
     ]
    },
    {
     "name": "stderr",
     "output_type": "stream",
     "text": [
      "  0%|          | 0/1000 [00:00<?, ?graph/s]"
     ]
    },
    {
     "name": "stdout",
     "output_type": "stream",
     "text": [
      "Restricted license - for non-production use only - expires 2026-11-23\n",
      "Set parameter TimeLimit to value 3600\n",
      "Restricted license - for non-production use only - expires 2026-11-23\n",
      "Set parameter TimeLimit to value 3600\n",
      "Restricted license - for non-production use only - expires 2026-11-23\n",
      "Set parameter TimeLimit to value 3600\n",
      "Restricted license - for non-production use only - expires 2026-11-23\n",
      "Set parameter TimeLimit to value 3600\n",
      "Restricted license - for non-production use only - expires 2026-11-23\n",
      "Set parameter TimeLimit to value 3600\n",
      "Restricted license - for non-production use only - expires 2026-11-23\n",
      "Set parameter TimeLimit to value 3600\n",
      "Restricted license - for non-production use only - expires 2026-11-23\n",
      "Set parameter TimeLimit to value 3600\n",
      "Restricted license - for non-production use only - expires 2026-11-23\n",
      "Set parameter TimeLimit to value 3600\n"
     ]
    },
    {
     "name": "stderr",
     "output_type": "stream",
     "text": [
      "  0%|          | 1/1000 [00:03<50:54,  3.06s/graph]"
     ]
    },
    {
     "name": "stdout",
     "output_type": "stream",
     "text": [
      "Restricted license - for non-production use only - expires 2026-11-23\n",
      "Set parameter TimeLimit to value 3600\n"
     ]
    },
    {
     "name": "stderr",
     "output_type": "stream",
     "text": [
      "  0%|          | 2/1000 [00:03<25:25,  1.53s/graph]"
     ]
    },
    {
     "name": "stdout",
     "output_type": "stream",
     "text": [
      "Restricted license - for non-production use only - expires 2026-11-23\n",
      "Set parameter TimeLimit to value 3600\n"
     ]
    },
    {
     "name": "stderr",
     "output_type": "stream",
     "text": [
      "  0%|          | 3/1000 [00:03<15:41,  1.06graph/s]"
     ]
    },
    {
     "name": "stdout",
     "output_type": "stream",
     "text": [
      "Restricted license - for non-production use only - expires 2026-11-23\n",
      "Set parameter TimeLimit to value 3600\n",
      "Restricted license - for non-production use only - expires 2026-11-23\n",
      "Set parameter TimeLimit to value 3600\n",
      "Restricted license - for non-production use only - expires 2026-11-23\n",
      "Set parameter TimeLimit to value 3600\n",
      "Restricted license - for non-production use only - expires 2026-11-23\n"
     ]
    },
    {
     "name": "stderr",
     "output_type": "stream",
     "text": [
      "  1%|          | 8/1000 [00:04<04:20,  3.81graph/s]"
     ]
    },
    {
     "name": "stdout",
     "output_type": "stream",
     "text": [
      "Set parameter TimeLimit to value 3600\n",
      "Restricted license - for non-production use only - expires 2026-11-23\n",
      "Set parameter TimeLimit to value 3600\n",
      "Restricted license - for non-production use only - expires 2026-11-23\n",
      "Set parameter TimeLimit to value 3600\n"
     ]
    },
    {
     "name": "stderr",
     "output_type": "stream",
     "text": [
      "  1%|          | 9/1000 [00:04<03:48,  4.33graph/s]"
     ]
    },
    {
     "name": "stdout",
     "output_type": "stream",
     "text": [
      "Restricted license - for non-production use only - expires 2026-11-23\n",
      "Set parameter TimeLimit to value 3600\n"
     ]
    },
    {
     "name": "stderr",
     "output_type": "stream",
     "text": [
      "  1%|          | 12/1000 [00:04<02:36,  6.31graph/s]"
     ]
    },
    {
     "name": "stdout",
     "output_type": "stream",
     "text": [
      "Restricted license - for non-production use only - expires 2026-11-23\n",
      "Set parameter TimeLimit to value 3600\n",
      "Restricted license - for non-production use only - expires 2026-11-23\n",
      "Set parameter TimeLimit to value 3600\n",
      "Restricted license - for non-production use only - expires 2026-11-23\n",
      "Set parameter TimeLimit to value 3600\n",
      "Restricted license - for non-production use only - expires 2026-11-23\n",
      "Set parameter TimeLimit to value 3600\n"
     ]
    },
    {
     "name": "stderr",
     "output_type": "stream",
     "text": [
      "  2%|▏         | 15/1000 [00:05<02:47,  5.87graph/s]"
     ]
    },
    {
     "name": "stdout",
     "output_type": "stream",
     "text": [
      "Restricted license - for non-production use only - expires 2026-11-23\n",
      "Set parameter TimeLimit to value 3600\n",
      "Restricted license - for non-production use only - expires 2026-11-23\n",
      "Set parameter TimeLimit to value 3600\n"
     ]
    },
    {
     "name": "stderr",
     "output_type": "stream",
     "text": [
      "  2%|▏         | 17/1000 [00:05<02:54,  5.63graph/s]"
     ]
    },
    {
     "name": "stdout",
     "output_type": "stream",
     "text": [
      "Restricted license - for non-production use only - expires 2026-11-23\n",
      "Set parameter TimeLimit to value 3600\n",
      "Restricted license - for non-production use only - expires 2026-11-23\n",
      "Set parameter TimeLimit to value 3600\n"
     ]
    },
    {
     "name": "stderr",
     "output_type": "stream",
     "text": [
      "  2%|▏         | 20/1000 [00:05<02:10,  7.52graph/s]"
     ]
    },
    {
     "name": "stdout",
     "output_type": "stream",
     "text": [
      "Restricted license - for non-production use only - expires 2026-11-23\n",
      "Set parameter TimeLimit to value 3600\n",
      "Restricted license - for non-production use only - expires 2026-11-23\n",
      "Set parameter TimeLimit to value 3600\n",
      "Restricted license - for non-production use only - expires 2026-11-23\n",
      "Set parameter TimeLimit to value 3600\n",
      "Restricted license - for non-production use only - expires 2026-11-23\n",
      "Set parameter TimeLimit to value 3600\n"
     ]
    },
    {
     "name": "stderr",
     "output_type": "stream",
     "text": [
      "  2%|▏         | 24/1000 [00:06<02:19,  6.99graph/s]"
     ]
    },
    {
     "name": "stdout",
     "output_type": "stream",
     "text": [
      "Restricted license - for non-production use only - expires 2026-11-23\n",
      "Set parameter TimeLimit to value 3600\n",
      "Restricted license - for non-production use only - expires 2026-11-23\n",
      "Set parameter TimeLimit to value 3600\n",
      "Restricted license - for non-production use only - expires 2026-11-23\n",
      "Set parameter TimeLimit to value 3600\n"
     ]
    },
    {
     "name": "stderr",
     "output_type": "stream",
     "text": [
      "  3%|▎         | 29/1000 [00:07<01:58,  8.20graph/s]"
     ]
    },
    {
     "name": "stdout",
     "output_type": "stream",
     "text": [
      "Restricted license - for non-production use only - expires 2026-11-23\n",
      "Set parameter TimeLimit to value 3600\n",
      "Restricted license - for non-production use only - expires 2026-11-23\n",
      "Set parameter TimeLimit to value 3600\n",
      "Restricted license - for non-production use only - expires 2026-11-23\n",
      "Set parameter TimeLimit to value 3600\n",
      "Restricted license - for non-production use only - expires 2026-11-23\n",
      "Set parameter TimeLimit to value 3600\n",
      "Restricted license - for non-production use only - expires 2026-11-23\n",
      "Set parameter TimeLimit to value 3600\n",
      "Restricted license - for non-production use only - expires 2026-11-23\n",
      "Set parameter TimeLimit to value 3600\n"
     ]
    },
    {
     "name": "stderr",
     "output_type": "stream",
     "text": [
      "  3%|▎         | 32/1000 [00:07<02:31,  6.39graph/s]"
     ]
    },
    {
     "name": "stdout",
     "output_type": "stream",
     "text": [
      "Restricted license - for non-production use only - expires 2026-11-23\n",
      "Set parameter TimeLimit to value 3600\n",
      "Restricted license - for non-production use only - expires 2026-11-23\n",
      "Set parameter TimeLimit to value 3600\n"
     ]
    },
    {
     "name": "stderr",
     "output_type": "stream",
     "text": [
      "  3%|▎         | 33/1000 [00:08<02:38,  6.08graph/s]"
     ]
    },
    {
     "name": "stdout",
     "output_type": "stream",
     "text": [
      "Restricted license - for non-production use only - expires 2026-11-23\n",
      "Set parameter TimeLimit to value 3600\n",
      "Restricted license - for non-production use only - expires 2026-11-23\n",
      "Set parameter TimeLimit to value 3600\n"
     ]
    },
    {
     "name": "stderr",
     "output_type": "stream",
     "text": [
      "  4%|▎         | 35/1000 [00:08<02:34,  6.26graph/s]"
     ]
    },
    {
     "name": "stdout",
     "output_type": "stream",
     "text": [
      "Restricted license - for non-production use only - expires 2026-11-23\n",
      "Set parameter TimeLimit to value 3600\n",
      "Restricted license - for non-production use only - expires 2026-11-23\n",
      "Set parameter TimeLimit to value 3600\n"
     ]
    },
    {
     "name": "stderr",
     "output_type": "stream",
     "text": [
      "  4%|▍         | 38/1000 [00:09<03:01,  5.30graph/s]"
     ]
    },
    {
     "name": "stdout",
     "output_type": "stream",
     "text": [
      "Restricted license - for non-production use only - expires 2026-11-23\n",
      "Set parameter TimeLimit to value 3600\n",
      "Restricted license - for non-production use only - expires 2026-11-23\n",
      "Set parameter TimeLimit to value 3600\n"
     ]
    },
    {
     "name": "stderr",
     "output_type": "stream",
     "text": [
      "  4%|▍         | 40/1000 [00:09<02:33,  6.24graph/s]"
     ]
    },
    {
     "name": "stdout",
     "output_type": "stream",
     "text": [
      "Restricted license - for non-production use only - expires 2026-11-23\n",
      "Set parameter TimeLimit to value 3600\n",
      "Restricted license - for non-production use only - expires 2026-11-23\n",
      "Set parameter TimeLimit to value 3600\n",
      "Restricted license - for non-production use only - expires 2026-11-23\n",
      "Set parameter TimeLimit to value 3600\n"
     ]
    },
    {
     "name": "stderr",
     "output_type": "stream",
     "text": [
      "  4%|▍         | 44/1000 [00:09<01:59,  7.99graph/s]"
     ]
    },
    {
     "name": "stdout",
     "output_type": "stream",
     "text": [
      "Restricted license - for non-production use only - expires 2026-11-23\n",
      "Set parameter TimeLimit to value 3600\n",
      "Restricted license - for non-production use only - expires 2026-11-23\n",
      "Set parameter TimeLimit to value 3600\n",
      "Restricted license - for non-production use only - expires 2026-11-23\n",
      "Set parameter TimeLimit to value 3600\n",
      "Restricted license - for non-production use only - expires 2026-11-23\n",
      "Set parameter TimeLimit to value 3600\n"
     ]
    },
    {
     "name": "stderr",
     "output_type": "stream",
     "text": [
      "  5%|▍         | 46/1000 [00:10<02:06,  7.57graph/s]"
     ]
    },
    {
     "name": "stdout",
     "output_type": "stream",
     "text": [
      "Restricted license - for non-production use only - expires 2026-11-23\n",
      "Set parameter TimeLimit to value 3600\n",
      "Restricted license - for non-production use only - expires 2026-11-23\n",
      "Set parameter TimeLimit to value 3600\n"
     ]
    },
    {
     "name": "stderr",
     "output_type": "stream",
     "text": [
      "  5%|▍         | 48/1000 [00:10<01:57,  8.12graph/s]"
     ]
    },
    {
     "name": "stdout",
     "output_type": "stream",
     "text": [
      "Restricted license - for non-production use only - expires 2026-11-23\n",
      "Set parameter TimeLimit to value 3600\n",
      "Restricted license - for non-production use only - expires 2026-11-23\n",
      "Set parameter TimeLimit to value 3600\n"
     ]
    },
    {
     "name": "stderr",
     "output_type": "stream",
     "text": [
      "  5%|▌         | 50/1000 [00:10<02:09,  7.33graph/s]"
     ]
    },
    {
     "name": "stdout",
     "output_type": "stream",
     "text": [
      "Restricted license - for non-production use only - expires 2026-11-23\n",
      "Set parameter TimeLimit to value 3600\n",
      "Restricted license - for non-production use only - expires 2026-11-23\n",
      "Set parameter TimeLimit to value 3600\n"
     ]
    },
    {
     "name": "stderr",
     "output_type": "stream",
     "text": [
      "  5%|▌         | 52/1000 [00:10<02:01,  7.80graph/s]"
     ]
    },
    {
     "name": "stdout",
     "output_type": "stream",
     "text": [
      "Restricted license - for non-production use only - expires 2026-11-23\n",
      "Set parameter TimeLimit to value 3600\n",
      "Restricted license - for non-production use only - expires 2026-11-23\n",
      "Set parameter TimeLimit to value 3600\n"
     ]
    },
    {
     "name": "stderr",
     "output_type": "stream",
     "text": [
      "  5%|▌         | 54/1000 [00:11<02:00,  7.86graph/s]"
     ]
    },
    {
     "name": "stdout",
     "output_type": "stream",
     "text": [
      "Restricted license - for non-production use only - expires 2026-11-23\n",
      "Set parameter TimeLimit to value 3600\n",
      "Restricted license - for non-production use only - expires 2026-11-23\n",
      "Set parameter TimeLimit to value 3600\n",
      "Restricted license - for non-production use only - expires 2026-11-23\n",
      "Set parameter TimeLimit to value 3600\n"
     ]
    },
    {
     "name": "stderr",
     "output_type": "stream",
     "text": [
      "  6%|▌         | 57/1000 [00:11<01:58,  7.95graph/s]"
     ]
    },
    {
     "name": "stdout",
     "output_type": "stream",
     "text": [
      "Restricted license - for non-production use only - expires 2026-11-23\n",
      "Set parameter TimeLimit to value 3600\n"
     ]
    },
    {
     "name": "stderr",
     "output_type": "stream",
     "text": [
      "  6%|▌         | 58/1000 [00:11<02:21,  6.64graph/s]"
     ]
    },
    {
     "name": "stdout",
     "output_type": "stream",
     "text": [
      "Restricted license - for non-production use only - expires 2026-11-23\n",
      "Set parameter TimeLimit to value 3600\n",
      "Restricted license - for non-production use only - expires 2026-11-23\n",
      "Set parameter TimeLimit to value 3600\n"
     ]
    },
    {
     "name": "stderr",
     "output_type": "stream",
     "text": [
      "  6%|▌         | 61/1000 [00:12<02:08,  7.29graph/s]"
     ]
    },
    {
     "name": "stdout",
     "output_type": "stream",
     "text": [
      "Restricted license - for non-production use only - expires 2026-11-23\n",
      "Set parameter TimeLimit to value 3600\n",
      "Restricted license - for non-production use only - expires 2026-11-23\n",
      "Set parameter TimeLimit to value 3600\n",
      "Restricted license - for non-production use only - expires 2026-11-23\n",
      "Set parameter TimeLimit to value 3600\n",
      "Restricted license - for non-production use only - expires 2026-11-23\n",
      "Set parameter TimeLimit to value 3600\n"
     ]
    },
    {
     "name": "stderr",
     "output_type": "stream",
     "text": [
      "  6%|▋         | 64/1000 [00:12<01:27, 10.65graph/s]"
     ]
    },
    {
     "name": "stdout",
     "output_type": "stream",
     "text": [
      "Restricted license - for non-production use only - expires 2026-11-23\n",
      "Set parameter TimeLimit to value 3600\n"
     ]
    },
    {
     "name": "stderr",
     "output_type": "stream",
     "text": [
      "  7%|▋         | 69/1000 [00:12<01:31, 10.13graph/s]"
     ]
    },
    {
     "name": "stdout",
     "output_type": "stream",
     "text": [
      "Restricted license - for non-production use only - expires 2026-11-23\n",
      "Set parameter TimeLimit to value 3600\n",
      "Restricted license - for non-production use only - expires 2026-11-23\n",
      "Set parameter TimeLimit to value 3600\n",
      "Restricted license - for non-production use only - expires 2026-11-23\n",
      "Set parameter TimeLimit to value 3600\n",
      "Restricted license - for non-production use only - expires 2026-11-23\n",
      "Set parameter TimeLimit to value 3600\n",
      "Restricted license - for non-production use only - expires 2026-11-23\n",
      "Set parameter TimeLimit to value 3600\n"
     ]
    },
    {
     "name": "stderr",
     "output_type": "stream",
     "text": [
      "  7%|▋         | 72/1000 [00:12<01:14, 12.48graph/s]"
     ]
    },
    {
     "name": "stdout",
     "output_type": "stream",
     "text": [
      "Restricted license - for non-production use only - expires 2026-11-23\n",
      "Set parameter TimeLimit to value 3600\n",
      "Restricted license - for non-production use only - expires 2026-11-23\n",
      "Set parameter TimeLimit to value 3600\n",
      "Restricted license - for non-production use only - expires 2026-11-23\n",
      "Set parameter TimeLimit to value 3600\n"
     ]
    },
    {
     "name": "stderr",
     "output_type": "stream",
     "text": [
      "  7%|▋         | 74/1000 [00:13<02:05,  7.39graph/s]"
     ]
    },
    {
     "name": "stdout",
     "output_type": "stream",
     "text": [
      "Restricted license - for non-production use only - expires 2026-11-23\n",
      "Set parameter TimeLimit to value 3600\n",
      "Restricted license - for non-production use only - expires 2026-11-23\n",
      "Set parameter TimeLimit to value 3600\n",
      "Restricted license - for non-production use only - expires 2026-11-23\n",
      "Restricted license - for non-production use only - expires 2026-11-23\n",
      "Set parameter TimeLimit to value 3600\n",
      "Set parameter TimeLimit to value 3600\n"
     ]
    },
    {
     "name": "stderr",
     "output_type": "stream",
     "text": [
      "  8%|▊         | 77/1000 [00:13<01:49,  8.46graph/s]"
     ]
    },
    {
     "name": "stdout",
     "output_type": "stream",
     "text": [
      "Restricted license - for non-production use only - expires 2026-11-23\n",
      "Set parameter TimeLimit to value 3600\n",
      "Restricted license - for non-production use only - expires 2026-11-23\n",
      "Set parameter TimeLimit to value 3600\n"
     ]
    },
    {
     "name": "stderr",
     "output_type": "stream",
     "text": [
      "  8%|▊         | 81/1000 [00:14<01:53,  8.12graph/s]"
     ]
    },
    {
     "name": "stdout",
     "output_type": "stream",
     "text": [
      "Restricted license - for non-production use only - expires 2026-11-23\n",
      "Set parameter TimeLimit to value 3600\n",
      "Restricted license - for non-production use only - expires 2026-11-23\n",
      "Set parameter TimeLimit to value 3600\n",
      "Restricted license - for non-production use only - expires 2026-11-23\n",
      "Set parameter TimeLimit to value 3600\n"
     ]
    },
    {
     "name": "stderr",
     "output_type": "stream",
     "text": [
      "  8%|▊         | 83/1000 [00:14<01:35,  9.57graph/s]"
     ]
    },
    {
     "name": "stdout",
     "output_type": "stream",
     "text": [
      "Restricted license - for non-production use only - expires 2026-11-23\n",
      "Set parameter TimeLimit to value 3600\n",
      "Restricted license - for non-production use only - expires 2026-11-23\n",
      "Set parameter TimeLimit to value 3600\n"
     ]
    },
    {
     "name": "stderr",
     "output_type": "stream",
     "text": [
      "  8%|▊         | 85/1000 [00:14<02:11,  6.96graph/s]"
     ]
    },
    {
     "name": "stdout",
     "output_type": "stream",
     "text": [
      "Restricted license - for non-production use only - expires 2026-11-23\n",
      "Set parameter TimeLimit to value 3600\n",
      "Restricted license - for non-production use only - expires 2026-11-23\n",
      "Set parameter TimeLimit to value 3600\n"
     ]
    },
    {
     "name": "stderr",
     "output_type": "stream",
     "text": [
      "  9%|▊         | 87/1000 [00:15<02:17,  6.65graph/s]"
     ]
    },
    {
     "name": "stdout",
     "output_type": "stream",
     "text": [
      "Restricted license - for non-production use only - expires 2026-11-23\n",
      "Set parameter TimeLimit to value 3600\n",
      "Restricted license - for non-production use only - expires 2026-11-23\n",
      "Set parameter TimeLimit to value 3600\n"
     ]
    },
    {
     "name": "stderr",
     "output_type": "stream",
     "text": [
      "  9%|▉         | 88/1000 [00:15<02:20,  6.50graph/s]"
     ]
    },
    {
     "name": "stdout",
     "output_type": "stream",
     "text": [
      "Restricted license - for non-production use only - expires 2026-11-23\n",
      "Set parameter TimeLimit to value 3600\n",
      "Restricted license - for non-production use only - expires 2026-11-23\n",
      "Set parameter TimeLimit to value 3600\n"
     ]
    },
    {
     "name": "stderr",
     "output_type": "stream",
     "text": [
      "  9%|▉         | 90/1000 [00:15<02:26,  6.20graph/s]"
     ]
    },
    {
     "name": "stdout",
     "output_type": "stream",
     "text": [
      "Restricted license - for non-production use only - expires 2026-11-23\n",
      "Set parameter TimeLimit to value 3600\n",
      "Restricted license - for non-production use only - expires 2026-11-23\n",
      "Set parameter TimeLimit to value 3600\n",
      "Restricted license - for non-production use only - expires 2026-11-23\n",
      "Set parameter TimeLimit to value 3600\n"
     ]
    },
    {
     "name": "stderr",
     "output_type": "stream",
     "text": [
      "  9%|▉         | 93/1000 [00:15<01:53,  8.00graph/s]"
     ]
    },
    {
     "name": "stdout",
     "output_type": "stream",
     "text": [
      "Restricted license - for non-production use only - expires 2026-11-23\n",
      "Set parameter TimeLimit to value 3600\n"
     ]
    },
    {
     "name": "stderr",
     "output_type": "stream",
     "text": [
      "  9%|▉         | 94/1000 [00:16<02:15,  6.71graph/s]"
     ]
    },
    {
     "name": "stdout",
     "output_type": "stream",
     "text": [
      "Restricted license - for non-production use only - expires 2026-11-23\n",
      "Set parameter TimeLimit to value 3600\n"
     ]
    },
    {
     "name": "stderr",
     "output_type": "stream",
     "text": [
      " 10%|▉         | 98/1000 [00:16<01:35,  9.41graph/s]"
     ]
    },
    {
     "name": "stdout",
     "output_type": "stream",
     "text": [
      "Restricted license - for non-production use only - expires 2026-11-23\n",
      "Set parameter TimeLimit to value 3600\n",
      "Restricted license - for non-production use only - expires 2026-11-23\n",
      "Set parameter TimeLimit to value 3600\n",
      "Restricted license - for non-production use only - expires 2026-11-23\n",
      "Set parameter TimeLimit to value 3600\n",
      "Restricted license - for non-production use only - expires 2026-11-23\n",
      "Set parameter TimeLimit to value 3600\n",
      "Restricted license - for non-production use only - expires 2026-11-23\n",
      "Set parameter TimeLimit to value 3600\n"
     ]
    },
    {
     "name": "stderr",
     "output_type": "stream",
     "text": [
      " 10%|█         | 102/1000 [00:16<01:17, 11.62graph/s]"
     ]
    },
    {
     "name": "stdout",
     "output_type": "stream",
     "text": [
      "Restricted license - for non-production use only - expires 2026-11-23\n",
      "Set parameter TimeLimit to value 3600\n",
      "Restricted license - for non-production use only - expires 2026-11-23\n",
      "Set parameter TimeLimit to value 3600\n",
      "Restricted license - for non-production use only - expires 2026-11-23\n",
      "Set parameter TimeLimit to value 3600\n",
      "Restricted license - for non-production use only - expires 2026-11-23\n",
      "Set parameter TimeLimit to value 3600\n"
     ]
    },
    {
     "name": "stderr",
     "output_type": "stream",
     "text": [
      " 11%|█         | 106/1000 [00:17<01:49,  8.14graph/s]"
     ]
    },
    {
     "name": "stdout",
     "output_type": "stream",
     "text": [
      "Restricted license - for non-production use only - expires 2026-11-23\n",
      "Set parameter TimeLimit to value 3600\n",
      "Restricted license - for non-production use only - expires 2026-11-23\n",
      "Set parameter TimeLimit to value 3600\n",
      "Restricted license - for non-production use only - expires 2026-11-23\n",
      "Set parameter TimeLimit to value 3600\n",
      "Restricted license - for non-production use only - expires 2026-11-23\n",
      "Set parameter TimeLimit to value 3600\n"
     ]
    },
    {
     "name": "stderr",
     "output_type": "stream",
     "text": [
      " 11%|█         | 109/1000 [00:18<02:44,  5.43graph/s]"
     ]
    },
    {
     "name": "stdout",
     "output_type": "stream",
     "text": [
      "Restricted license - for non-production use only - expires 2026-11-23\n",
      "Set parameter TimeLimit to value 3600\n",
      "Restricted license - for non-production use only - expires 2026-11-23\n",
      "Set parameter TimeLimit to value 3600\n",
      "Restricted license - for non-production use only - expires 2026-11-23\n",
      "Set parameter TimeLimit to value 3600\n"
     ]
    },
    {
     "name": "stderr",
     "output_type": "stream",
     "text": [
      " 11%|█         | 111/1000 [00:18<02:24,  6.15graph/s]"
     ]
    },
    {
     "name": "stdout",
     "output_type": "stream",
     "text": [
      "Restricted license - for non-production use only - expires 2026-11-23\n",
      "Set parameter TimeLimit to value 3600\n",
      "Restricted license - for non-production use only - expires 2026-11-23\n",
      "Set parameter TimeLimit to value 3600\n",
      "Restricted license - for non-production use only - expires 2026-11-23\n",
      "Set parameter TimeLimit to value 3600\n"
     ]
    },
    {
     "name": "stderr",
     "output_type": "stream",
     "text": [
      " 11%|█▏        | 114/1000 [00:18<01:56,  7.59graph/s]"
     ]
    },
    {
     "name": "stdout",
     "output_type": "stream",
     "text": [
      "Restricted license - for non-production use only - expires 2026-11-23\n",
      "Set parameter TimeLimit to value 3600\n"
     ]
    },
    {
     "name": "stderr",
     "output_type": "stream",
     "text": [
      " 12%|█▏        | 117/1000 [00:19<01:56,  7.61graph/s]"
     ]
    },
    {
     "name": "stdout",
     "output_type": "stream",
     "text": [
      "Restricted license - for non-production use only - expires 2026-11-23\n",
      "Set parameter TimeLimit to value 3600\n",
      "Restricted license - for non-production use only - expires 2026-11-23\n",
      "Set parameter TimeLimit to value 3600\n",
      "Restricted license - for non-production use only - expires 2026-11-23\n",
      "Set parameter TimeLimit to value 3600\n"
     ]
    },
    {
     "name": "stderr",
     "output_type": "stream",
     "text": [
      " 12%|█▏        | 119/1000 [00:19<02:03,  7.13graph/s]"
     ]
    },
    {
     "name": "stdout",
     "output_type": "stream",
     "text": [
      "Restricted license - for non-production use only - expires 2026-11-23\n",
      "Set parameter TimeLimit to value 3600\n",
      "Restricted license - for non-production use only - expires 2026-11-23\n",
      "Set parameter TimeLimit to value 3600\n",
      "Restricted license - for non-production use only - expires 2026-11-23\n",
      "Set parameter TimeLimit to value 3600\n",
      "Restricted license - for non-production use only - expires 2026-11-23\n",
      "Set parameter TimeLimit to value 3600\n"
     ]
    },
    {
     "name": "stderr",
     "output_type": "stream",
     "text": [
      " 12%|█▏        | 124/1000 [00:20<01:42,  8.56graph/s]"
     ]
    },
    {
     "name": "stdout",
     "output_type": "stream",
     "text": [
      "Restricted license - for non-production use only - expires 2026-11-23\n",
      "Set parameter TimeLimit to value 3600\n",
      "Restricted license - for non-production use only - expires 2026-11-23\n",
      "Set parameter TimeLimit to value 3600\n"
     ]
    },
    {
     "name": "stderr",
     "output_type": "stream",
     "text": [
      " 12%|█▎        | 125/1000 [00:20<01:40,  8.72graph/s]"
     ]
    },
    {
     "name": "stdout",
     "output_type": "stream",
     "text": [
      "Restricted license - for non-production use only - expires 2026-11-23\n",
      "Set parameter TimeLimit to value 3600\n",
      "Restricted license - for non-production use only - expires 2026-11-23\n",
      "Set parameter TimeLimit to value 3600\n"
     ]
    },
    {
     "name": "stderr",
     "output_type": "stream",
     "text": [
      " 13%|█▎        | 127/1000 [00:20<02:04,  7.02graph/s]"
     ]
    },
    {
     "name": "stdout",
     "output_type": "stream",
     "text": [
      "Restricted license - for non-production use only - expires 2026-11-23\n",
      "Set parameter TimeLimit to value 3600\n",
      "Restricted license - for non-production use only - expires 2026-11-23\n",
      "Set parameter TimeLimit to value 3600\n",
      "Restricted license - for non-production use only - expires 2026-11-23\n",
      "Set parameter TimeLimit to value 3600\n",
      "Restricted license - for non-production use only - expires 2026-11-23\n",
      "Set parameter TimeLimit to value 3600\n"
     ]
    },
    {
     "name": "stderr",
     "output_type": "stream",
     "text": [
      " 13%|█▎        | 131/1000 [00:21<01:54,  7.62graph/s]"
     ]
    },
    {
     "name": "stdout",
     "output_type": "stream",
     "text": [
      "Restricted license - for non-production use only - expires 2026-11-23\n",
      "Set parameter TimeLimit to value 3600\n",
      "Restricted license - for non-production use only - expires 2026-11-23\n",
      "Set parameter TimeLimit to value 3600\n",
      "Restricted license - for non-production use only - expires 2026-11-23\n",
      "Set parameter TimeLimit to value 3600\n"
     ]
    },
    {
     "name": "stderr",
     "output_type": "stream",
     "text": [
      " 13%|█▎        | 133/1000 [00:21<02:00,  7.21graph/s]"
     ]
    },
    {
     "name": "stdout",
     "output_type": "stream",
     "text": [
      "Restricted license - for non-production use only - expires 2026-11-23\n",
      "Set parameter TimeLimit to value 3600\n"
     ]
    },
    {
     "name": "stderr",
     "output_type": "stream",
     "text": [
      " 14%|█▎        | 136/1000 [00:21<01:50,  7.83graph/s]"
     ]
    },
    {
     "name": "stdout",
     "output_type": "stream",
     "text": [
      "Restricted license - for non-production use only - expires 2026-11-23\n",
      "Set parameter TimeLimit to value 3600\n",
      "Restricted license - for non-production use only - expires 2026-11-23\n",
      "Set parameter TimeLimit to value 3600\n",
      "Restricted license - for non-production use only - expires 2026-11-23\n",
      "Set parameter TimeLimit to value 3600\n"
     ]
    },
    {
     "name": "stderr",
     "output_type": "stream",
     "text": [
      " 14%|█▍        | 138/1000 [00:22<01:48,  7.95graph/s]"
     ]
    },
    {
     "name": "stdout",
     "output_type": "stream",
     "text": [
      "Restricted license - for non-production use only - expires 2026-11-23\n",
      "Set parameter TimeLimit to value 3600\n",
      "Restricted license - for non-production use only - expires 2026-11-23\n",
      "Set parameter TimeLimit to value 3600\n"
     ]
    },
    {
     "name": "stderr",
     "output_type": "stream",
     "text": [
      " 14%|█▍        | 141/1000 [00:22<01:40,  8.52graph/s]"
     ]
    },
    {
     "name": "stdout",
     "output_type": "stream",
     "text": [
      "Restricted license - for non-production use only - expires 2026-11-23\n",
      "Set parameter TimeLimit to value 3600\n",
      "Restricted license - for non-production use only - expires 2026-11-23\n",
      "Set parameter TimeLimit to value 3600\n",
      "Restricted license - for non-production use only - expires 2026-11-23\n",
      "Set parameter TimeLimit to value 3600\n"
     ]
    },
    {
     "name": "stderr",
     "output_type": "stream",
     "text": [
      " 14%|█▍        | 144/1000 [00:22<01:43,  8.26graph/s]"
     ]
    },
    {
     "name": "stdout",
     "output_type": "stream",
     "text": [
      "Restricted license - for non-production use only - expires 2026-11-23\n",
      "Set parameter TimeLimit to value 3600\n",
      "Restricted license - for non-production use only - expires 2026-11-23\n",
      "Set parameter TimeLimit to value 3600\n",
      "Restricted license - for non-production use only - expires 2026-11-23\n",
      "Set parameter TimeLimit to value 3600\n"
     ]
    },
    {
     "name": "stderr",
     "output_type": "stream",
     "text": [
      " 15%|█▍        | 148/1000 [00:23<01:15, 11.22graph/s]"
     ]
    },
    {
     "name": "stdout",
     "output_type": "stream",
     "text": [
      "Restricted license - for non-production use only - expires 2026-11-23\n",
      "Set parameter TimeLimit to value 3600\n",
      "Restricted license - for non-production use only - expires 2026-11-23\n",
      "Set parameter TimeLimit to value 3600\n",
      "Restricted license - for non-production use only - expires 2026-11-23\n",
      "Set parameter TimeLimit to value 3600\n",
      "Restricted license - for non-production use only - expires 2026-11-23\n",
      "Set parameter TimeLimit to value 3600\n",
      "Restricted license - for non-production use only - expires 2026-11-23\n",
      "Set parameter TimeLimit to value 3600\n"
     ]
    },
    {
     "name": "stderr",
     "output_type": "stream",
     "text": [
      " 15%|█▌        | 150/1000 [00:23<02:03,  6.87graph/s]"
     ]
    },
    {
     "name": "stdout",
     "output_type": "stream",
     "text": [
      "Restricted license - for non-production use only - expires 2026-11-23\n",
      "Set parameter TimeLimit to value 3600\n",
      "Restricted license - for non-production use only - expires 2026-11-23\n",
      "Set parameter TimeLimit to value 3600\n"
     ]
    },
    {
     "name": "stderr",
     "output_type": "stream",
     "text": [
      " 15%|█▌        | 152/1000 [00:24<02:40,  5.27graph/s]"
     ]
    },
    {
     "name": "stdout",
     "output_type": "stream",
     "text": [
      "Restricted license - for non-production use only - expires 2026-11-23\n",
      "Set parameter TimeLimit to value 3600\n"
     ]
    },
    {
     "name": "stderr",
     "output_type": "stream",
     "text": [
      " 16%|█▌        | 157/1000 [00:24<01:36,  8.77graph/s]"
     ]
    },
    {
     "name": "stdout",
     "output_type": "stream",
     "text": [
      "Restricted license - for non-production use only - expires 2026-11-23\n",
      "Set parameter TimeLimit to value 3600\n",
      "Restricted license - for non-production use only - expires 2026-11-23\n",
      "Set parameter TimeLimit to value 3600\n",
      "Restricted license - for non-production use only - expires 2026-11-23\n",
      "Restricted license - for non-production use only - expires 2026-11-23\n",
      "Set parameter TimeLimit to value 3600\n",
      "Set parameter TimeLimit to value 3600\n",
      "Restricted license - for non-production use only - expires 2026-11-23\n",
      "Set parameter TimeLimit to value 3600\n",
      "Restricted license - for non-production use only - expires 2026-11-23\n",
      "Set parameter TimeLimit to value 3600\n"
     ]
    },
    {
     "name": "stderr",
     "output_type": "stream",
     "text": [
      " 16%|█▌        | 159/1000 [00:25<01:59,  7.06graph/s]"
     ]
    },
    {
     "name": "stdout",
     "output_type": "stream",
     "text": [
      "Restricted license - for non-production use only - expires 2026-11-23\n",
      "Set parameter TimeLimit to value 3600\n",
      "Restricted license - for non-production use only - expires 2026-11-23\n",
      "Set parameter TimeLimit to value 3600\n"
     ]
    },
    {
     "name": "stderr",
     "output_type": "stream",
     "text": [
      " 16%|█▌        | 161/1000 [00:25<01:55,  7.25graph/s]"
     ]
    },
    {
     "name": "stdout",
     "output_type": "stream",
     "text": [
      "Restricted license - for non-production use only - expires 2026-11-23\n",
      "Set parameter TimeLimit to value 3600\n"
     ]
    },
    {
     "name": "stderr",
     "output_type": "stream",
     "text": [
      " 16%|█▋        | 163/1000 [00:25<01:53,  7.35graph/s]"
     ]
    },
    {
     "name": "stdout",
     "output_type": "stream",
     "text": [
      "Restricted license - for non-production use only - expires 2026-11-23\n",
      "Set parameter TimeLimit to value 3600\n",
      "Restricted license - for non-production use only - expires 2026-11-23\n",
      "Set parameter TimeLimit to value 3600\n"
     ]
    },
    {
     "name": "stderr",
     "output_type": "stream",
     "text": [
      " 16%|█▋        | 165/1000 [00:26<02:31,  5.50graph/s]"
     ]
    },
    {
     "name": "stdout",
     "output_type": "stream",
     "text": [
      "Restricted license - for non-production use only - expires 2026-11-23\n",
      "Set parameter TimeLimit to value 3600\n",
      "Restricted license - for non-production use only - expires 2026-11-23\n",
      "Set parameter TimeLimit to value 3600\n",
      "Restricted license - for non-production use only - expires 2026-11-23\n",
      "Set parameter TimeLimit to value 3600\n",
      "Restricted license - for non-production use only - expires 2026-11-23\n",
      "Set parameter TimeLimit to value 3600\n"
     ]
    },
    {
     "name": "stderr",
     "output_type": "stream",
     "text": [
      " 17%|█▋        | 168/1000 [00:26<01:45,  7.87graph/s]"
     ]
    },
    {
     "name": "stdout",
     "output_type": "stream",
     "text": [
      "Restricted license - for non-production use only - expires 2026-11-23\n",
      "Set parameter TimeLimit to value 3600\n",
      "Restricted license - for non-production use only - expires 2026-11-23\n",
      "Set parameter TimeLimit to value 3600\n",
      "Restricted license - for non-production use only - expires 2026-11-23\n",
      "Set parameter TimeLimit to value 3600\n",
      "Restricted license - for non-production use only - expires 2026-11-23\n",
      "Set parameter TimeLimit to value 3600\n"
     ]
    },
    {
     "name": "stderr",
     "output_type": "stream",
     "text": [
      " 17%|█▋        | 172/1000 [00:26<01:23,  9.90graph/s]"
     ]
    },
    {
     "name": "stdout",
     "output_type": "stream",
     "text": [
      "Restricted license - for non-production use only - expires 2026-11-23\n",
      "Set parameter TimeLimit to value 3600\n",
      "Restricted license - for non-production use only - expires 2026-11-23\n",
      "Set parameter TimeLimit to value 3600\n"
     ]
    },
    {
     "name": "stderr",
     "output_type": "stream",
     "text": [
      " 17%|█▋        | 174/1000 [00:26<01:24,  9.72graph/s]"
     ]
    },
    {
     "name": "stdout",
     "output_type": "stream",
     "text": [
      "Restricted license - for non-production use only - expires 2026-11-23\n",
      "Set parameter TimeLimit to value 3600\n",
      "Restricted license - for non-production use only - expires 2026-11-23\n",
      "Set parameter TimeLimit to value 3600\n"
     ]
    },
    {
     "name": "stderr",
     "output_type": "stream",
     "text": [
      " 18%|█▊        | 176/1000 [00:27<01:33,  8.79graph/s]"
     ]
    },
    {
     "name": "stdout",
     "output_type": "stream",
     "text": [
      "Restricted license - for non-production use only - expires 2026-11-23\n",
      "Set parameter TimeLimit to value 3600\n",
      "Restricted license - for non-production use only - expires 2026-11-23\n",
      "Set parameter TimeLimit to value 3600\n",
      "Restricted license - for non-production use only - expires 2026-11-23\n",
      "Set parameter TimeLimit to value 3600\n"
     ]
    },
    {
     "name": "stderr",
     "output_type": "stream",
     "text": [
      " 18%|█▊        | 182/1000 [00:27<01:04, 12.69graph/s]"
     ]
    },
    {
     "name": "stdout",
     "output_type": "stream",
     "text": [
      "Restricted license - for non-production use only - expires 2026-11-23\n",
      "Set parameter TimeLimit to value 3600\n",
      "Restricted license - for non-production use only - expires 2026-11-23\n",
      "Set parameter TimeLimit to value 3600\n",
      "Restricted license - for non-production use only - expires 2026-11-23\n",
      "Set parameter TimeLimit to value 3600\n",
      "Restricted license - for non-production use only - expires 2026-11-23\n",
      "Set parameter TimeLimit to value 3600\n",
      "Restricted license - for non-production use only - expires 2026-11-23\n",
      "Set parameter TimeLimit to value 3600\n"
     ]
    },
    {
     "name": "stderr",
     "output_type": "stream",
     "text": [
      " 19%|█▊        | 186/1000 [00:27<01:11, 11.36graph/s]"
     ]
    },
    {
     "name": "stdout",
     "output_type": "stream",
     "text": [
      "Restricted license - for non-production use only - expires 2026-11-23\n",
      "Set parameter TimeLimit to value 3600\n",
      "Restricted license - for non-production use only - expires 2026-11-23\n",
      "Set parameter TimeLimit to value 3600\n",
      "Restricted license - for non-production use only - expires 2026-11-23\n",
      "Set parameter TimeLimit to value 3600\n"
     ]
    },
    {
     "name": "stderr",
     "output_type": "stream",
     "text": [
      " 19%|█▉        | 191/1000 [00:28<00:53, 15.08graph/s]"
     ]
    },
    {
     "name": "stdout",
     "output_type": "stream",
     "text": [
      "Restricted license - for non-production use only - expires 2026-11-23\n",
      "Set parameter TimeLimit to value 3600\n",
      "Restricted license - for non-production use only - expires 2026-11-23\n",
      "Restricted license - for non-production use only - expires 2026-11-23\n",
      "Set parameter TimeLimit to value 3600\n",
      "Set parameter TimeLimit to value 3600\n",
      "Restricted license - for non-production use only - expires 2026-11-23\n",
      "Set parameter TimeLimit to value 3600\n",
      "Restricted license - for non-production use only - expires 2026-11-23\n",
      "Set parameter TimeLimit to value 3600\n",
      "Restricted license - for non-production use only - expires 2026-11-23\n",
      "Set parameter TimeLimit to value 3600\n"
     ]
    },
    {
     "name": "stderr",
     "output_type": "stream",
     "text": [
      " 20%|█▉        | 195/1000 [00:28<01:10, 11.36graph/s]"
     ]
    },
    {
     "name": "stdout",
     "output_type": "stream",
     "text": [
      "Restricted license - for non-production use only - expires 2026-11-23\n",
      "Set parameter TimeLimit to value 3600\n",
      "Restricted license - for non-production use only - expires 2026-11-23\n",
      "Set parameter TimeLimit to value 3600\n",
      "Restricted license - for non-production use only - expires 2026-11-23\n",
      "Set parameter TimeLimit to value 3600\n"
     ]
    },
    {
     "name": "stderr",
     "output_type": "stream",
     "text": [
      " 20%|█▉        | 197/1000 [00:28<01:05, 12.23graph/s]"
     ]
    },
    {
     "name": "stdout",
     "output_type": "stream",
     "text": [
      "Restricted license - for non-production use only - expires 2026-11-23\n",
      "Set parameter TimeLimit to value 3600\n",
      "Restricted license - for non-production use only - expires 2026-11-23\n",
      "Set parameter TimeLimit to value 3600\n"
     ]
    },
    {
     "name": "stderr",
     "output_type": "stream",
     "text": [
      " 20%|█▉        | 199/1000 [00:29<01:34,  8.46graph/s]"
     ]
    },
    {
     "name": "stdout",
     "output_type": "stream",
     "text": [
      "Restricted license - for non-production use only - expires 2026-11-23\n",
      "Set parameter TimeLimit to value 3600\n",
      "Restricted license - for non-production use only - expires 2026-11-23\n",
      "Set parameter TimeLimit to value 3600\n"
     ]
    },
    {
     "name": "stderr",
     "output_type": "stream",
     "text": [
      " 20%|██        | 204/1000 [00:29<01:05, 12.06graph/s]"
     ]
    },
    {
     "name": "stdout",
     "output_type": "stream",
     "text": [
      "Restricted license - for non-production use only - expires 2026-11-23\n",
      "Set parameter TimeLimit to value 3600\n",
      "Restricted license - for non-production use only - expires 2026-11-23\n",
      "Set parameter TimeLimit to value 3600\n",
      "Restricted license - for non-production use only - expires 2026-11-23\n",
      "Set parameter TimeLimit to value 3600\n",
      "Restricted license - for non-production use only - expires 2026-11-23\n",
      "Set parameter TimeLimit to value 3600\n",
      "Restricted license - for non-production use only - expires 2026-11-23\n",
      "Set parameter TimeLimit to value 3600\n",
      "Restricted license - for non-production use only - expires 2026-11-23\n",
      "Set parameter TimeLimit to value 3600\n"
     ]
    },
    {
     "name": "stderr",
     "output_type": "stream",
     "text": [
      " 21%|██        | 206/1000 [00:29<01:20,  9.82graph/s]"
     ]
    },
    {
     "name": "stdout",
     "output_type": "stream",
     "text": [
      "Restricted license - for non-production use only - expires 2026-11-23\n",
      "Set parameter TimeLimit to value 3600\n",
      "Restricted license - for non-production use only - expires 2026-11-23\n",
      "Set parameter TimeLimit to value 3600\n"
     ]
    },
    {
     "name": "stderr",
     "output_type": "stream",
     "text": [
      " 21%|██        | 210/1000 [00:30<01:18, 10.05graph/s]"
     ]
    },
    {
     "name": "stdout",
     "output_type": "stream",
     "text": [
      "Restricted license - for non-production use only - expires 2026-11-23\n",
      "Set parameter TimeLimit to value 3600\n",
      "Restricted license - for non-production use only - expires 2026-11-23\n",
      "Set parameter TimeLimit to value 3600\n",
      "Restricted license - for non-production use only - expires 2026-11-23\n",
      "Set parameter TimeLimit to value 3600\n",
      "Restricted license - for non-production use only - expires 2026-11-23\n",
      "Set parameter TimeLimit to value 3600\n"
     ]
    },
    {
     "name": "stderr",
     "output_type": "stream",
     "text": [
      " 21%|██▏       | 214/1000 [00:30<01:28,  8.84graph/s]"
     ]
    },
    {
     "name": "stdout",
     "output_type": "stream",
     "text": [
      "Restricted license - for non-production use only - expires 2026-11-23\n",
      "Set parameter TimeLimit to value 3600\n",
      "Restricted license - for non-production use only - expires 2026-11-23\n",
      "Set parameter TimeLimit to value 3600\n",
      "Restricted license - for non-production use only - expires 2026-11-23\n",
      "Set parameter TimeLimit to value 3600\n",
      "Restricted license - for non-production use only - expires 2026-11-23\n",
      "Set parameter TimeLimit to value 3600\n"
     ]
    },
    {
     "name": "stderr",
     "output_type": "stream",
     "text": [
      " 22%|██▏       | 217/1000 [00:31<01:43,  7.60graph/s]"
     ]
    },
    {
     "name": "stdout",
     "output_type": "stream",
     "text": [
      "Restricted license - for non-production use only - expires 2026-11-23\n",
      "Set parameter TimeLimit to value 3600\n",
      "Restricted license - for non-production use only - expires 2026-11-23\n",
      "Set parameter TimeLimit to value 3600\n"
     ]
    },
    {
     "name": "stderr",
     "output_type": "stream",
     "text": [
      " 22%|██▏       | 219/1000 [00:31<02:09,  6.04graph/s]"
     ]
    },
    {
     "name": "stdout",
     "output_type": "stream",
     "text": [
      "Restricted license - for non-production use only - expires 2026-11-23\n",
      "Set parameter TimeLimit to value 3600\n",
      "Restricted license - for non-production use only - expires 2026-11-23\n",
      "Set parameter TimeLimit to value 3600\n"
     ]
    },
    {
     "name": "stderr",
     "output_type": "stream",
     "text": [
      " 22%|██▏       | 220/1000 [00:31<02:17,  5.68graph/s]"
     ]
    },
    {
     "name": "stdout",
     "output_type": "stream",
     "text": [
      "Restricted license - for non-production use only - expires 2026-11-23\n",
      "Set parameter TimeLimit to value 3600\n",
      "Restricted license - for non-production use only - expires 2026-11-23\n",
      "Set parameter TimeLimit to value 3600\n"
     ]
    },
    {
     "name": "stderr",
     "output_type": "stream",
     "text": [
      " 22%|██▏       | 223/1000 [00:32<01:56,  6.66graph/s]"
     ]
    },
    {
     "name": "stdout",
     "output_type": "stream",
     "text": [
      "Restricted license - for non-production use only - expires 2026-11-23\n",
      "Set parameter TimeLimit to value 3600\n",
      "Restricted license - for non-production use only - expires 2026-11-23\n",
      "Set parameter TimeLimit to value 3600\n"
     ]
    },
    {
     "name": "stderr",
     "output_type": "stream",
     "text": [
      " 22%|██▎       | 225/1000 [00:32<02:00,  6.44graph/s]"
     ]
    },
    {
     "name": "stdout",
     "output_type": "stream",
     "text": [
      "Restricted license - for non-production use only - expires 2026-11-23\n",
      "Set parameter TimeLimit to value 3600\n",
      "Restricted license - for non-production use only - expires 2026-11-23\n",
      "Set parameter TimeLimit to value 3600\n",
      "Restricted license - for non-production use only - expires 2026-11-23\n",
      "Set parameter TimeLimit to value 3600\n"
     ]
    },
    {
     "name": "stderr",
     "output_type": "stream",
     "text": [
      " 23%|██▎       | 229/1000 [00:32<01:14, 10.40graph/s]"
     ]
    },
    {
     "name": "stdout",
     "output_type": "stream",
     "text": [
      "Restricted license - for non-production use only - expires 2026-11-23\n",
      "Set parameter TimeLimit to value 3600\n",
      "Restricted license - for non-production use only - expires 2026-11-23\n",
      "Set parameter TimeLimit to value 3600\n",
      "Restricted license - for non-production use only - expires 2026-11-23\n",
      "Set parameter TimeLimit to value 3600\n"
     ]
    },
    {
     "name": "stderr",
     "output_type": "stream",
     "text": [
      " 23%|██▎       | 231/1000 [00:33<02:13,  5.78graph/s]"
     ]
    },
    {
     "name": "stdout",
     "output_type": "stream",
     "text": [
      "Restricted license - for non-production use only - expires 2026-11-23\n",
      "Set parameter TimeLimit to value 3600\n",
      "Restricted license - for non-production use only - expires 2026-11-23\n",
      "Set parameter TimeLimit to value 3600\n"
     ]
    },
    {
     "name": "stderr",
     "output_type": "stream",
     "text": [
      " 23%|██▎       | 234/1000 [00:33<01:39,  7.69graph/s]"
     ]
    },
    {
     "name": "stdout",
     "output_type": "stream",
     "text": [
      "Restricted license - for non-production use only - expires 2026-11-23\n",
      "Set parameter TimeLimit to value 3600\n",
      "Restricted license - for non-production use only - expires 2026-11-23\n",
      "Set parameter TimeLimit to value 3600\n",
      "Restricted license - for non-production use only - expires 2026-11-23\n",
      "Set parameter TimeLimit to value 3600\n",
      "Restricted license - for non-production use only - expires 2026-11-23\n",
      "Set parameter TimeLimit to value 3600\n"
     ]
    },
    {
     "name": "stderr",
     "output_type": "stream",
     "text": [
      " 24%|██▎       | 236/1000 [00:33<01:21,  9.41graph/s]"
     ]
    },
    {
     "name": "stdout",
     "output_type": "stream",
     "text": [
      "Restricted license - for non-production use only - expires 2026-11-23\n",
      "Set parameter TimeLimit to value 3600\n"
     ]
    },
    {
     "name": "stderr",
     "output_type": "stream",
     "text": [
      " 24%|██▍       | 238/1000 [00:34<02:05,  6.08graph/s]"
     ]
    },
    {
     "name": "stdout",
     "output_type": "stream",
     "text": [
      "Restricted license - for non-production use only - expires 2026-11-23\n",
      "Set parameter TimeLimit to value 3600\n",
      "Restricted license - for non-production use only - expires 2026-11-23\n",
      "Set parameter TimeLimit to value 3600\n"
     ]
    },
    {
     "name": "stderr",
     "output_type": "stream",
     "text": [
      " 24%|██▍       | 241/1000 [00:34<01:36,  7.83graph/s]"
     ]
    },
    {
     "name": "stdout",
     "output_type": "stream",
     "text": [
      "Restricted license - for non-production use only - expires 2026-11-23\n",
      "Set parameter TimeLimit to value 3600\n",
      "Restricted license - for non-production use only - expires 2026-11-23\n",
      "Set parameter TimeLimit to value 3600\n",
      "Restricted license - for non-production use only - expires 2026-11-23\n",
      "Set parameter TimeLimit to value 3600\n",
      "Restricted license - for non-production use only - expires 2026-11-23\n",
      "Set parameter TimeLimit to value 3600\n"
     ]
    },
    {
     "name": "stderr",
     "output_type": "stream",
     "text": [
      " 24%|██▍       | 244/1000 [00:35<01:49,  6.89graph/s]"
     ]
    },
    {
     "name": "stdout",
     "output_type": "stream",
     "text": [
      "Restricted license - for non-production use only - expires 2026-11-23\n",
      "Set parameter TimeLimit to value 3600\n",
      "Restricted license - for non-production use only - expires 2026-11-23\n",
      "Set parameter TimeLimit to value 3600\n",
      "Restricted license - for non-production use only - expires 2026-11-23\n",
      "Set parameter TimeLimit to value 3600\n"
     ]
    },
    {
     "name": "stderr",
     "output_type": "stream",
     "text": [
      " 25%|██▍       | 246/1000 [00:35<01:24,  8.87graph/s]"
     ]
    },
    {
     "name": "stdout",
     "output_type": "stream",
     "text": [
      "Restricted license - for non-production use only - expires 2026-11-23\n",
      "Set parameter TimeLimit to value 3600\n",
      "Restricted license - for non-production use only - expires 2026-11-23\n",
      "Set parameter TimeLimit to value 3600\n"
     ]
    },
    {
     "name": "stderr",
     "output_type": "stream",
     "text": [
      " 25%|██▌       | 250/1000 [00:35<01:21,  9.25graph/s]"
     ]
    },
    {
     "name": "stdout",
     "output_type": "stream",
     "text": [
      "Restricted license - for non-production use only - expires 2026-11-23\n",
      "Set parameter TimeLimit to value 3600\n",
      "Restricted license - for non-production use only - expires 2026-11-23\n",
      "Set parameter TimeLimit to value 3600\n",
      "Restricted license - for non-production use only - expires 2026-11-23\n",
      "Set parameter TimeLimit to value 3600\n"
     ]
    },
    {
     "name": "stderr",
     "output_type": "stream",
     "text": [
      " 25%|██▌       | 252/1000 [00:36<01:15,  9.87graph/s]"
     ]
    },
    {
     "name": "stdout",
     "output_type": "stream",
     "text": [
      "Restricted license - for non-production use only - expires 2026-11-23\n",
      "Set parameter TimeLimit to value 3600\n",
      "Restricted license - for non-production use only - expires 2026-11-23\n",
      "Set parameter TimeLimit to value 3600\n"
     ]
    },
    {
     "name": "stderr",
     "output_type": "stream",
     "text": [
      " 25%|██▌       | 254/1000 [00:36<01:30,  8.23graph/s]"
     ]
    },
    {
     "name": "stdout",
     "output_type": "stream",
     "text": [
      "Restricted license - for non-production use only - expires 2026-11-23\n",
      "Set parameter TimeLimit to value 3600\n",
      "Restricted license - for non-production use only - expires 2026-11-23\n",
      "Set parameter TimeLimit to value 3600\n",
      "Restricted license - for non-production use only - expires 2026-11-23\n",
      "Set parameter TimeLimit to value 3600\n"
     ]
    },
    {
     "name": "stderr",
     "output_type": "stream",
     "text": [
      " 26%|██▌       | 256/1000 [00:36<02:03,  6.03graph/s]"
     ]
    },
    {
     "name": "stdout",
     "output_type": "stream",
     "text": [
      "Restricted license - for non-production use only - expires 2026-11-23\n",
      "Set parameter TimeLimit to value 3600\n",
      "Restricted license - for non-production use only - expires 2026-11-23\n",
      "Set parameter TimeLimit to value 3600\n",
      "Restricted license - for non-production use only - expires 2026-11-23\n",
      "Set parameter TimeLimit to value 3600\n",
      "Restricted license - for non-production use only - expires 2026-11-23\n",
      "Set parameter TimeLimit to value 3600\n"
     ]
    },
    {
     "name": "stderr",
     "output_type": "stream",
     "text": [
      " 26%|██▌       | 260/1000 [00:37<01:31,  8.08graph/s]"
     ]
    },
    {
     "name": "stdout",
     "output_type": "stream",
     "text": [
      "Restricted license - for non-production use only - expires 2026-11-23\n",
      "Set parameter TimeLimit to value 3600\n"
     ]
    },
    {
     "name": "stderr",
     "output_type": "stream",
     "text": [
      " 26%|██▌       | 261/1000 [00:37<01:44,  7.10graph/s]"
     ]
    },
    {
     "name": "stdout",
     "output_type": "stream",
     "text": [
      "Restricted license - for non-production use only - expires 2026-11-23\n",
      "Set parameter TimeLimit to value 3600\n"
     ]
    },
    {
     "name": "stderr",
     "output_type": "stream",
     "text": [
      " 26%|██▋       | 265/1000 [00:37<01:17,  9.43graph/s]"
     ]
    },
    {
     "name": "stdout",
     "output_type": "stream",
     "text": [
      "Restricted license - for non-production use only - expires 2026-11-23\n",
      "Set parameter TimeLimit to value 3600\n",
      "Restricted license - for non-production use only - expires 2026-11-23\n",
      "Set parameter TimeLimit to value 3600\n",
      "Restricted license - for non-production use only - expires 2026-11-23\n",
      "Set parameter TimeLimit to value 3600\n",
      "Restricted license - for non-production use only - expires 2026-11-23\n",
      "Set parameter TimeLimit to value 3600\n",
      "Restricted license - for non-production use only - expires 2026-11-23\n",
      "Set parameter TimeLimit to value 3600\n"
     ]
    },
    {
     "name": "stderr",
     "output_type": "stream",
     "text": [
      " 27%|██▋       | 267/1000 [00:37<01:06, 11.03graph/s]"
     ]
    },
    {
     "name": "stdout",
     "output_type": "stream",
     "text": [
      "Restricted license - for non-production use only - expires 2026-11-23\n",
      "Set parameter TimeLimit to value 3600\n",
      "Restricted license - for non-production use only - expires 2026-11-23\n"
     ]
    },
    {
     "name": "stderr",
     "output_type": "stream",
     "text": [
      " 27%|██▋       | 271/1000 [00:38<01:39,  7.29graph/s]"
     ]
    },
    {
     "name": "stdout",
     "output_type": "stream",
     "text": [
      "Set parameter TimeLimit to value 3600\n",
      "Restricted license - for non-production use only - expires 2026-11-23\n",
      "Set parameter TimeLimit to value 3600\n",
      "Restricted license - for non-production use only - expires 2026-11-23\n",
      "Set parameter TimeLimit to value 3600\n",
      "Restricted license - for non-production use only - expires 2026-11-23\n",
      "Set parameter TimeLimit to value 3600\n"
     ]
    },
    {
     "name": "stderr",
     "output_type": "stream",
     "text": [
      " 27%|██▋       | 273/1000 [00:38<01:29,  8.09graph/s]"
     ]
    },
    {
     "name": "stdout",
     "output_type": "stream",
     "text": [
      "Restricted license - for non-production use only - expires 2026-11-23\n",
      "Set parameter TimeLimit to value 3600\n",
      "Restricted license - for non-production use only - expires 2026-11-23\n",
      "Set parameter TimeLimit to value 3600\n",
      "Restricted license - for non-production use only - expires 2026-11-23\n",
      "Set parameter TimeLimit to value 3600\n",
      "Restricted license - for non-production use only - expires 2026-11-23\n",
      "Set parameter TimeLimit to value 3600\n",
      "Restricted license - for non-production use only - expires 2026-11-23\n",
      "Set parameter TimeLimit to value 3600\n"
     ]
    },
    {
     "name": "stderr",
     "output_type": "stream",
     "text": [
      " 28%|██▊       | 277/1000 [00:39<01:41,  7.15graph/s]"
     ]
    },
    {
     "name": "stdout",
     "output_type": "stream",
     "text": [
      "Restricted license - for non-production use only - expires 2026-11-23\n",
      "Set parameter TimeLimit to value 3600\n"
     ]
    },
    {
     "name": "stderr",
     "output_type": "stream",
     "text": [
      " 28%|██▊       | 279/1000 [00:39<01:51,  6.48graph/s]"
     ]
    },
    {
     "name": "stdout",
     "output_type": "stream",
     "text": [
      "Restricted license - for non-production use only - expires 2026-11-23\n",
      "Set parameter TimeLimit to value 3600\n",
      "Restricted license - for non-production use only - expires 2026-11-23\n",
      "Set parameter TimeLimit to value 3600\n",
      "Restricted license - for non-production use only - expires 2026-11-23\n",
      "Set parameter TimeLimit to value 3600\n"
     ]
    },
    {
     "name": "stderr",
     "output_type": "stream",
     "text": [
      " 28%|██▊       | 281/1000 [00:40<01:52,  6.38graph/s]"
     ]
    },
    {
     "name": "stdout",
     "output_type": "stream",
     "text": [
      "Restricted license - for non-production use only - expires 2026-11-23\n",
      "Set parameter TimeLimit to value 3600\n",
      "Restricted license - for non-production use only - expires 2026-11-23\n",
      "Set parameter TimeLimit to value 3600\n"
     ]
    },
    {
     "name": "stderr",
     "output_type": "stream",
     "text": [
      " 28%|██▊       | 283/1000 [00:40<02:00,  5.97graph/s]"
     ]
    },
    {
     "name": "stdout",
     "output_type": "stream",
     "text": [
      "Restricted license - for non-production use only - expires 2026-11-23\n",
      "Set parameter TimeLimit to value 3600\n",
      "Restricted license - for non-production use only - expires 2026-11-23\n",
      "Set parameter TimeLimit to value 3600\n"
     ]
    },
    {
     "name": "stderr",
     "output_type": "stream",
     "text": [
      " 29%|██▊       | 287/1000 [00:41<01:31,  7.75graph/s]"
     ]
    },
    {
     "name": "stdout",
     "output_type": "stream",
     "text": [
      "Restricted license - for non-production use only - expires 2026-11-23\n",
      "Set parameter TimeLimit to value 3600\n",
      "Restricted license - for non-production use only - expires 2026-11-23\n",
      "Set parameter TimeLimit to value 3600\n",
      "Restricted license - for non-production use only - expires 2026-11-23\n",
      "Set parameter TimeLimit to value 3600\n"
     ]
    },
    {
     "name": "stderr",
     "output_type": "stream",
     "text": [
      " 29%|██▉       | 289/1000 [00:41<01:23,  8.48graph/s]"
     ]
    },
    {
     "name": "stdout",
     "output_type": "stream",
     "text": [
      "Restricted license - for non-production use only - expires 2026-11-23\n",
      "Set parameter TimeLimit to value 3600\n",
      "Restricted license - for non-production use only - expires 2026-11-23\n",
      "Set parameter TimeLimit to value 3600\n"
     ]
    },
    {
     "name": "stderr",
     "output_type": "stream",
     "text": [
      " 29%|██▉       | 291/1000 [00:41<01:41,  6.98graph/s]"
     ]
    },
    {
     "name": "stdout",
     "output_type": "stream",
     "text": [
      "Restricted license - for non-production use only - expires 2026-11-23\n",
      "Set parameter TimeLimit to value 3600\n",
      "Restricted license - for non-production use only - expires 2026-11-23\n",
      "Set parameter TimeLimit to value 3600\n",
      "Restricted license - for non-production use only - expires 2026-11-23\n",
      "Set parameter TimeLimit to value 3600\n"
     ]
    },
    {
     "name": "stderr",
     "output_type": "stream",
     "text": [
      " 29%|██▉       | 293/1000 [00:41<01:37,  7.27graph/s]"
     ]
    },
    {
     "name": "stdout",
     "output_type": "stream",
     "text": [
      "Restricted license - for non-production use only - expires 2026-11-23\n",
      "Set parameter TimeLimit to value 3600\n",
      "Restricted license - for non-production use only - expires 2026-11-23\n",
      "Set parameter TimeLimit to value 3600\n",
      "Restricted license - for non-production use only - expires 2026-11-23\n",
      "Set parameter TimeLimit to value 3600\n",
      "Restricted license - for non-production use only - expires 2026-11-23\n",
      "Set parameter TimeLimit to value 3600\n",
      "Restricted license - for non-production use only - expires 2026-11-23\n",
      "Set parameter TimeLimit to value 3600\n",
      "Restricted license - for non-production use only - expires 2026-11-23\n",
      "Set parameter TimeLimit to value 3600\n"
     ]
    },
    {
     "name": "stderr",
     "output_type": "stream",
     "text": [
      " 30%|██▉       | 299/1000 [00:42<00:59, 11.85graph/s]"
     ]
    },
    {
     "name": "stdout",
     "output_type": "stream",
     "text": [
      "Restricted license - for non-production use only - expires 2026-11-23\n",
      "Set parameter TimeLimit to value 3600\n"
     ]
    },
    {
     "name": "stderr",
     "output_type": "stream",
     "text": [
      " 30%|███       | 301/1000 [00:42<01:15,  9.27graph/s]"
     ]
    },
    {
     "name": "stdout",
     "output_type": "stream",
     "text": [
      "Restricted license - for non-production use only - expires 2026-11-23\n",
      "Set parameter TimeLimit to value 3600\n",
      "Restricted license - for non-production use only - expires 2026-11-23\n",
      "Set parameter TimeLimit to value 3600\n",
      "Restricted license - for non-production use only - expires 2026-11-23\n",
      "Set parameter TimeLimit to value 3600\n"
     ]
    },
    {
     "name": "stderr",
     "output_type": "stream",
     "text": [
      " 30%|███       | 303/1000 [00:42<01:19,  8.73graph/s]"
     ]
    },
    {
     "name": "stdout",
     "output_type": "stream",
     "text": [
      "Restricted license - for non-production use only - expires 2026-11-23\n",
      "Set parameter TimeLimit to value 3600\n",
      "Restricted license - for non-production use only - expires 2026-11-23\n",
      "Set parameter TimeLimit to value 3600\n"
     ]
    },
    {
     "name": "stderr",
     "output_type": "stream",
     "text": [
      " 30%|███       | 305/1000 [00:43<01:25,  8.16graph/s]"
     ]
    },
    {
     "name": "stdout",
     "output_type": "stream",
     "text": [
      "Restricted license - for non-production use only - expires 2026-11-23\n",
      "Set parameter TimeLimit to value 3600\n",
      "Restricted license - for non-production use only - expires 2026-11-23\n",
      "Set parameter TimeLimit to value 3600\n",
      "Restricted license - for non-production use only - expires 2026-11-23\n",
      "Set parameter TimeLimit to value 3600\n"
     ]
    },
    {
     "name": "stderr",
     "output_type": "stream",
     "text": [
      " 31%|███       | 308/1000 [00:43<01:37,  7.13graph/s]"
     ]
    },
    {
     "name": "stdout",
     "output_type": "stream",
     "text": [
      "Restricted license - for non-production use only - expires 2026-11-23\n",
      "Set parameter TimeLimit to value 3600\n",
      "Restricted license - for non-production use only - expires 2026-11-23\n",
      "Set parameter TimeLimit to value 3600\n",
      "Restricted license - for non-production use only - expires 2026-11-23\n",
      "Set parameter TimeLimit to value 3600\n"
     ]
    },
    {
     "name": "stderr",
     "output_type": "stream",
     "text": [
      " 31%|███▏      | 313/1000 [00:44<01:17,  8.91graph/s]"
     ]
    },
    {
     "name": "stdout",
     "output_type": "stream",
     "text": [
      "Restricted license - for non-production use only - expires 2026-11-23\n",
      "Set parameter TimeLimit to value 3600\n",
      "Restricted license - for non-production use only - expires 2026-11-23\n",
      "Set parameter TimeLimit to value 3600\n",
      "Restricted license - for non-production use only - expires 2026-11-23\n",
      "Set parameter TimeLimit to value 3600\n"
     ]
    },
    {
     "name": "stderr",
     "output_type": "stream",
     "text": [
      " 31%|███▏      | 314/1000 [00:44<01:37,  7.01graph/s]"
     ]
    },
    {
     "name": "stdout",
     "output_type": "stream",
     "text": [
      "Restricted license - for non-production use only - expires 2026-11-23\n",
      "Set parameter TimeLimit to value 3600\n"
     ]
    },
    {
     "name": "stderr",
     "output_type": "stream",
     "text": [
      " 32%|███▏      | 315/1000 [00:44<01:55,  5.95graph/s]"
     ]
    },
    {
     "name": "stdout",
     "output_type": "stream",
     "text": [
      "Restricted license - for non-production use only - expires 2026-11-23\n",
      "Set parameter TimeLimit to value 3600\n"
     ]
    },
    {
     "name": "stderr",
     "output_type": "stream",
     "text": [
      " 32%|███▏      | 316/1000 [00:44<02:02,  5.58graph/s]"
     ]
    },
    {
     "name": "stdout",
     "output_type": "stream",
     "text": [
      "Restricted license - for non-production use only - expires 2026-11-23\n",
      "Set parameter TimeLimit to value 3600\n",
      "Restricted license - for non-production use only - expires 2026-11-23\n",
      "Set parameter TimeLimit to value 3600\n",
      "Restricted license - for non-production use only - expires 2026-11-23\n",
      "Set parameter TimeLimit to value 3600\n",
      "Restricted license - for non-production use only - expires 2026-11-23\n",
      "Set parameter TimeLimit to value 3600\n"
     ]
    },
    {
     "name": "stderr",
     "output_type": "stream",
     "text": [
      " 32%|███▏      | 321/1000 [00:45<01:25,  7.94graph/s]"
     ]
    },
    {
     "name": "stdout",
     "output_type": "stream",
     "text": [
      "Restricted license - for non-production use only - expires 2026-11-23\n",
      "Set parameter TimeLimit to value 3600\n",
      "Restricted license - for non-production use only - expires 2026-11-23\n",
      "Set parameter TimeLimit to value 3600\n",
      "Restricted license - for non-production use only - expires 2026-11-23\n",
      "Set parameter TimeLimit to value 3600\n"
     ]
    },
    {
     "name": "stderr",
     "output_type": "stream",
     "text": [
      " 32%|███▏      | 323/1000 [00:45<01:10,  9.56graph/s]"
     ]
    },
    {
     "name": "stdout",
     "output_type": "stream",
     "text": [
      "Restricted license - for non-production use only - expires 2026-11-23\n",
      "Set parameter TimeLimit to value 3600\n",
      "Restricted license - for non-production use only - expires 2026-11-23\n",
      "Set parameter TimeLimit to value 3600\n"
     ]
    },
    {
     "name": "stderr",
     "output_type": "stream",
     "text": [
      " 33%|███▎      | 326/1000 [00:45<01:18,  8.63graph/s]"
     ]
    },
    {
     "name": "stdout",
     "output_type": "stream",
     "text": [
      "Restricted license - for non-production use only - expires 2026-11-23\n",
      "Set parameter TimeLimit to value 3600\n",
      "Restricted license - for non-production use only - expires 2026-11-23\n",
      "Set parameter TimeLimit to value 3600\n"
     ]
    },
    {
     "name": "stderr",
     "output_type": "stream",
     "text": [
      " 33%|███▎      | 328/1000 [00:46<01:20,  8.37graph/s]"
     ]
    },
    {
     "name": "stdout",
     "output_type": "stream",
     "text": [
      "Restricted license - for non-production use only - expires 2026-11-23\n",
      "Set parameter TimeLimit to value 3600\n",
      "Restricted license - for non-production use only - expires 2026-11-23\n",
      "Set parameter TimeLimit to value 3600\n",
      "Restricted license - for non-production use only - expires 2026-11-23\n",
      "Set parameter TimeLimit to value 3600\n"
     ]
    },
    {
     "name": "stderr",
     "output_type": "stream",
     "text": [
      " 33%|███▎      | 332/1000 [00:46<01:26,  7.76graph/s]"
     ]
    },
    {
     "name": "stdout",
     "output_type": "stream",
     "text": [
      "Restricted license - for non-production use only - expires 2026-11-23\n",
      "Set parameter TimeLimit to value 3600\n",
      "Restricted license - for non-production use only - expires 2026-11-23\n",
      "Set parameter TimeLimit to value 3600\n",
      "Restricted license - for non-production use only - expires 2026-11-23\n",
      "Set parameter TimeLimit to value 3600\n"
     ]
    },
    {
     "name": "stderr",
     "output_type": "stream",
     "text": [
      " 33%|███▎      | 333/1000 [00:46<01:23,  8.01graph/s]"
     ]
    },
    {
     "name": "stdout",
     "output_type": "stream",
     "text": [
      "Restricted license - for non-production use only - expires 2026-11-23\n",
      "Set parameter TimeLimit to value 3600\n"
     ]
    },
    {
     "name": "stderr",
     "output_type": "stream",
     "text": [
      " 33%|███▎      | 334/1000 [00:47<01:54,  5.83graph/s]"
     ]
    },
    {
     "name": "stdout",
     "output_type": "stream",
     "text": [
      "Restricted license - for non-production use only - expires 2026-11-23\n",
      "Set parameter TimeLimit to value 3600\n",
      "Restricted license - for non-production use only - expires 2026-11-23\n",
      "Set parameter TimeLimit to value 3600\n",
      "Restricted license - for non-production use only - expires 2026-11-23\n",
      "Set parameter TimeLimit to value 3600\n"
     ]
    },
    {
     "name": "stderr",
     "output_type": "stream",
     "text": [
      " 34%|███▍      | 339/1000 [00:47<01:18,  8.43graph/s]"
     ]
    },
    {
     "name": "stdout",
     "output_type": "stream",
     "text": [
      "Restricted license - for non-production use only - expires 2026-11-23\n",
      "Set parameter TimeLimit to value 3600\n",
      "Restricted license - for non-production use only - expires 2026-11-23\n",
      "Set parameter TimeLimit to value 3600\n",
      "Restricted license - for non-production use only - expires 2026-11-23\n",
      "Set parameter TimeLimit to value 3600\n"
     ]
    },
    {
     "name": "stderr",
     "output_type": "stream",
     "text": [
      " 34%|███▍      | 341/1000 [00:47<01:14,  8.81graph/s]"
     ]
    },
    {
     "name": "stdout",
     "output_type": "stream",
     "text": [
      "Restricted license - for non-production use only - expires 2026-11-23\n",
      "Set parameter TimeLimit to value 3600\n",
      "Restricted license - for non-production use only - expires 2026-11-23\n",
      "Set parameter TimeLimit to value 3600\n"
     ]
    },
    {
     "name": "stderr",
     "output_type": "stream",
     "text": [
      " 34%|███▍      | 342/1000 [00:47<01:19,  8.26graph/s]"
     ]
    },
    {
     "name": "stdout",
     "output_type": "stream",
     "text": [
      "Restricted license - for non-production use only - expires 2026-11-23\n",
      "Set parameter TimeLimit to value 3600\n",
      "Restricted license - for non-production use only - expires 2026-11-23\n",
      "Set parameter TimeLimit to value 3600\n"
     ]
    },
    {
     "name": "stderr",
     "output_type": "stream",
     "text": [
      " 34%|███▍      | 344/1000 [00:48<01:17,  8.42graph/s]"
     ]
    },
    {
     "name": "stdout",
     "output_type": "stream",
     "text": [
      "Restricted license - for non-production use only - expires 2026-11-23\n",
      "Set parameter TimeLimit to value 3600\n",
      "Restricted license - for non-production use only - expires 2026-11-23\n",
      "Set parameter TimeLimit to value 3600\n"
     ]
    },
    {
     "name": "stderr",
     "output_type": "stream",
     "text": [
      " 35%|███▍      | 346/1000 [00:48<01:25,  7.69graph/s]"
     ]
    },
    {
     "name": "stdout",
     "output_type": "stream",
     "text": [
      "Restricted license - for non-production use only - expires 2026-11-23\n",
      "Set parameter TimeLimit to value 3600\n",
      "Restricted license - for non-production use only - expires 2026-11-23\n",
      "Set parameter TimeLimit to value 3600\n"
     ]
    },
    {
     "name": "stderr",
     "output_type": "stream",
     "text": [
      " 35%|███▌      | 350/1000 [00:48<01:18,  8.27graph/s]"
     ]
    },
    {
     "name": "stdout",
     "output_type": "stream",
     "text": [
      "Restricted license - for non-production use only - expires 2026-11-23\n",
      "Set parameter TimeLimit to value 3600\n",
      "Restricted license - for non-production use only - expires 2026-11-23\n",
      "Set parameter TimeLimit to value 3600\n",
      "Restricted license - for non-production use only - expires 2026-11-23\n",
      "Set parameter TimeLimit to value 3600\n"
     ]
    },
    {
     "name": "stderr",
     "output_type": "stream",
     "text": [
      " 35%|███▌      | 351/1000 [00:49<01:28,  7.31graph/s]"
     ]
    },
    {
     "name": "stdout",
     "output_type": "stream",
     "text": [
      "Restricted license - for non-production use only - expires 2026-11-23\n",
      "Set parameter TimeLimit to value 3600\n",
      "Restricted license - for non-production use only - expires 2026-11-23\n",
      "Set parameter TimeLimit to value 3600\n"
     ]
    },
    {
     "name": "stderr",
     "output_type": "stream",
     "text": [
      " 35%|███▌      | 353/1000 [00:49<01:27,  7.39graph/s]"
     ]
    },
    {
     "name": "stdout",
     "output_type": "stream",
     "text": [
      "Restricted license - for non-production use only - expires 2026-11-23\n",
      "Set parameter TimeLimit to value 3600\n",
      "Restricted license - for non-production use only - expires 2026-11-23\n",
      "Set parameter TimeLimit to value 3600\n",
      "Restricted license - for non-production use only - expires 2026-11-23\n",
      "Set parameter TimeLimit to value 3600\n",
      "Restricted license - for non-production use only - expires 2026-11-23\n",
      "Set parameter TimeLimit to value 3600\n"
     ]
    },
    {
     "name": "stderr",
     "output_type": "stream",
     "text": [
      " 36%|███▌      | 357/1000 [00:49<01:02, 10.25graph/s]"
     ]
    },
    {
     "name": "stdout",
     "output_type": "stream",
     "text": [
      "Restricted license - for non-production use only - expires 2026-11-23\n",
      "Set parameter TimeLimit to value 3600\n",
      "Restricted license - for non-production use only - expires 2026-11-23\n",
      "Set parameter TimeLimit to value 3600\n"
     ]
    },
    {
     "name": "stderr",
     "output_type": "stream",
     "text": [
      " 36%|███▌      | 359/1000 [00:49<01:08,  9.37graph/s]"
     ]
    },
    {
     "name": "stdout",
     "output_type": "stream",
     "text": [
      "Restricted license - for non-production use only - expires 2026-11-23\n",
      "Set parameter TimeLimit to value 3600\n",
      "Restricted license - for non-production use only - expires 2026-11-23\n",
      "Set parameter TimeLimit to value 3600\n",
      "Restricted license - for non-production use only - expires 2026-11-23\n",
      "Set parameter TimeLimit to value 3600\n"
     ]
    },
    {
     "name": "stderr",
     "output_type": "stream",
     "text": [
      " 36%|███▌      | 362/1000 [00:50<01:02, 10.16graph/s]"
     ]
    },
    {
     "name": "stdout",
     "output_type": "stream",
     "text": [
      "Restricted license - for non-production use only - expires 2026-11-23\n",
      "Set parameter TimeLimit to value 3600\n",
      "Restricted license - for non-production use only - expires 2026-11-23\n",
      "Set parameter TimeLimit to value 3600\n",
      "Restricted license - for non-production use only - expires 2026-11-23\n",
      "Set parameter TimeLimit to value 3600\n"
     ]
    },
    {
     "name": "stderr",
     "output_type": "stream",
     "text": [
      " 37%|███▋      | 368/1000 [00:50<00:48, 13.16graph/s]"
     ]
    },
    {
     "name": "stdout",
     "output_type": "stream",
     "text": [
      "Restricted license - for non-production use only - expires 2026-11-23\n",
      "Set parameter TimeLimit to value 3600\n",
      "Restricted license - for non-production use only - expires 2026-11-23\n",
      "Set parameter TimeLimit to value 3600\n",
      "Restricted license - for non-production use only - expires 2026-11-23\n",
      "Set parameter TimeLimit to value 3600\n",
      "Restricted license - for non-production use only - expires 2026-11-23\n",
      "Set parameter TimeLimit to value 3600\n"
     ]
    },
    {
     "name": "stderr",
     "output_type": "stream",
     "text": [
      " 37%|███▋      | 370/1000 [00:50<00:56, 11.23graph/s]"
     ]
    },
    {
     "name": "stdout",
     "output_type": "stream",
     "text": [
      "Restricted license - for non-production use only - expires 2026-11-23\n",
      "Set parameter TimeLimit to value 3600\n",
      "Restricted license - for non-production use only - expires 2026-11-23\n",
      "Set parameter TimeLimit to value 3600\n",
      "Restricted license - for non-production use only - expires 2026-11-23\n",
      "Set parameter TimeLimit to value 3600\n"
     ]
    },
    {
     "name": "stderr",
     "output_type": "stream",
     "text": [
      " 37%|███▋      | 372/1000 [00:50<00:50, 12.37graph/s]"
     ]
    },
    {
     "name": "stdout",
     "output_type": "stream",
     "text": [
      "Restricted license - for non-production use only - expires 2026-11-23\n",
      "Set parameter TimeLimit to value 3600\n",
      "Restricted license - for non-production use only - expires 2026-11-23\n",
      "Set parameter TimeLimit to value 3600\n"
     ]
    },
    {
     "name": "stderr",
     "output_type": "stream",
     "text": [
      " 38%|███▊      | 376/1000 [00:51<01:01, 10.11graph/s]"
     ]
    },
    {
     "name": "stdout",
     "output_type": "stream",
     "text": [
      "Restricted license - for non-production use only - expires 2026-11-23\n",
      "Set parameter TimeLimit to value 3600\n",
      "Restricted license - for non-production use only - expires 2026-11-23\n",
      "Set parameter TimeLimit to value 3600\n",
      "Restricted license - for non-production use only - expires 2026-11-23\n",
      "Set parameter TimeLimit to value 3600\n"
     ]
    },
    {
     "name": "stderr",
     "output_type": "stream",
     "text": [
      " 38%|███▊      | 380/1000 [00:51<00:41, 14.88graph/s]"
     ]
    },
    {
     "name": "stdout",
     "output_type": "stream",
     "text": [
      "Restricted license - for non-production use only - expires 2026-11-23\n",
      "Set parameter TimeLimit to value 3600\n",
      "Restricted license - for non-production use only - expires 2026-11-23\n",
      "Set parameter TimeLimit to value 3600\n",
      "Restricted license - for non-production use only - expires 2026-11-23\n",
      "Set parameter TimeLimit to value 3600\n",
      "Restricted license - for non-production use only - expires 2026-11-23\n",
      "Set parameter TimeLimit to value 3600\n",
      "Restricted license - for non-production use only - expires 2026-11-23\n",
      "Set parameter TimeLimit to value 3600\n"
     ]
    },
    {
     "name": "stderr",
     "output_type": "stream",
     "text": [
      " 38%|███▊      | 384/1000 [00:52<00:57, 10.73graph/s]"
     ]
    },
    {
     "name": "stdout",
     "output_type": "stream",
     "text": [
      "Restricted license - for non-production use only - expires 2026-11-23\n",
      "Set parameter TimeLimit to value 3600\n",
      "Restricted license - for non-production use only - expires 2026-11-23\n",
      "Set parameter TimeLimit to value 3600\n",
      "Restricted license - for non-production use only - expires 2026-11-23\n",
      "Set parameter TimeLimit to value 3600\n"
     ]
    },
    {
     "name": "stderr",
     "output_type": "stream",
     "text": [
      " 39%|███▊      | 386/1000 [00:52<01:06,  9.21graph/s]"
     ]
    },
    {
     "name": "stdout",
     "output_type": "stream",
     "text": [
      "Restricted license - for non-production use only - expires 2026-11-23\n",
      "Set parameter TimeLimit to value 3600\n",
      "Restricted license - for non-production use only - expires 2026-11-23\n",
      "Set parameter TimeLimit to value 3600\n",
      "Restricted license - for non-production use only - expires 2026-11-23\n",
      "Set parameter TimeLimit to value 3600\n"
     ]
    },
    {
     "name": "stderr",
     "output_type": "stream",
     "text": [
      " 39%|███▉      | 392/1000 [00:53<01:07,  9.02graph/s]"
     ]
    },
    {
     "name": "stdout",
     "output_type": "stream",
     "text": [
      "Restricted license - for non-production use only - expires 2026-11-23\n",
      "Set parameter TimeLimit to value 3600\n",
      "Restricted license - for non-production use only - expires 2026-11-23\n",
      "Set parameter TimeLimit to value 3600\n",
      "Restricted license - for non-production use only - expires 2026-11-23\n",
      "Restricted license - for non-production use only - expires 2026-11-23\n",
      "Set parameter TimeLimit to value 3600\n",
      "Set parameter TimeLimit to value 3600\n",
      "Restricted license - for non-production use only - expires 2026-11-23\n",
      "Set parameter TimeLimit to value 3600\n"
     ]
    },
    {
     "name": "stderr",
     "output_type": "stream",
     "text": [
      " 39%|███▉      | 394/1000 [00:53<01:02,  9.75graph/s]"
     ]
    },
    {
     "name": "stdout",
     "output_type": "stream",
     "text": [
      "Restricted license - for non-production use only - expires 2026-11-23\n",
      "Set parameter TimeLimit to value 3600\n",
      "Restricted license - for non-production use only - expires 2026-11-23\n",
      "Set parameter TimeLimit to value 3600\n",
      "Restricted license - for non-production use only - expires 2026-11-23\n",
      "Set parameter TimeLimit to value 3600\n"
     ]
    },
    {
     "name": "stderr",
     "output_type": "stream",
     "text": [
      " 40%|███▉      | 396/1000 [00:53<01:28,  6.79graph/s]"
     ]
    },
    {
     "name": "stdout",
     "output_type": "stream",
     "text": [
      "Restricted license - for non-production use only - expires 2026-11-23\n",
      "Set parameter TimeLimit to value 3600\n",
      "Restricted license - for non-production use only - expires 2026-11-23\n",
      "Set parameter TimeLimit to value 3600\n"
     ]
    },
    {
     "name": "stderr",
     "output_type": "stream",
     "text": [
      " 40%|███▉      | 398/1000 [00:54<01:25,  7.08graph/s]"
     ]
    },
    {
     "name": "stdout",
     "output_type": "stream",
     "text": [
      "Restricted license - for non-production use only - expires 2026-11-23\n",
      "Set parameter TimeLimit to value 3600\n",
      "Restricted license - for non-production use only - expires 2026-11-23\n",
      "Set parameter TimeLimit to value 3600\n",
      "Restricted license - for non-production use only - expires 2026-11-23\n",
      "Set parameter TimeLimit to value 3600\n"
     ]
    },
    {
     "name": "stderr",
     "output_type": "stream",
     "text": [
      " 40%|████      | 402/1000 [00:54<01:28,  6.74graph/s]"
     ]
    },
    {
     "name": "stdout",
     "output_type": "stream",
     "text": [
      "Restricted license - for non-production use only - expires 2026-11-23\n",
      "Set parameter TimeLimit to value 3600\n",
      "Restricted license - for non-production use only - expires 2026-11-23\n",
      "Set parameter TimeLimit to value 3600\n"
     ]
    },
    {
     "name": "stderr",
     "output_type": "stream",
     "text": [
      " 40%|████      | 403/1000 [00:54<01:29,  6.68graph/s]"
     ]
    },
    {
     "name": "stdout",
     "output_type": "stream",
     "text": [
      "Restricted license - for non-production use only - expires 2026-11-23\n",
      "Set parameter TimeLimit to value 3600\n",
      "Restricted license - for non-production use only - expires 2026-11-23\n",
      "Set parameter TimeLimit to value 3600\n",
      "Restricted license - for non-production use only - expires 2026-11-23\n",
      "Set parameter TimeLimit to value 3600\n",
      "Restricted license - for non-production use only - expires 2026-11-23\n",
      "Set parameter TimeLimit to value 3600\n"
     ]
    },
    {
     "name": "stderr",
     "output_type": "stream",
     "text": [
      " 41%|████      | 407/1000 [00:55<01:00,  9.86graph/s]"
     ]
    },
    {
     "name": "stdout",
     "output_type": "stream",
     "text": [
      "Restricted license - for non-production use only - expires 2026-11-23\n",
      "Set parameter TimeLimit to value 3600\n",
      "Restricted license - for non-production use only - expires 2026-11-23\n",
      "Set parameter TimeLimit to value 3600\n"
     ]
    },
    {
     "name": "stderr",
     "output_type": "stream",
     "text": [
      " 41%|████      | 409/1000 [00:55<01:25,  6.92graph/s]"
     ]
    },
    {
     "name": "stdout",
     "output_type": "stream",
     "text": [
      "Restricted license - for non-production use only - expires 2026-11-23\n",
      "Set parameter TimeLimit to value 3600\n",
      "Restricted license - for non-production use only - expires 2026-11-23\n",
      "Set parameter TimeLimit to value 3600\n",
      "Restricted license - for non-production use only - expires 2026-11-23\n",
      "Set parameter TimeLimit to value 3600\n"
     ]
    },
    {
     "name": "stderr",
     "output_type": "stream",
     "text": [
      " 41%|████▏     | 414/1000 [00:56<01:05,  8.97graph/s]"
     ]
    },
    {
     "name": "stdout",
     "output_type": "stream",
     "text": [
      "Restricted license - for non-production use only - expires 2026-11-23\n",
      "Set parameter TimeLimit to value 3600\n",
      "Restricted license - for non-production use only - expires 2026-11-23\n",
      "Set parameter TimeLimit to value 3600\n",
      "Restricted license - for non-production use only - expires 2026-11-23\n",
      "Set parameter TimeLimit to value 3600\n"
     ]
    },
    {
     "name": "stderr",
     "output_type": "stream",
     "text": [
      " 42%|████▏     | 416/1000 [00:56<01:05,  8.92graph/s]"
     ]
    },
    {
     "name": "stdout",
     "output_type": "stream",
     "text": [
      "Restricted license - for non-production use only - expires 2026-11-23\n",
      "Set parameter TimeLimit to value 3600\n",
      "Restricted license - for non-production use only - expires 2026-11-23\n",
      "Set parameter TimeLimit to value 3600\n",
      "Restricted license - for non-production use only - expires 2026-11-23\n",
      "Set parameter TimeLimit to value 3600\n"
     ]
    },
    {
     "name": "stderr",
     "output_type": "stream",
     "text": [
      " 42%|████▏     | 418/1000 [00:56<01:09,  8.36graph/s]"
     ]
    },
    {
     "name": "stdout",
     "output_type": "stream",
     "text": [
      "Restricted license - for non-production use only - expires 2026-11-23\n",
      "Set parameter TimeLimit to value 3600\n"
     ]
    },
    {
     "name": "stderr",
     "output_type": "stream",
     "text": [
      " 42%|████▏     | 421/1000 [00:57<01:14,  7.75graph/s]"
     ]
    },
    {
     "name": "stdout",
     "output_type": "stream",
     "text": [
      "Restricted license - for non-production use only - expires 2026-11-23\n",
      "Set parameter TimeLimit to value 3600\n",
      "Restricted license - for non-production use only - expires 2026-11-23\n",
      "Set parameter TimeLimit to value 3600\n",
      "Restricted license - for non-production use only - expires 2026-11-23\n",
      "Set parameter TimeLimit to value 3600\n",
      "Restricted license - for non-production use only - expires 2026-11-23\n",
      "Set parameter TimeLimit to value 3600\n",
      "Restricted license - for non-production use only - expires 2026-11-23\n",
      "Set parameter TimeLimit to value 3600\n",
      "Restricted license - for non-production use only - expires 2026-11-23\n",
      "Set parameter TimeLimit to value 3600\n"
     ]
    },
    {
     "name": "stderr",
     "output_type": "stream",
     "text": [
      " 42%|████▎     | 425/1000 [00:57<01:22,  6.97graph/s]"
     ]
    },
    {
     "name": "stdout",
     "output_type": "stream",
     "text": [
      "Restricted license - for non-production use only - expires 2026-11-23\n",
      "Set parameter TimeLimit to value 3600\n",
      "Restricted license - for non-production use only - expires 2026-11-23\n",
      "Set parameter TimeLimit to value 3600\n"
     ]
    },
    {
     "name": "stderr",
     "output_type": "stream",
     "text": [
      " 43%|████▎     | 430/1000 [00:58<01:05,  8.76graph/s]"
     ]
    },
    {
     "name": "stdout",
     "output_type": "stream",
     "text": [
      "Restricted license - for non-production use only - expires 2026-11-23\n",
      "Set parameter TimeLimit to value 3600\n",
      "Restricted license - for non-production use only - expires 2026-11-23\n",
      "Set parameter TimeLimit to value 3600\n",
      "Restricted license - for non-production use only - expires 2026-11-23\n",
      "Set parameter TimeLimit to value 3600\n",
      "Restricted license - for non-production use only - expires 2026-11-23\n",
      "Set parameter TimeLimit to value 3600\n"
     ]
    },
    {
     "name": "stderr",
     "output_type": "stream",
     "text": [
      " 43%|████▎     | 432/1000 [00:58<01:18,  7.21graph/s]"
     ]
    },
    {
     "name": "stdout",
     "output_type": "stream",
     "text": [
      "Restricted license - for non-production use only - expires 2026-11-23\n",
      "Set parameter TimeLimit to value 3600\n",
      "Restricted license - for non-production use only - expires 2026-11-23\n",
      "Set parameter TimeLimit to value 3600\n"
     ]
    },
    {
     "name": "stderr",
     "output_type": "stream",
     "text": [
      " 43%|████▎     | 434/1000 [00:58<01:23,  6.78graph/s]"
     ]
    },
    {
     "name": "stdout",
     "output_type": "stream",
     "text": [
      "Restricted license - for non-production use only - expires 2026-11-23\n",
      "Set parameter TimeLimit to value 3600\n",
      "Restricted license - for non-production use only - expires 2026-11-23\n",
      "Set parameter TimeLimit to value 3600\n"
     ]
    },
    {
     "name": "stderr",
     "output_type": "stream",
     "text": [
      " 44%|████▎     | 436/1000 [00:59<01:38,  5.74graph/s]"
     ]
    },
    {
     "name": "stdout",
     "output_type": "stream",
     "text": [
      "Restricted license - for non-production use only - expires 2026-11-23\n",
      "Set parameter TimeLimit to value 3600\n",
      "Restricted license - for non-production use only - expires 2026-11-23\n",
      "Set parameter TimeLimit to value 3600\n"
     ]
    },
    {
     "name": "stderr",
     "output_type": "stream",
     "text": [
      " 44%|████▎     | 437/1000 [00:59<02:08,  4.38graph/s]"
     ]
    },
    {
     "name": "stdout",
     "output_type": "stream",
     "text": [
      "Restricted license - for non-production use only - expires 2026-11-23\n",
      "Set parameter TimeLimit to value 3600\n",
      "Restricted license - for non-production use only - expires 2026-11-23\n",
      "Set parameter TimeLimit to value 3600\n",
      "Restricted license - for non-production use only - expires 2026-11-23\n",
      "Set parameter TimeLimit to value 3600\n"
     ]
    },
    {
     "name": "stderr",
     "output_type": "stream",
     "text": [
      " 44%|████▍     | 441/1000 [01:00<01:51,  5.01graph/s]"
     ]
    },
    {
     "name": "stdout",
     "output_type": "stream",
     "text": [
      "Restricted license - for non-production use only - expires 2026-11-23\n",
      "Set parameter TimeLimit to value 3600\n",
      "Restricted license - for non-production use only - expires 2026-11-23\n",
      "Set parameter TimeLimit to value 3600\n",
      "Restricted license - for non-production use only - expires 2026-11-23\n",
      "Set parameter TimeLimit to value 3600\n"
     ]
    },
    {
     "name": "stderr",
     "output_type": "stream",
     "text": [
      " 44%|████▍     | 443/1000 [01:00<01:30,  6.14graph/s]"
     ]
    },
    {
     "name": "stdout",
     "output_type": "stream",
     "text": [
      "Restricted license - for non-production use only - expires 2026-11-23\n",
      "Set parameter TimeLimit to value 3600\n",
      "Restricted license - for non-production use only - expires 2026-11-23\n",
      "Set parameter TimeLimit to value 3600\n"
     ]
    },
    {
     "name": "stderr",
     "output_type": "stream",
     "text": [
      " 45%|████▍     | 448/1000 [01:01<01:17,  7.12graph/s]"
     ]
    },
    {
     "name": "stdout",
     "output_type": "stream",
     "text": [
      "Restricted license - for non-production use only - expires 2026-11-23\n",
      "Set parameter TimeLimit to value 3600\n",
      "Restricted license - for non-production use only - expires 2026-11-23\n",
      "Set parameter TimeLimit to value 3600\n",
      "Restricted license - for non-production use only - expires 2026-11-23\n",
      "Set parameter TimeLimit to value 3600\n",
      "Restricted license - for non-production use only - expires 2026-11-23\n",
      "Set parameter TimeLimit to value 3600\n",
      "Restricted license - for non-production use only - expires 2026-11-23\n",
      "Set parameter TimeLimit to value 3600\n"
     ]
    },
    {
     "name": "stderr",
     "output_type": "stream",
     "text": [
      " 45%|████▌     | 450/1000 [01:02<01:50,  4.97graph/s]"
     ]
    },
    {
     "name": "stdout",
     "output_type": "stream",
     "text": [
      "Restricted license - for non-production use only - expires 2026-11-23\n",
      "Set parameter TimeLimit to value 3600\n",
      "Restricted license - for non-production use only - expires 2026-11-23\n",
      "Set parameter TimeLimit to value 3600\n",
      "Restricted license - for non-production use only - expires 2026-11-23\n",
      "Set parameter TimeLimit to value 3600\n"
     ]
    },
    {
     "name": "stderr",
     "output_type": "stream",
     "text": [
      " 46%|████▌     | 455/1000 [01:02<01:14,  7.28graph/s]"
     ]
    },
    {
     "name": "stdout",
     "output_type": "stream",
     "text": [
      "Restricted license - for non-production use only - expires 2026-11-23\n",
      "Set parameter TimeLimit to value 3600\n",
      "Restricted license - for non-production use only - expires 2026-11-23\n",
      "Set parameter TimeLimit to value 3600\n",
      "Restricted license - for non-production use only - expires 2026-11-23\n",
      "Set parameter TimeLimit to value 3600\n",
      "Restricted license - for non-production use only - expires 2026-11-23\n",
      "Set parameter TimeLimit to value 3600\n"
     ]
    },
    {
     "name": "stderr",
     "output_type": "stream",
     "text": [
      " 46%|████▌     | 459/1000 [01:03<01:02,  8.72graph/s]"
     ]
    },
    {
     "name": "stdout",
     "output_type": "stream",
     "text": [
      "Restricted license - for non-production use only - expires 2026-11-23\n",
      "Set parameter TimeLimit to value 3600\n",
      "Restricted license - for non-production use only - expires 2026-11-23\n",
      "Set parameter TimeLimit to value 3600\n",
      "Restricted license - for non-production use only - expires 2026-11-23\n",
      "Set parameter TimeLimit to value 3600\n"
     ]
    },
    {
     "name": "stderr",
     "output_type": "stream",
     "text": [
      " 46%|████▌     | 461/1000 [01:03<01:06,  8.13graph/s]"
     ]
    },
    {
     "name": "stdout",
     "output_type": "stream",
     "text": [
      "Restricted license - for non-production use only - expires 2026-11-23\n",
      "Set parameter TimeLimit to value 3600\n",
      "Restricted license - for non-production use only - expires 2026-11-23\n",
      "Set parameter TimeLimit to value 3600\n"
     ]
    },
    {
     "name": "stderr",
     "output_type": "stream",
     "text": [
      " 46%|████▌     | 462/1000 [01:03<01:29,  6.00graph/s]"
     ]
    },
    {
     "name": "stdout",
     "output_type": "stream",
     "text": [
      "Restricted license - for non-production use only - expires 2026-11-23\n",
      "Set parameter TimeLimit to value 3600\n",
      "Restricted license - for non-production use only - expires 2026-11-23\n",
      "Set parameter TimeLimit to value 3600\n"
     ]
    },
    {
     "name": "stderr",
     "output_type": "stream",
     "text": [
      " 46%|████▋     | 464/1000 [01:03<01:22,  6.52graph/s]"
     ]
    },
    {
     "name": "stdout",
     "output_type": "stream",
     "text": [
      "Restricted license - for non-production use only - expires 2026-11-23\n",
      "Set parameter TimeLimit to value 3600\n",
      "Restricted license - for non-production use only - expires 2026-11-23\n",
      "Set parameter TimeLimit to value 3600\n"
     ]
    },
    {
     "name": "stderr",
     "output_type": "stream",
     "text": [
      " 47%|████▋     | 468/1000 [01:04<01:10,  7.54graph/s]"
     ]
    },
    {
     "name": "stdout",
     "output_type": "stream",
     "text": [
      "Restricted license - for non-production use only - expires 2026-11-23\n",
      "Set parameter TimeLimit to value 3600\n",
      "Restricted license - for non-production use only - expires 2026-11-23\n",
      "Set parameter TimeLimit to value 3600\n",
      "Restricted license - for non-production use only - expires 2026-11-23\n",
      "Set parameter TimeLimit to value 3600\n"
     ]
    },
    {
     "name": "stderr",
     "output_type": "stream",
     "text": [
      " 47%|████▋     | 470/1000 [01:04<01:03,  8.39graph/s]"
     ]
    },
    {
     "name": "stdout",
     "output_type": "stream",
     "text": [
      "Restricted license - for non-production use only - expires 2026-11-23\n",
      "Set parameter TimeLimit to value 3600\n",
      "Restricted license - for non-production use only - expires 2026-11-23\n",
      "Set parameter TimeLimit to value 3600\n"
     ]
    },
    {
     "name": "stderr",
     "output_type": "stream",
     "text": [
      " 47%|████▋     | 472/1000 [01:05<01:22,  6.40graph/s]"
     ]
    },
    {
     "name": "stdout",
     "output_type": "stream",
     "text": [
      "Restricted license - for non-production use only - expires 2026-11-23\n",
      "Set parameter TimeLimit to value 3600\n",
      "Restricted license - for non-production use only - expires 2026-11-23\n",
      "Set parameter TimeLimit to value 3600\n"
     ]
    },
    {
     "name": "stderr",
     "output_type": "stream",
     "text": [
      " 48%|████▊     | 477/1000 [01:05<00:45, 11.43graph/s]"
     ]
    },
    {
     "name": "stdout",
     "output_type": "stream",
     "text": [
      "Restricted license - for non-production use only - expires 2026-11-23\n",
      "Set parameter TimeLimit to value 3600\n",
      "Restricted license - for non-production use only - expires 2026-11-23\n",
      "Set parameter TimeLimit to value 3600\n",
      "Restricted license - for non-production use only - expires 2026-11-23\n",
      "Set parameter TimeLimit to value 3600\n",
      "Restricted license - for non-production use only - expires 2026-11-23\n",
      "Set parameter TimeLimit to value 3600\n",
      "Restricted license - for non-production use only - expires 2026-11-23\n",
      "Set parameter TimeLimit to value 3600\n"
     ]
    },
    {
     "name": "stderr",
     "output_type": "stream",
     "text": [
      " 48%|████▊     | 479/1000 [01:05<00:45, 11.38graph/s]"
     ]
    },
    {
     "name": "stdout",
     "output_type": "stream",
     "text": [
      "Restricted license - for non-production use only - expires 2026-11-23\n",
      "Set parameter TimeLimit to value 3600\n",
      "Restricted license - for non-production use only - expires 2026-11-23\n",
      "Set parameter TimeLimit to value 3600\n",
      "Restricted license - for non-production use only - expires 2026-11-23\n",
      "Set parameter TimeLimit to value 3600\n"
     ]
    },
    {
     "name": "stderr",
     "output_type": "stream",
     "text": [
      " 48%|████▊     | 482/1000 [01:06<01:30,  5.70graph/s]"
     ]
    },
    {
     "name": "stdout",
     "output_type": "stream",
     "text": [
      "Restricted license - for non-production use only - expires 2026-11-23\n",
      "Set parameter TimeLimit to value 3600\n",
      "Restricted license - for non-production use only - expires 2026-11-23\n",
      "Set parameter TimeLimit to value 3600\n",
      "Restricted license - for non-production use only - expires 2026-11-23\n",
      "Set parameter TimeLimit to value 3600\n",
      "Restricted license - for non-production use only - expires 2026-11-23\n",
      "Set parameter TimeLimit to value 3600\n"
     ]
    },
    {
     "name": "stderr",
     "output_type": "stream",
     "text": [
      " 48%|████▊     | 485/1000 [01:06<01:11,  7.25graph/s]"
     ]
    },
    {
     "name": "stdout",
     "output_type": "stream",
     "text": [
      "Restricted license - for non-production use only - expires 2026-11-23\n",
      "Set parameter TimeLimit to value 3600\n"
     ]
    },
    {
     "name": "stderr",
     "output_type": "stream",
     "text": [
      " 49%|████▊     | 487/1000 [01:07<01:18,  6.53graph/s]"
     ]
    },
    {
     "name": "stdout",
     "output_type": "stream",
     "text": [
      "Restricted license - for non-production use only - expires 2026-11-23\n",
      "Set parameter TimeLimit to value 3600\n",
      "Restricted license - for non-production use only - expires 2026-11-23\n",
      "Set parameter TimeLimit to value 3600\n",
      "Restricted license - for non-production use only - expires 2026-11-23\n",
      "Set parameter TimeLimit to value 3600\n",
      "Restricted license - for non-production use only - expires 2026-11-23\n",
      "Set parameter TimeLimit to value 3600\n"
     ]
    },
    {
     "name": "stderr",
     "output_type": "stream",
     "text": [
      " 49%|████▉     | 490/1000 [01:07<01:07,  7.53graph/s]"
     ]
    },
    {
     "name": "stdout",
     "output_type": "stream",
     "text": [
      "Restricted license - for non-production use only - expires 2026-11-23\n",
      "Set parameter TimeLimit to value 3600\n"
     ]
    },
    {
     "name": "stderr",
     "output_type": "stream",
     "text": [
      " 49%|████▉     | 491/1000 [01:07<01:18,  6.48graph/s]"
     ]
    },
    {
     "name": "stdout",
     "output_type": "stream",
     "text": [
      "Restricted license - for non-production use only - expires 2026-11-23\n",
      "Set parameter TimeLimit to value 3600\n",
      "Restricted license - for non-production use only - expires 2026-11-23\n",
      "Set parameter TimeLimit to value 3600\n",
      "Restricted license - for non-production use only - expires 2026-11-23\n",
      "Set parameter TimeLimit to value 3600\n"
     ]
    },
    {
     "name": "stderr",
     "output_type": "stream",
     "text": [
      " 49%|████▉     | 494/1000 [01:07<00:59,  8.55graph/s]"
     ]
    },
    {
     "name": "stdout",
     "output_type": "stream",
     "text": [
      "Restricted license - for non-production use only - expires 2026-11-23\n",
      "Set parameter TimeLimit to value 3600\n"
     ]
    },
    {
     "name": "stderr",
     "output_type": "stream",
     "text": [
      " 50%|████▉     | 496/1000 [01:08<01:44,  4.80graph/s]"
     ]
    },
    {
     "name": "stdout",
     "output_type": "stream",
     "text": [
      "Restricted license - for non-production use only - expires 2026-11-23\n",
      "Set parameter TimeLimit to value 3600\n",
      "Restricted license - for non-production use only - expires 2026-11-23\n",
      "Set parameter TimeLimit to value 3600\n"
     ]
    },
    {
     "name": "stderr",
     "output_type": "stream",
     "text": [
      " 50%|████▉     | 499/1000 [01:09<01:20,  6.26graph/s]"
     ]
    },
    {
     "name": "stdout",
     "output_type": "stream",
     "text": [
      "Restricted license - for non-production use only - expires 2026-11-23\n",
      "Set parameter TimeLimit to value 3600\n",
      "Restricted license - for non-production use only - expires 2026-11-23\n",
      "Set parameter TimeLimit to value 3600\n",
      "Restricted license - for non-production use only - expires 2026-11-23\n",
      "Set parameter TimeLimit to value 3600\n",
      "Restricted license - for non-production use only - expires 2026-11-23\n",
      "Set parameter TimeLimit to value 3600\n"
     ]
    },
    {
     "name": "stderr",
     "output_type": "stream",
     "text": [
      " 50%|█████     | 502/1000 [01:09<01:06,  7.49graph/s]"
     ]
    },
    {
     "name": "stdout",
     "output_type": "stream",
     "text": [
      "Restricted license - for non-production use only - expires 2026-11-23\n",
      "Set parameter TimeLimit to value 3600\n",
      "Restricted license - for non-production use only - expires 2026-11-23\n",
      "Set parameter TimeLimit to value 3600\n"
     ]
    },
    {
     "name": "stderr",
     "output_type": "stream",
     "text": [
      " 50%|█████     | 503/1000 [01:09<01:11,  6.91graph/s]"
     ]
    },
    {
     "name": "stdout",
     "output_type": "stream",
     "text": [
      "Restricted license - for non-production use only - expires 2026-11-23\n",
      "Set parameter TimeLimit to value 3600\n"
     ]
    },
    {
     "name": "stderr",
     "output_type": "stream",
     "text": [
      " 50%|█████     | 505/1000 [01:10<01:46,  4.66graph/s]"
     ]
    },
    {
     "name": "stdout",
     "output_type": "stream",
     "text": [
      "Restricted license - for non-production use only - expires 2026-11-23\n",
      "Set parameter TimeLimit to value 3600\n",
      "Restricted license - for non-production use only - expires 2026-11-23\n",
      "Set parameter TimeLimit to value 3600\n",
      "Restricted license - for non-production use only - expires 2026-11-23\n",
      "Set parameter TimeLimit to value 3600\n"
     ]
    },
    {
     "name": "stderr",
     "output_type": "stream",
     "text": [
      " 51%|█████     | 510/1000 [01:10<01:05,  7.50graph/s]"
     ]
    },
    {
     "name": "stdout",
     "output_type": "stream",
     "text": [
      "Restricted license - for non-production use only - expires 2026-11-23\n",
      "Set parameter TimeLimit to value 3600\n",
      "Restricted license - for non-production use only - expires 2026-11-23\n",
      "Set parameter TimeLimit to value 3600\n",
      "Restricted license - for non-production use only - expires 2026-11-23\n",
      "Set parameter TimeLimit to value 3600\n",
      "Restricted license - for non-production use only - expires 2026-11-23\n",
      "Set parameter TimeLimit to value 3600\n"
     ]
    },
    {
     "name": "stderr",
     "output_type": "stream",
     "text": [
      " 51%|█████     | 512/1000 [01:11<01:24,  5.74graph/s]"
     ]
    },
    {
     "name": "stdout",
     "output_type": "stream",
     "text": [
      "Restricted license - for non-production use only - expires 2026-11-23\n",
      "Set parameter TimeLimit to value 3600\n",
      "Restricted license - for non-production use only - expires 2026-11-23\n",
      "Set parameter TimeLimit to value 3600\n"
     ]
    },
    {
     "name": "stderr",
     "output_type": "stream",
     "text": [
      " 52%|█████▏    | 516/1000 [01:11<00:59,  8.12graph/s]"
     ]
    },
    {
     "name": "stdout",
     "output_type": "stream",
     "text": [
      "Restricted license - for non-production use only - expires 2026-11-23\n",
      "Set parameter TimeLimit to value 3600\n",
      "Restricted license - for non-production use only - expires 2026-11-23\n",
      "Set parameter TimeLimit to value 3600\n",
      "Restricted license - for non-production use only - expires 2026-11-23\n",
      "Set parameter TimeLimit to value 3600\n",
      "Restricted license - for non-production use only - expires 2026-11-23\n",
      "Set parameter TimeLimit to value 3600\n",
      "Restricted license - for non-production use only - expires 2026-11-23\n",
      "Set parameter TimeLimit to value 3600\n"
     ]
    },
    {
     "name": "stderr",
     "output_type": "stream",
     "text": [
      " 52%|█████▏    | 518/1000 [01:12<01:34,  5.11graph/s]"
     ]
    },
    {
     "name": "stdout",
     "output_type": "stream",
     "text": [
      "Restricted license - for non-production use only - expires 2026-11-23\n",
      "Set parameter TimeLimit to value 3600\n",
      "Restricted license - for non-production use only - expires 2026-11-23\n",
      "Set parameter TimeLimit to value 3600\n"
     ]
    },
    {
     "name": "stderr",
     "output_type": "stream",
     "text": [
      " 52%|█████▏    | 520/1000 [01:12<01:36,  4.99graph/s]"
     ]
    },
    {
     "name": "stdout",
     "output_type": "stream",
     "text": [
      "Restricted license - for non-production use only - expires 2026-11-23\n",
      "Set parameter TimeLimit to value 3600\n",
      "Restricted license - for non-production use only - expires 2026-11-23\n",
      "Set parameter TimeLimit to value 3600\n"
     ]
    },
    {
     "name": "stderr",
     "output_type": "stream",
     "text": [
      " 52%|█████▏    | 522/1000 [01:13<01:31,  5.22graph/s]"
     ]
    },
    {
     "name": "stdout",
     "output_type": "stream",
     "text": [
      "Restricted license - for non-production use only - expires 2026-11-23\n",
      "Set parameter TimeLimit to value 3600\n",
      "Restricted license - for non-production use only - expires 2026-11-23\n",
      "Set parameter TimeLimit to value 3600\n",
      "Restricted license - for non-production use only - expires 2026-11-23\n",
      "Set parameter TimeLimit to value 3600\n"
     ]
    },
    {
     "name": "stderr",
     "output_type": "stream",
     "text": [
      " 52%|█████▎    | 525/1000 [01:13<01:11,  6.66graph/s]"
     ]
    },
    {
     "name": "stdout",
     "output_type": "stream",
     "text": [
      "Restricted license - for non-production use only - expires 2026-11-23\n",
      "Set parameter TimeLimit to value 3600\n",
      "Restricted license - for non-production use only - expires 2026-11-23\n",
      "Set parameter TimeLimit to value 3600\n"
     ]
    },
    {
     "name": "stderr",
     "output_type": "stream",
     "text": [
      " 53%|█████▎    | 528/1000 [01:13<01:07,  6.97graph/s]"
     ]
    },
    {
     "name": "stdout",
     "output_type": "stream",
     "text": [
      "Restricted license - for non-production use only - expires 2026-11-23\n",
      "Set parameter TimeLimit to value 3600\n",
      "Restricted license - for non-production use only - expires 2026-11-23\n",
      "Set parameter TimeLimit to value 3600\n",
      "Restricted license - for non-production use only - expires 2026-11-23\n",
      "Set parameter TimeLimit to value 3600\n"
     ]
    },
    {
     "name": "stderr",
     "output_type": "stream",
     "text": [
      " 53%|█████▎    | 530/1000 [01:14<01:12,  6.44graph/s]"
     ]
    },
    {
     "name": "stdout",
     "output_type": "stream",
     "text": [
      "Restricted license - for non-production use only - expires 2026-11-23\n",
      "Set parameter TimeLimit to value 3600\n",
      "Restricted license - for non-production use only - expires 2026-11-23\n",
      "Set parameter TimeLimit to value 3600\n",
      "Restricted license - for non-production use only - expires 2026-11-23\n",
      "Set parameter TimeLimit to value 3600\n",
      "Restricted license - for non-production use only - expires 2026-11-23\n",
      "Set parameter TimeLimit to value 3600\n"
     ]
    },
    {
     "name": "stderr",
     "output_type": "stream",
     "text": [
      " 53%|█████▎    | 534/1000 [01:14<00:49,  9.38graph/s]"
     ]
    },
    {
     "name": "stdout",
     "output_type": "stream",
     "text": [
      "Restricted license - for non-production use only - expires 2026-11-23\n",
      "Set parameter TimeLimit to value 3600\n",
      "Restricted license - for non-production use only - expires 2026-11-23\n",
      "Set parameter TimeLimit to value 3600\n"
     ]
    },
    {
     "name": "stderr",
     "output_type": "stream",
     "text": [
      " 54%|█████▎    | 536/1000 [01:14<00:51,  9.03graph/s]"
     ]
    },
    {
     "name": "stdout",
     "output_type": "stream",
     "text": [
      "Restricted license - for non-production use only - expires 2026-11-23\n",
      "Set parameter TimeLimit to value 3600\n",
      "Restricted license - for non-production use only - expires 2026-11-23\n",
      "Set parameter TimeLimit to value 3600\n"
     ]
    },
    {
     "name": "stderr",
     "output_type": "stream",
     "text": [
      " 54%|█████▍    | 538/1000 [01:15<01:08,  6.72graph/s]"
     ]
    },
    {
     "name": "stdout",
     "output_type": "stream",
     "text": [
      "Restricted license - for non-production use only - expires 2026-11-23\n",
      "Set parameter TimeLimit to value 3600\n",
      "Restricted license - for non-production use only - expires 2026-11-23\n",
      "Set parameter TimeLimit to value 3600\n",
      "Restricted license - for non-production use only - expires 2026-11-23\n",
      "Set parameter TimeLimit to value 3600\n"
     ]
    },
    {
     "name": "stderr",
     "output_type": "stream",
     "text": [
      " 54%|█████▍    | 541/1000 [01:15<01:06,  6.93graph/s]"
     ]
    },
    {
     "name": "stdout",
     "output_type": "stream",
     "text": [
      "Restricted license - for non-production use only - expires 2026-11-23\n",
      "Set parameter TimeLimit to value 3600\n"
     ]
    },
    {
     "name": "stderr",
     "output_type": "stream",
     "text": [
      " 54%|█████▍    | 542/1000 [01:15<01:11,  6.40graph/s]"
     ]
    },
    {
     "name": "stdout",
     "output_type": "stream",
     "text": [
      "Restricted license - for non-production use only - expires 2026-11-23\n",
      "Set parameter TimeLimit to value 3600\n"
     ]
    },
    {
     "name": "stderr",
     "output_type": "stream",
     "text": [
      " 55%|█████▍    | 549/1000 [01:16<00:46,  9.71graph/s]"
     ]
    },
    {
     "name": "stdout",
     "output_type": "stream",
     "text": [
      "Restricted license - for non-production use only - expires 2026-11-23\n",
      "Set parameter TimeLimit to value 3600\n",
      "Restricted license - for non-production use only - expires 2026-11-23\n",
      "Set parameter TimeLimit to value 3600\n",
      "Restricted license - for non-production use only - expires 2026-11-23\n",
      "Restricted license - for non-production use only - expires 2026-11-23\n",
      "Set parameter TimeLimit to value 3600\n",
      "Set parameter TimeLimit to value 3600\n",
      "Restricted license - for non-production use only - expires 2026-11-23\n",
      "Set parameter TimeLimit to value 3600\n",
      "Restricted license - for non-production use only - expires 2026-11-23\n",
      "Set parameter TimeLimit to value 3600\n"
     ]
    },
    {
     "name": "stderr",
     "output_type": "stream",
     "text": [
      " 55%|█████▌    | 551/1000 [01:16<00:50,  8.90graph/s]"
     ]
    },
    {
     "name": "stdout",
     "output_type": "stream",
     "text": [
      "Restricted license - for non-production use only - expires 2026-11-23\n",
      "Set parameter TimeLimit to value 3600\n",
      "Restricted license - for non-production use only - expires 2026-11-23\n",
      "Set parameter TimeLimit to value 3600\n",
      "Restricted license - for non-production use only - expires 2026-11-23\n",
      "Set parameter TimeLimit to value 3600\n",
      "Restricted license - for non-production use only - expires 2026-11-23\n",
      "Set parameter TimeLimit to value 3600\n"
     ]
    },
    {
     "name": "stderr",
     "output_type": "stream",
     "text": [
      " 56%|█████▌    | 556/1000 [01:17<00:55,  8.02graph/s]"
     ]
    },
    {
     "name": "stdout",
     "output_type": "stream",
     "text": [
      "Restricted license - for non-production use only - expires 2026-11-23\n",
      "Set parameter TimeLimit to value 3600\n",
      "Restricted license - for non-production use only - expires 2026-11-23\n",
      "Set parameter TimeLimit to value 3600\n",
      "Restricted license - for non-production use only - expires 2026-11-23\n",
      "Set parameter TimeLimit to value 3600\n",
      "Restricted license - for non-production use only - expires 2026-11-23\n",
      "Set parameter TimeLimit to value 3600\n",
      "Restricted license - for non-production use only - expires 2026-11-23\n",
      "Set parameter TimeLimit to value 3600\n"
     ]
    },
    {
     "name": "stderr",
     "output_type": "stream",
     "text": [
      " 56%|█████▌    | 558/1000 [01:17<00:55,  7.96graph/s]"
     ]
    },
    {
     "name": "stdout",
     "output_type": "stream",
     "text": [
      "Restricted license - for non-production use only - expires 2026-11-23\n",
      "Set parameter TimeLimit to value 3600\n",
      "Restricted license - for non-production use only - expires 2026-11-23\n",
      "Set parameter TimeLimit to value 3600\n"
     ]
    },
    {
     "name": "stderr",
     "output_type": "stream",
     "text": [
      " 56%|█████▌    | 560/1000 [01:18<00:56,  7.73graph/s]"
     ]
    },
    {
     "name": "stdout",
     "output_type": "stream",
     "text": [
      "Restricted license - for non-production use only - expires 2026-11-23\n",
      "Set parameter TimeLimit to value 3600\n",
      "Restricted license - for non-production use only - expires 2026-11-23\n",
      "Set parameter TimeLimit to value 3600\n",
      "Restricted license - for non-production use only - expires 2026-11-23\n",
      "Set parameter TimeLimit to value 3600\n"
     ]
    },
    {
     "name": "stderr",
     "output_type": "stream",
     "text": [
      " 56%|█████▋    | 563/1000 [01:18<00:54,  7.95graph/s]"
     ]
    },
    {
     "name": "stdout",
     "output_type": "stream",
     "text": [
      "Restricted license - for non-production use only - expires 2026-11-23\n",
      "Set parameter TimeLimit to value 3600\n"
     ]
    },
    {
     "name": "stderr",
     "output_type": "stream",
     "text": [
      " 56%|█████▋    | 565/1000 [01:18<00:57,  7.56graph/s]"
     ]
    },
    {
     "name": "stdout",
     "output_type": "stream",
     "text": [
      "Restricted license - for non-production use only - expires 2026-11-23\n",
      "Set parameter TimeLimit to value 3600\n",
      "Restricted license - for non-production use only - expires 2026-11-23\n",
      "Set parameter TimeLimit to value 3600\n",
      "Restricted license - for non-production use only - expires 2026-11-23\n",
      "Set parameter TimeLimit to value 3600\n"
     ]
    },
    {
     "name": "stderr",
     "output_type": "stream",
     "text": [
      " 57%|█████▋    | 567/1000 [01:19<00:59,  7.27graph/s]"
     ]
    },
    {
     "name": "stdout",
     "output_type": "stream",
     "text": [
      "Restricted license - for non-production use only - expires 2026-11-23\n",
      "Set parameter TimeLimit to value 3600\n",
      "Restricted license - for non-production use only - expires 2026-11-23\n",
      "Set parameter TimeLimit to value 3600\n",
      "Restricted license - for non-production use only - expires 2026-11-23\n",
      "Set parameter TimeLimit to value 3600\n"
     ]
    },
    {
     "name": "stderr",
     "output_type": "stream",
     "text": [
      " 57%|█████▋    | 570/1000 [01:19<00:48,  8.89graph/s]"
     ]
    },
    {
     "name": "stdout",
     "output_type": "stream",
     "text": [
      "Restricted license - for non-production use only - expires 2026-11-23\n",
      "Set parameter TimeLimit to value 3600\n",
      "Restricted license - for non-production use only - expires 2026-11-23\n",
      "Set parameter TimeLimit to value 3600\n"
     ]
    },
    {
     "name": "stderr",
     "output_type": "stream",
     "text": [
      " 57%|█████▋    | 572/1000 [01:19<00:51,  8.31graph/s]"
     ]
    },
    {
     "name": "stdout",
     "output_type": "stream",
     "text": [
      "Restricted license - for non-production use only - expires 2026-11-23\n",
      "Set parameter TimeLimit to value 3600\n",
      "Restricted license - for non-production use only - expires 2026-11-23\n",
      "Set parameter TimeLimit to value 3600\n"
     ]
    },
    {
     "name": "stderr",
     "output_type": "stream",
     "text": [
      " 57%|█████▋    | 574/1000 [01:20<01:05,  6.51graph/s]"
     ]
    },
    {
     "name": "stdout",
     "output_type": "stream",
     "text": [
      "Restricted license - for non-production use only - expires 2026-11-23\n",
      "Set parameter TimeLimit to value 3600\n",
      "Restricted license - for non-production use only - expires 2026-11-23\n",
      "Set parameter TimeLimit to value 3600\n"
     ]
    },
    {
     "name": "stderr",
     "output_type": "stream",
     "text": [
      " 58%|█████▊    | 579/1000 [01:20<00:48,  8.68graph/s]"
     ]
    },
    {
     "name": "stdout",
     "output_type": "stream",
     "text": [
      "Restricted license - for non-production use only - expires 2026-11-23\n",
      "Set parameter TimeLimit to value 3600\n",
      "Restricted license - for non-production use only - expires 2026-11-23\n",
      "Set parameter TimeLimit to value 3600\n",
      "Restricted license - for non-production use only - expires 2026-11-23\n",
      "Set parameter TimeLimit to value 3600\n",
      "Restricted license - for non-production use only - expires 2026-11-23\n",
      "Set parameter TimeLimit to value 3600\n"
     ]
    },
    {
     "name": "stderr",
     "output_type": "stream",
     "text": [
      " 58%|█████▊    | 581/1000 [01:20<00:55,  7.59graph/s]"
     ]
    },
    {
     "name": "stdout",
     "output_type": "stream",
     "text": [
      "Restricted license - for non-production use only - expires 2026-11-23\n",
      "Set parameter TimeLimit to value 3600\n",
      "Restricted license - for non-production use only - expires 2026-11-23\n",
      "Set parameter TimeLimit to value 3600\n",
      "Restricted license - for non-production use only - expires 2026-11-23\n",
      "Set parameter TimeLimit to value 3600\n"
     ]
    },
    {
     "name": "stderr",
     "output_type": "stream",
     "text": [
      " 59%|█████▊    | 586/1000 [01:21<00:37, 10.92graph/s]"
     ]
    },
    {
     "name": "stdout",
     "output_type": "stream",
     "text": [
      "Restricted license - for non-production use only - expires 2026-11-23\n",
      "Set parameter TimeLimit to value 3600\n",
      "Restricted license - for non-production use only - expires 2026-11-23\n",
      "Set parameter TimeLimit to value 3600\n",
      "Restricted license - for non-production use only - expires 2026-11-23\n",
      "Set parameter TimeLimit to value 3600\n",
      "Restricted license - for non-production use only - expires 2026-11-23\n",
      "Set parameter TimeLimit to value 3600\n"
     ]
    },
    {
     "name": "stderr",
     "output_type": "stream",
     "text": [
      " 59%|█████▉    | 588/1000 [01:21<00:45,  9.08graph/s]"
     ]
    },
    {
     "name": "stdout",
     "output_type": "stream",
     "text": [
      "Restricted license - for non-production use only - expires 2026-11-23\n",
      "Set parameter TimeLimit to value 3600\n",
      "Restricted license - for non-production use only - expires 2026-11-23\n",
      "Set parameter TimeLimit to value 3600\n"
     ]
    },
    {
     "name": "stderr",
     "output_type": "stream",
     "text": [
      " 59%|█████▉    | 590/1000 [01:22<00:58,  6.97graph/s]"
     ]
    },
    {
     "name": "stdout",
     "output_type": "stream",
     "text": [
      "Restricted license - for non-production use only - expires 2026-11-23\n",
      "Set parameter TimeLimit to value 3600\n",
      "Restricted license - for non-production use only - expires 2026-11-23\n",
      "Set parameter TimeLimit to value 3600\n"
     ]
    },
    {
     "name": "stderr",
     "output_type": "stream",
     "text": [
      " 59%|█████▉    | 593/1000 [01:22<00:59,  6.84graph/s]"
     ]
    },
    {
     "name": "stdout",
     "output_type": "stream",
     "text": [
      "Restricted license - for non-production use only - expires 2026-11-23\n",
      "Set parameter TimeLimit to value 3600\n",
      "Restricted license - for non-production use only - expires 2026-11-23\n",
      "Set parameter TimeLimit to value 3600\n",
      "Restricted license - for non-production use only - expires 2026-11-23\n",
      "Set parameter TimeLimit to value 3600\n",
      "Restricted license - for non-production use only - expires 2026-11-23\n",
      "Set parameter TimeLimit to value 3600\n"
     ]
    },
    {
     "name": "stderr",
     "output_type": "stream",
     "text": [
      " 60%|█████▉    | 597/1000 [01:23<00:53,  7.52graph/s]"
     ]
    },
    {
     "name": "stdout",
     "output_type": "stream",
     "text": [
      "Restricted license - for non-production use only - expires 2026-11-23\n",
      "Set parameter TimeLimit to value 3600\n",
      "Restricted license - for non-production use only - expires 2026-11-23\n",
      "Set parameter TimeLimit to value 3600\n",
      "Restricted license - for non-production use only - expires 2026-11-23\n",
      "Set parameter TimeLimit to value 3600\n"
     ]
    },
    {
     "name": "stderr",
     "output_type": "stream",
     "text": [
      " 60%|██████    | 600/1000 [01:23<01:03,  6.30graph/s]"
     ]
    },
    {
     "name": "stdout",
     "output_type": "stream",
     "text": [
      "Restricted license - for non-production use only - expires 2026-11-23\n",
      "Set parameter TimeLimit to value 3600\n",
      "Restricted license - for non-production use only - expires 2026-11-23\n",
      "Set parameter TimeLimit to value 3600\n",
      "Restricted license - for non-production use only - expires 2026-11-23\n",
      "Set parameter TimeLimit to value 3600\n"
     ]
    },
    {
     "name": "stderr",
     "output_type": "stream",
     "text": [
      " 60%|██████    | 602/1000 [01:23<00:49,  8.09graph/s]"
     ]
    },
    {
     "name": "stdout",
     "output_type": "stream",
     "text": [
      "Restricted license - for non-production use only - expires 2026-11-23\n",
      "Set parameter TimeLimit to value 3600\n",
      "Restricted license - for non-production use only - expires 2026-11-23\n",
      "Set parameter TimeLimit to value 3600\n"
     ]
    },
    {
     "name": "stderr",
     "output_type": "stream",
     "text": [
      " 60%|██████    | 604/1000 [01:24<00:54,  7.23graph/s]"
     ]
    },
    {
     "name": "stdout",
     "output_type": "stream",
     "text": [
      "Restricted license - for non-production use only - expires 2026-11-23\n",
      "Set parameter TimeLimit to value 3600\n",
      "Restricted license - for non-production use only - expires 2026-11-23\n",
      "Set parameter TimeLimit to value 3600\n",
      "Restricted license - for non-production use only - expires 2026-11-23\n",
      "Set parameter TimeLimit to value 3600\n"
     ]
    },
    {
     "name": "stderr",
     "output_type": "stream",
     "text": [
      " 61%|██████    | 606/1000 [01:24<00:58,  6.71graph/s]"
     ]
    },
    {
     "name": "stdout",
     "output_type": "stream",
     "text": [
      "Restricted license - for non-production use only - expires 2026-11-23\n",
      "Set parameter TimeLimit to value 3600\n",
      "Restricted license - for non-production use only - expires 2026-11-23\n",
      "Set parameter TimeLimit to value 3600\n",
      "Restricted license - for non-production use only - expires 2026-11-23\n",
      "Set parameter TimeLimit to value 3600\n"
     ]
    },
    {
     "name": "stderr",
     "output_type": "stream",
     "text": [
      " 61%|██████    | 611/1000 [01:25<00:47,  8.13graph/s]"
     ]
    },
    {
     "name": "stdout",
     "output_type": "stream",
     "text": [
      "Restricted license - for non-production use only - expires 2026-11-23\n",
      "Set parameter TimeLimit to value 3600\n",
      "Restricted license - for non-production use only - expires 2026-11-23\n",
      "Set parameter TimeLimit to value 3600\n",
      "Restricted license - for non-production use only - expires 2026-11-23\n",
      "Set parameter TimeLimit to value 3600\n"
     ]
    },
    {
     "name": "stderr",
     "output_type": "stream",
     "text": [
      " 61%|██████▏   | 614/1000 [01:25<00:38, 10.02graph/s]"
     ]
    },
    {
     "name": "stdout",
     "output_type": "stream",
     "text": [
      "Restricted license - for non-production use only - expires 2026-11-23\n",
      "Set parameter TimeLimit to value 3600\n",
      "Restricted license - for non-production use only - expires 2026-11-23\n",
      "Set parameter TimeLimit to value 3600\n",
      "Restricted license - for non-production use only - expires 2026-11-23\n",
      "Set parameter TimeLimit to value 3600\n",
      "Restricted license - for non-production use only - expires 2026-11-23\n",
      "Set parameter TimeLimit to value 3600\n"
     ]
    },
    {
     "name": "stderr",
     "output_type": "stream",
     "text": [
      " 62%|██████▏   | 616/1000 [01:25<00:38, 10.08graph/s]"
     ]
    },
    {
     "name": "stdout",
     "output_type": "stream",
     "text": [
      "Restricted license - for non-production use only - expires 2026-11-23\n",
      "Set parameter TimeLimit to value 3600\n"
     ]
    },
    {
     "name": "stderr",
     "output_type": "stream",
     "text": [
      " 62%|██████▏   | 619/1000 [01:26<00:58,  6.51graph/s]"
     ]
    },
    {
     "name": "stdout",
     "output_type": "stream",
     "text": [
      "Restricted license - for non-production use only - expires 2026-11-23\n",
      "Set parameter TimeLimit to value 3600\n",
      "Restricted license - for non-production use only - expires 2026-11-23\n",
      "Set parameter TimeLimit to value 3600\n",
      "Restricted license - for non-production use only - expires 2026-11-23\n",
      "Set parameter TimeLimit to value 3600\n",
      "Restricted license - for non-production use only - expires 2026-11-23\n",
      "Set parameter TimeLimit to value 3600\n"
     ]
    },
    {
     "name": "stderr",
     "output_type": "stream",
     "text": [
      " 62%|██████▏   | 622/1000 [01:26<00:58,  6.50graph/s]"
     ]
    },
    {
     "name": "stdout",
     "output_type": "stream",
     "text": [
      "Restricted license - for non-production use only - expires 2026-11-23\n",
      "Set parameter TimeLimit to value 3600\n",
      "Restricted license - for non-production use only - expires 2026-11-23\n",
      "Set parameter TimeLimit to value 3600\n",
      "Restricted license - for non-production use only - expires 2026-11-23\n",
      "Set parameter TimeLimit to value 3600\n"
     ]
    },
    {
     "name": "stderr",
     "output_type": "stream",
     "text": [
      " 63%|██████▎   | 626/1000 [01:27<00:49,  7.49graph/s]"
     ]
    },
    {
     "name": "stdout",
     "output_type": "stream",
     "text": [
      "Restricted license - for non-production use only - expires 2026-11-23\n",
      "Set parameter TimeLimit to value 3600\n",
      "Restricted license - for non-production use only - expires 2026-11-23\n",
      "Set parameter TimeLimit to value 3600\n",
      "Restricted license - for non-production use only - expires 2026-11-23\n",
      "Set parameter TimeLimit to value 3600\n",
      "Restricted license - for non-production use only - expires 2026-11-23\n",
      "Set parameter TimeLimit to value 3600\n",
      "Restricted license - for non-production use only - expires 2026-11-23\n",
      "Set parameter TimeLimit to value 3600\n"
     ]
    },
    {
     "name": "stderr",
     "output_type": "stream",
     "text": [
      " 63%|██████▎   | 630/1000 [01:27<00:44,  8.30graph/s]"
     ]
    },
    {
     "name": "stdout",
     "output_type": "stream",
     "text": [
      "Restricted license - for non-production use only - expires 2026-11-23\n",
      "Set parameter TimeLimit to value 3600\n",
      "Restricted license - for non-production use only - expires 2026-11-23\n",
      "Set parameter TimeLimit to value 3600\n"
     ]
    },
    {
     "name": "stderr",
     "output_type": "stream",
     "text": [
      " 63%|██████▎   | 634/1000 [01:28<00:44,  8.29graph/s]"
     ]
    },
    {
     "name": "stdout",
     "output_type": "stream",
     "text": [
      "Restricted license - for non-production use only - expires 2026-11-23\n",
      "Set parameter TimeLimit to value 3600\n",
      "Restricted license - for non-production use only - expires 2026-11-23\n",
      "Set parameter TimeLimit to value 3600\n",
      "Restricted license - for non-production use only - expires 2026-11-23\n",
      "Set parameter TimeLimit to value 3600\n",
      "Restricted license - for non-production use only - expires 2026-11-23\n",
      "Set parameter TimeLimit to value 3600\n"
     ]
    },
    {
     "name": "stderr",
     "output_type": "stream",
     "text": [
      " 64%|██████▎   | 637/1000 [01:28<00:38,  9.51graph/s]"
     ]
    },
    {
     "name": "stdout",
     "output_type": "stream",
     "text": [
      "Restricted license - for non-production use only - expires 2026-11-23\n",
      "Set parameter TimeLimit to value 3600\n",
      "Restricted license - for non-production use only - expires 2026-11-23\n",
      "Set parameter TimeLimit to value 3600\n",
      "Restricted license - for non-production use only - expires 2026-11-23\n",
      "Set parameter TimeLimit to value 3600\n",
      "Restricted license - for non-production use only - expires 2026-11-23\n",
      "Set parameter TimeLimit to value 3600\n"
     ]
    },
    {
     "name": "stderr",
     "output_type": "stream",
     "text": [
      " 64%|██████▍   | 641/1000 [01:28<00:34, 10.28graph/s]"
     ]
    },
    {
     "name": "stdout",
     "output_type": "stream",
     "text": [
      "Restricted license - for non-production use only - expires 2026-11-23\n",
      "Set parameter TimeLimit to value 3600\n",
      "Restricted license - for non-production use only - expires 2026-11-23\n",
      "Set parameter TimeLimit to value 3600\n",
      "Restricted license - for non-production use only - expires 2026-11-23\n",
      "Set parameter TimeLimit to value 3600\n"
     ]
    },
    {
     "name": "stderr",
     "output_type": "stream",
     "text": [
      " 64%|██████▍   | 644/1000 [01:28<00:30, 11.72graph/s]"
     ]
    },
    {
     "name": "stdout",
     "output_type": "stream",
     "text": [
      "Restricted license - for non-production use only - expires 2026-11-23\n",
      "Set parameter TimeLimit to value 3600\n",
      "Restricted license - for non-production use only - expires 2026-11-23\n",
      "Set parameter TimeLimit to value 3600\n",
      "Restricted license - for non-production use only - expires 2026-11-23\n",
      "Set parameter TimeLimit to value 3600\n"
     ]
    },
    {
     "name": "stderr",
     "output_type": "stream",
     "text": [
      " 65%|██████▍   | 646/1000 [01:29<00:44,  8.04graph/s]"
     ]
    },
    {
     "name": "stdout",
     "output_type": "stream",
     "text": [
      "Restricted license - for non-production use only - expires 2026-11-23\n",
      "Set parameter TimeLimit to value 3600\n",
      "Restricted license - for non-production use only - expires 2026-11-23\n",
      "Set parameter TimeLimit to value 3600\n",
      "Restricted license - for non-production use only - expires 2026-11-23\n",
      "Set parameter TimeLimit to value 3600\n",
      "Restricted license - for non-production use only - expires 2026-11-23\n",
      "Set parameter TimeLimit to value 3600\n"
     ]
    },
    {
     "name": "stderr",
     "output_type": "stream",
     "text": [
      " 65%|██████▌   | 650/1000 [01:29<00:30, 11.50graph/s]"
     ]
    },
    {
     "name": "stdout",
     "output_type": "stream",
     "text": [
      "Restricted license - for non-production use only - expires 2026-11-23\n",
      "Set parameter TimeLimit to value 3600\n",
      "Restricted license - for non-production use only - expires 2026-11-23\n",
      "Set parameter TimeLimit to value 3600\n",
      "Restricted license - for non-production use only - expires 2026-11-23\n"
     ]
    },
    {
     "name": "stderr",
     "output_type": "stream",
     "text": [
      " 65%|██████▌   | 652/1000 [01:29<00:29, 11.69graph/s]"
     ]
    },
    {
     "name": "stdout",
     "output_type": "stream",
     "text": [
      "Set parameter TimeLimit to value 3600\n",
      "Restricted license - for non-production use only - expires 2026-11-23\n",
      "Set parameter TimeLimit to value 3600\n"
     ]
    },
    {
     "name": "stderr",
     "output_type": "stream",
     "text": [
      " 65%|██████▌   | 654/1000 [01:29<00:34,  9.96graph/s]"
     ]
    },
    {
     "name": "stdout",
     "output_type": "stream",
     "text": [
      "Restricted license - for non-production use only - expires 2026-11-23\n",
      "Set parameter TimeLimit to value 3600\n",
      "Restricted license - for non-production use only - expires 2026-11-23\n",
      "Set parameter TimeLimit to value 3600\n"
     ]
    },
    {
     "name": "stderr",
     "output_type": "stream",
     "text": [
      " 66%|██████▌   | 656/1000 [01:30<00:42,  8.07graph/s]"
     ]
    },
    {
     "name": "stdout",
     "output_type": "stream",
     "text": [
      "Restricted license - for non-production use only - expires 2026-11-23\n",
      "Set parameter TimeLimit to value 3600\n",
      "Restricted license - for non-production use only - expires 2026-11-23\n",
      "Set parameter TimeLimit to value 3600\n"
     ]
    },
    {
     "name": "stderr",
     "output_type": "stream",
     "text": [
      " 66%|██████▌   | 658/1000 [01:30<00:49,  6.89graph/s]"
     ]
    },
    {
     "name": "stdout",
     "output_type": "stream",
     "text": [
      "Restricted license - for non-production use only - expires 2026-11-23\n",
      "Set parameter TimeLimit to value 3600\n",
      "Restricted license - for non-production use only - expires 2026-11-23\n",
      "Set parameter TimeLimit to value 3600\n"
     ]
    },
    {
     "name": "stderr",
     "output_type": "stream",
     "text": [
      " 66%|██████▌   | 659/1000 [01:30<00:52,  6.51graph/s]"
     ]
    },
    {
     "name": "stdout",
     "output_type": "stream",
     "text": [
      "Restricted license - for non-production use only - expires 2026-11-23\n",
      "Set parameter TimeLimit to value 3600\n",
      "Restricted license - for non-production use only - expires 2026-11-23\n",
      "Set parameter TimeLimit to value 3600\n",
      "Restricted license - for non-production use only - expires 2026-11-23\n",
      "Set parameter TimeLimit to value 3600\n"
     ]
    },
    {
     "name": "stderr",
     "output_type": "stream",
     "text": [
      " 66%|██████▌   | 662/1000 [01:31<00:47,  7.10graph/s]"
     ]
    },
    {
     "name": "stdout",
     "output_type": "stream",
     "text": [
      "Restricted license - for non-production use only - expires 2026-11-23\n",
      "Set parameter TimeLimit to value 3600\n",
      "Restricted license - for non-production use only - expires 2026-11-23\n",
      "Set parameter TimeLimit to value 3600\n",
      "Restricted license - for non-production use only - expires 2026-11-23\n",
      "Set parameter TimeLimit to value 3600\n"
     ]
    },
    {
     "name": "stderr",
     "output_type": "stream",
     "text": [
      " 66%|██████▋   | 665/1000 [01:31<00:58,  5.72graph/s]"
     ]
    },
    {
     "name": "stdout",
     "output_type": "stream",
     "text": [
      "Restricted license - for non-production use only - expires 2026-11-23\n",
      "Set parameter TimeLimit to value 3600\n",
      "Restricted license - for non-production use only - expires 2026-11-23\n",
      "Set parameter TimeLimit to value 3600\n",
      "Restricted license - for non-production use only - expires 2026-11-23\n",
      "Set parameter TimeLimit to value 3600\n",
      "Restricted license - for non-production use only - expires 2026-11-23\n",
      "Set parameter TimeLimit to value 3600\n",
      "Restricted license - for non-production use only - expires 2026-11-23\n",
      "Set parameter TimeLimit to value 3600\n"
     ]
    },
    {
     "name": "stderr",
     "output_type": "stream",
     "text": [
      " 67%|██████▋   | 671/1000 [01:32<00:53,  6.15graph/s]"
     ]
    },
    {
     "name": "stdout",
     "output_type": "stream",
     "text": [
      "Restricted license - for non-production use only - expires 2026-11-23\n",
      "Set parameter TimeLimit to value 3600\n"
     ]
    },
    {
     "name": "stderr",
     "output_type": "stream",
     "text": [
      " 67%|██████▋   | 672/1000 [01:33<00:54,  6.02graph/s]"
     ]
    },
    {
     "name": "stdout",
     "output_type": "stream",
     "text": [
      "Restricted license - for non-production use only - expires 2026-11-23\n",
      "Set parameter TimeLimit to value 3600\n",
      "Restricted license - for non-production use only - expires 2026-11-23\n",
      "Set parameter TimeLimit to value 3600\n"
     ]
    },
    {
     "name": "stderr",
     "output_type": "stream",
     "text": [
      " 68%|██████▊   | 675/1000 [01:33<00:45,  7.12graph/s]"
     ]
    },
    {
     "name": "stdout",
     "output_type": "stream",
     "text": [
      "Restricted license - for non-production use only - expires 2026-11-23\n",
      "Set parameter TimeLimit to value 3600\n",
      "Restricted license - for non-production use only - expires 2026-11-23\n",
      "Set parameter TimeLimit to value 3600\n",
      "Restricted license - for non-production use only - expires 2026-11-23\n",
      "Set parameter TimeLimit to value 3600\n",
      "Restricted license - for non-production use only - expires 2026-11-23\n",
      "Restricted license - for non-production use only - expires 2026-11-23\n",
      "Set parameter TimeLimit to value 3600\n",
      "Set parameter TimeLimit to value 3600\n"
     ]
    },
    {
     "name": "stderr",
     "output_type": "stream",
     "text": [
      " 68%|██████▊   | 679/1000 [01:33<00:27, 11.59graph/s]"
     ]
    },
    {
     "name": "stdout",
     "output_type": "stream",
     "text": [
      "Restricted license - for non-production use only - expires 2026-11-23\n",
      "Set parameter TimeLimit to value 3600\n",
      "Restricted license - for non-production use only - expires 2026-11-23\n",
      "Set parameter TimeLimit to value 3600\n",
      "Restricted license - for non-production use only - expires 2026-11-23\n",
      "Set parameter TimeLimit to value 3600\n"
     ]
    },
    {
     "name": "stderr",
     "output_type": "stream",
     "text": [
      " 68%|██████▊   | 683/1000 [01:34<00:37,  8.46graph/s]"
     ]
    },
    {
     "name": "stdout",
     "output_type": "stream",
     "text": [
      "Restricted license - for non-production use only - expires 2026-11-23\n",
      "Set parameter TimeLimit to value 3600\n",
      "Restricted license - for non-production use only - expires 2026-11-23\n",
      "Set parameter TimeLimit to value 3600\n",
      "Restricted license - for non-production use only - expires 2026-11-23\n",
      "Set parameter TimeLimit to value 3600\n",
      "Restricted license - for non-production use only - expires 2026-11-23\n",
      "Set parameter TimeLimit to value 3600\n"
     ]
    },
    {
     "name": "stderr",
     "output_type": "stream",
     "text": [
      " 69%|██████▊   | 687/1000 [01:34<00:33,  9.38graph/s]"
     ]
    },
    {
     "name": "stdout",
     "output_type": "stream",
     "text": [
      "Restricted license - for non-production use only - expires 2026-11-23\n",
      "Set parameter TimeLimit to value 3600\n",
      "Restricted license - for non-production use only - expires 2026-11-23\n",
      "Set parameter TimeLimit to value 3600\n",
      "Restricted license - for non-production use only - expires 2026-11-23\n",
      "Set parameter TimeLimit to value 3600\n",
      "Restricted license - for non-production use only - expires 2026-11-23\n",
      "Set parameter TimeLimit to value 3600\n"
     ]
    },
    {
     "name": "stderr",
     "output_type": "stream",
     "text": [
      " 69%|██████▉   | 689/1000 [01:34<00:38,  7.99graph/s]"
     ]
    },
    {
     "name": "stdout",
     "output_type": "stream",
     "text": [
      "Restricted license - for non-production use only - expires 2026-11-23\n",
      "Set parameter TimeLimit to value 3600\n",
      "Restricted license - for non-production use only - expires 2026-11-23\n",
      "Set parameter TimeLimit to value 3600\n"
     ]
    },
    {
     "name": "stderr",
     "output_type": "stream",
     "text": [
      " 69%|██████▉   | 694/1000 [01:35<00:41,  7.29graph/s]"
     ]
    },
    {
     "name": "stdout",
     "output_type": "stream",
     "text": [
      "Restricted license - for non-production use only - expires 2026-11-23\n",
      "Set parameter TimeLimit to value 3600\n",
      "Restricted license - for non-production use only - expires 2026-11-23\n",
      "Set parameter TimeLimit to value 3600\n",
      "Restricted license - for non-production use only - expires 2026-11-23\n",
      "Set parameter TimeLimit to value 3600\n",
      "Restricted license - for non-production use only - expires 2026-11-23\n",
      "Set parameter TimeLimit to value 3600\n",
      "Restricted license - for non-production use only - expires 2026-11-23\n",
      "Set parameter TimeLimit to value 3600\n"
     ]
    },
    {
     "name": "stderr",
     "output_type": "stream",
     "text": [
      " 70%|██████▉   | 696/1000 [01:36<00:48,  6.24graph/s]"
     ]
    },
    {
     "name": "stdout",
     "output_type": "stream",
     "text": [
      "Restricted license - for non-production use only - expires 2026-11-23\n",
      "Set parameter TimeLimit to value 3600\n"
     ]
    },
    {
     "name": "stderr",
     "output_type": "stream",
     "text": [
      " 70%|███████   | 700/1000 [01:36<00:36,  8.20graph/s]"
     ]
    },
    {
     "name": "stdout",
     "output_type": "stream",
     "text": [
      "Restricted license - for non-production use only - expires 2026-11-23\n",
      "Set parameter TimeLimit to value 3600\n",
      "Restricted license - for non-production use only - expires 2026-11-23\n",
      "Set parameter TimeLimit to value 3600\n",
      "Restricted license - for non-production use only - expires 2026-11-23\n",
      "Set parameter TimeLimit to value 3600\n",
      "Restricted license - for non-production use only - expires 2026-11-23\n",
      "Set parameter TimeLimit to value 3600\n",
      "Restricted license - for non-production use only - expires 2026-11-23\n",
      "Set parameter TimeLimit to value 3600\n",
      "Restricted license - for non-production use only - expires 2026-11-23\n",
      "Set parameter TimeLimit to value 3600\n"
     ]
    },
    {
     "name": "stderr",
     "output_type": "stream",
     "text": [
      " 70%|███████   | 703/1000 [01:37<00:41,  7.21graph/s]"
     ]
    },
    {
     "name": "stdout",
     "output_type": "stream",
     "text": [
      "Restricted license - for non-production use only - expires 2026-11-23\n",
      "Set parameter TimeLimit to value 3600\n",
      "Restricted license - for non-production use only - expires 2026-11-23\n",
      "Set parameter TimeLimit to value 3600\n"
     ]
    },
    {
     "name": "stderr",
     "output_type": "stream",
     "text": [
      " 70%|███████   | 705/1000 [01:37<00:41,  7.13graph/s]"
     ]
    },
    {
     "name": "stdout",
     "output_type": "stream",
     "text": [
      "Restricted license - for non-production use only - expires 2026-11-23\n",
      "Set parameter TimeLimit to value 3600\n"
     ]
    },
    {
     "name": "stderr",
     "output_type": "stream",
     "text": [
      " 71%|███████   | 706/1000 [01:37<00:45,  6.50graph/s]"
     ]
    },
    {
     "name": "stdout",
     "output_type": "stream",
     "text": [
      "Restricted license - for non-production use only - expires 2026-11-23\n",
      "Set parameter TimeLimit to value 3600\n",
      "Restricted license - for non-production use only - expires 2026-11-23\n",
      "Set parameter TimeLimit to value 3600\n",
      "Restricted license - for non-production use only - expires 2026-11-23\n",
      "Set parameter TimeLimit to value 3600\n",
      "Restricted license - for non-production use only - expires 2026-11-23\n",
      "Set parameter TimeLimit to value 3600\n"
     ]
    },
    {
     "name": "stderr",
     "output_type": "stream",
     "text": [
      " 71%|███████   | 710/1000 [01:38<00:48,  5.94graph/s]"
     ]
    },
    {
     "name": "stdout",
     "output_type": "stream",
     "text": [
      "Restricted license - for non-production use only - expires 2026-11-23\n",
      "Set parameter TimeLimit to value 3600\n",
      "Restricted license - for non-production use only - expires 2026-11-23\n",
      "Set parameter TimeLimit to value 3600\n",
      "Restricted license - for non-production use only - expires 2026-11-23\n",
      "Set parameter TimeLimit to value 3600\n"
     ]
    },
    {
     "name": "stderr",
     "output_type": "stream",
     "text": [
      " 71%|███████▏  | 713/1000 [01:38<00:39,  7.27graph/s]"
     ]
    },
    {
     "name": "stdout",
     "output_type": "stream",
     "text": [
      "Restricted license - for non-production use only - expires 2026-11-23\n",
      "Set parameter TimeLimit to value 3600\n"
     ]
    },
    {
     "name": "stderr",
     "output_type": "stream",
     "text": [
      " 71%|███████▏  | 714/1000 [01:38<00:44,  6.43graph/s]"
     ]
    },
    {
     "name": "stdout",
     "output_type": "stream",
     "text": [
      "Restricted license - for non-production use only - expires 2026-11-23\n",
      "Set parameter TimeLimit to value 3600\n",
      "Restricted license - for non-production use only - expires 2026-11-23\n",
      "Set parameter TimeLimit to value 3600\n",
      "Restricted license - for non-production use only - expires 2026-11-23\n",
      "Set parameter TimeLimit to value 3600\n"
     ]
    },
    {
     "name": "stderr",
     "output_type": "stream",
     "text": [
      " 72%|███████▏  | 717/1000 [01:39<00:40,  6.94graph/s]"
     ]
    },
    {
     "name": "stdout",
     "output_type": "stream",
     "text": [
      "Restricted license - for non-production use only - expires 2026-11-23\n",
      "Set parameter TimeLimit to value 3600\n",
      "Restricted license - for non-production use only - expires 2026-11-23\n",
      "Set parameter TimeLimit to value 3600\n"
     ]
    },
    {
     "name": "stderr",
     "output_type": "stream",
     "text": [
      " 72%|███████▏  | 721/1000 [01:39<00:32,  8.56graph/s]"
     ]
    },
    {
     "name": "stdout",
     "output_type": "stream",
     "text": [
      "Restricted license - for non-production use only - expires 2026-11-23\n",
      "Set parameter TimeLimit to value 3600\n",
      "Restricted license - for non-production use only - expires 2026-11-23\n",
      "Set parameter TimeLimit to value 3600\n",
      "Restricted license - for non-production use only - expires 2026-11-23\n",
      "Set parameter TimeLimit to value 3600\n"
     ]
    },
    {
     "name": "stderr",
     "output_type": "stream",
     "text": [
      " 72%|███████▏  | 723/1000 [01:40<00:42,  6.44graph/s]"
     ]
    },
    {
     "name": "stdout",
     "output_type": "stream",
     "text": [
      "Restricted license - for non-production use only - expires 2026-11-23\n",
      "Set parameter TimeLimit to value 3600\n",
      "Restricted license - for non-production use only - expires 2026-11-23\n",
      "Set parameter TimeLimit to value 3600\n"
     ]
    },
    {
     "name": "stderr",
     "output_type": "stream",
     "text": [
      " 72%|███████▏  | 724/1000 [01:40<00:46,  5.88graph/s]"
     ]
    },
    {
     "name": "stdout",
     "output_type": "stream",
     "text": [
      "Restricted license - for non-production use only - expires 2026-11-23\n",
      "Set parameter TimeLimit to value 3600\n"
     ]
    },
    {
     "name": "stderr",
     "output_type": "stream",
     "text": [
      " 72%|███████▎  | 725/1000 [01:40<00:58,  4.71graph/s]"
     ]
    },
    {
     "name": "stdout",
     "output_type": "stream",
     "text": [
      "Restricted license - for non-production use only - expires 2026-11-23\n",
      "Set parameter TimeLimit to value 3600\n",
      "Restricted license - for non-production use only - expires 2026-11-23\n",
      "Set parameter TimeLimit to value 3600\n"
     ]
    },
    {
     "name": "stderr",
     "output_type": "stream",
     "text": [
      " 73%|███████▎  | 728/1000 [01:41<00:51,  5.28graph/s]"
     ]
    },
    {
     "name": "stdout",
     "output_type": "stream",
     "text": [
      "Restricted license - for non-production use only - expires 2026-11-23\n",
      "Set parameter TimeLimit to value 3600\n",
      "Restricted license - for non-production use only - expires 2026-11-23\n",
      "Set parameter TimeLimit to value 3600\n",
      "Restricted license - for non-production use only - expires 2026-11-23\n",
      "Set parameter TimeLimit to value 3600\n",
      "Restricted license - for non-production use only - expires 2026-11-23\n",
      "Set parameter TimeLimit to value 3600\n"
     ]
    },
    {
     "name": "stderr",
     "output_type": "stream",
     "text": [
      " 73%|███████▎  | 731/1000 [01:41<00:39,  6.76graph/s]"
     ]
    },
    {
     "name": "stdout",
     "output_type": "stream",
     "text": [
      "Restricted license - for non-production use only - expires 2026-11-23\n",
      "Set parameter TimeLimit to value 3600\n",
      "Restricted license - for non-production use only - expires 2026-11-23\n",
      "Set parameter TimeLimit to value 3600\n"
     ]
    },
    {
     "name": "stderr",
     "output_type": "stream",
     "text": [
      " 73%|███████▎  | 733/1000 [01:41<00:38,  6.97graph/s]"
     ]
    },
    {
     "name": "stdout",
     "output_type": "stream",
     "text": [
      "Restricted license - for non-production use only - expires 2026-11-23\n",
      "Set parameter TimeLimit to value 3600\n"
     ]
    },
    {
     "name": "stderr",
     "output_type": "stream",
     "text": [
      " 73%|███████▎  | 734/1000 [01:42<00:45,  5.82graph/s]"
     ]
    },
    {
     "name": "stdout",
     "output_type": "stream",
     "text": [
      "Restricted license - for non-production use only - expires 2026-11-23\n",
      "Set parameter TimeLimit to value 3600\n",
      "Restricted license - for non-production use only - expires 2026-11-23\n",
      "Set parameter TimeLimit to value 3600\n"
     ]
    },
    {
     "name": "stderr",
     "output_type": "stream",
     "text": [
      " 74%|███████▎  | 737/1000 [01:42<00:46,  5.69graph/s]"
     ]
    },
    {
     "name": "stdout",
     "output_type": "stream",
     "text": [
      "Restricted license - for non-production use only - expires 2026-11-23\n",
      "Set parameter TimeLimit to value 3600\n",
      "Restricted license - for non-production use only - expires 2026-11-23\n",
      "Set parameter TimeLimit to value 3600\n"
     ]
    },
    {
     "name": "stderr",
     "output_type": "stream",
     "text": [
      " 74%|███████▍  | 739/1000 [01:42<00:43,  6.00graph/s]"
     ]
    },
    {
     "name": "stdout",
     "output_type": "stream",
     "text": [
      "Restricted license - for non-production use only - expires 2026-11-23\n",
      "Set parameter TimeLimit to value 3600\n",
      "Restricted license - for non-production use only - expires 2026-11-23\n",
      "Set parameter TimeLimit to value 3600\n"
     ]
    },
    {
     "name": "stderr",
     "output_type": "stream",
     "text": [
      " 74%|███████▍  | 742/1000 [01:43<00:39,  6.61graph/s]"
     ]
    },
    {
     "name": "stdout",
     "output_type": "stream",
     "text": [
      "Restricted license - for non-production use only - expires 2026-11-23\n",
      "Set parameter TimeLimit to value 3600\n",
      "Restricted license - for non-production use only - expires 2026-11-23\n",
      "Set parameter TimeLimit to value 3600\n",
      "Restricted license - for non-production use only - expires 2026-11-23\n",
      "Set parameter TimeLimit to value 3600\n"
     ]
    },
    {
     "name": "stderr",
     "output_type": "stream",
     "text": [
      " 74%|███████▍  | 743/1000 [01:44<01:03,  4.05graph/s]"
     ]
    },
    {
     "name": "stdout",
     "output_type": "stream",
     "text": [
      "Restricted license - for non-production use only - expires 2026-11-23\n",
      "Set parameter TimeLimit to value 3600\n",
      "Restricted license - for non-production use only - expires 2026-11-23\n",
      "Set parameter TimeLimit to value 3600\n"
     ]
    },
    {
     "name": "stderr",
     "output_type": "stream",
     "text": [
      " 75%|███████▍  | 747/1000 [01:44<00:39,  6.42graph/s]"
     ]
    },
    {
     "name": "stdout",
     "output_type": "stream",
     "text": [
      "Restricted license - for non-production use only - expires 2026-11-23\n",
      "Set parameter TimeLimit to value 3600\n",
      "Restricted license - for non-production use only - expires 2026-11-23\n",
      "Set parameter TimeLimit to value 3600\n",
      "Restricted license - for non-production use only - expires 2026-11-23\n",
      "Set parameter TimeLimit to value 3600\n"
     ]
    },
    {
     "name": "stderr",
     "output_type": "stream",
     "text": [
      " 75%|███████▍  | 748/1000 [01:44<00:36,  6.86graph/s]"
     ]
    },
    {
     "name": "stdout",
     "output_type": "stream",
     "text": [
      "Restricted license - for non-production use only - expires 2026-11-23\n",
      "Set parameter TimeLimit to value 3600\n",
      "Restricted license - for non-production use only - expires 2026-11-23\n",
      "Set parameter TimeLimit to value 3600\n",
      "Restricted license - for non-production use only - expires 2026-11-23\n",
      "Set parameter TimeLimit to value 3600\n"
     ]
    },
    {
     "name": "stderr",
     "output_type": "stream",
     "text": [
      " 76%|███████▌  | 755/1000 [01:45<00:30,  8.12graph/s]"
     ]
    },
    {
     "name": "stdout",
     "output_type": "stream",
     "text": [
      "Restricted license - for non-production use only - expires 2026-11-23\n",
      "Set parameter TimeLimit to value 3600\n",
      "Restricted license - for non-production use only - expires 2026-11-23\n",
      "Set parameter TimeLimit to value 3600\n",
      "Restricted license - for non-production use only - expires 2026-11-23\n",
      "Set parameter TimeLimit to value 3600\n",
      "Restricted license - for non-production use only - expires 2026-11-23\n",
      "Set parameter TimeLimit to value 3600\n",
      "Restricted license - for non-production use only - expires 2026-11-23\n",
      "Set parameter TimeLimit to value 3600\n"
     ]
    },
    {
     "name": "stderr",
     "output_type": "stream",
     "text": [
      " 76%|███████▌  | 757/1000 [01:46<00:52,  4.63graph/s]"
     ]
    },
    {
     "name": "stdout",
     "output_type": "stream",
     "text": [
      "Restricted license - for non-production use only - expires 2026-11-23\n",
      "Set parameter TimeLimit to value 3600\n",
      "Restricted license - for non-production use only - expires 2026-11-23\n",
      "Set parameter TimeLimit to value 3600\n",
      "Restricted license - for non-production use only - expires 2026-11-23\n",
      "Set parameter TimeLimit to value 3600\n",
      "Restricted license - for non-production use only - expires 2026-11-23\n",
      "Set parameter TimeLimit to value 3600\n"
     ]
    },
    {
     "name": "stderr",
     "output_type": "stream",
     "text": [
      " 76%|███████▋  | 763/1000 [01:46<00:28,  8.33graph/s]"
     ]
    },
    {
     "name": "stdout",
     "output_type": "stream",
     "text": [
      "Restricted license - for non-production use only - expires 2026-11-23\n",
      "Set parameter TimeLimit to value 3600\n",
      "Restricted license - for non-production use only - expires 2026-11-23\n",
      "Set parameter TimeLimit to value 3600\n",
      "Restricted license - for non-production use only - expires 2026-11-23\n",
      "Set parameter TimeLimit to value 3600\n",
      "Restricted license - for non-production use only - expires 2026-11-23\n",
      "Set parameter TimeLimit to value 3600\n"
     ]
    },
    {
     "name": "stderr",
     "output_type": "stream",
     "text": [
      " 76%|███████▋  | 765/1000 [01:46<00:27,  8.40graph/s]"
     ]
    },
    {
     "name": "stdout",
     "output_type": "stream",
     "text": [
      "Restricted license - for non-production use only - expires 2026-11-23\n",
      "Set parameter TimeLimit to value 3600\n",
      "Restricted license - for non-production use only - expires 2026-11-23\n",
      "Set parameter TimeLimit to value 3600\n"
     ]
    },
    {
     "name": "stderr",
     "output_type": "stream",
     "text": [
      " 77%|███████▋  | 767/1000 [01:47<00:31,  7.51graph/s]"
     ]
    },
    {
     "name": "stdout",
     "output_type": "stream",
     "text": [
      "Restricted license - for non-production use only - expires 2026-11-23\n",
      "Set parameter TimeLimit to value 3600\n",
      "Restricted license - for non-production use only - expires 2026-11-23\n",
      "Set parameter TimeLimit to value 3600\n",
      "Restricted license - for non-production use only - expires 2026-11-23\n",
      "Set parameter TimeLimit to value 3600\n"
     ]
    },
    {
     "name": "stderr",
     "output_type": "stream",
     "text": [
      " 77%|███████▋  | 771/1000 [01:47<00:25,  9.08graph/s]"
     ]
    },
    {
     "name": "stdout",
     "output_type": "stream",
     "text": [
      "Restricted license - for non-production use only - expires 2026-11-23\n",
      "Set parameter TimeLimit to value 3600\n",
      "Restricted license - for non-production use only - expires 2026-11-23\n",
      "Set parameter TimeLimit to value 3600\n",
      "Restricted license - for non-production use only - expires 2026-11-23\n",
      "Set parameter TimeLimit to value 3600\n"
     ]
    },
    {
     "name": "stderr",
     "output_type": "stream",
     "text": [
      " 77%|███████▋  | 773/1000 [01:47<00:26,  8.63graph/s]"
     ]
    },
    {
     "name": "stdout",
     "output_type": "stream",
     "text": [
      "Restricted license - for non-production use only - expires 2026-11-23\n",
      "Set parameter TimeLimit to value 3600\n",
      "Restricted license - for non-production use only - expires 2026-11-23\n",
      "Set parameter TimeLimit to value 3600\n"
     ]
    },
    {
     "name": "stderr",
     "output_type": "stream",
     "text": [
      " 78%|███████▊  | 775/1000 [01:48<00:47,  4.74graph/s]"
     ]
    },
    {
     "name": "stdout",
     "output_type": "stream",
     "text": [
      "Restricted license - for non-production use only - expires 2026-11-23\n",
      "Set parameter TimeLimit to value 3600\n",
      "Restricted license - for non-production use only - expires 2026-11-23\n",
      "Set parameter TimeLimit to value 3600\n",
      "Restricted license - for non-production use only - expires 2026-11-23\n",
      "Set parameter TimeLimit to value 3600\n",
      "Restricted license - for non-production use only - expires 2026-11-23\n",
      "Set parameter TimeLimit to value 3600\n"
     ]
    },
    {
     "name": "stderr",
     "output_type": "stream",
     "text": [
      " 78%|███████▊  | 780/1000 [01:49<00:30,  7.11graph/s]"
     ]
    },
    {
     "name": "stdout",
     "output_type": "stream",
     "text": [
      "Restricted license - for non-production use only - expires 2026-11-23\n",
      "Set parameter TimeLimit to value 3600\n",
      "Restricted license - for non-production use only - expires 2026-11-23\n",
      "Set parameter TimeLimit to value 3600\n",
      "Restricted license - for non-production use only - expires 2026-11-23\n",
      "Set parameter TimeLimit to value 3600\n"
     ]
    },
    {
     "name": "stderr",
     "output_type": "stream",
     "text": [
      " 78%|███████▊  | 783/1000 [01:49<00:31,  6.88graph/s]"
     ]
    },
    {
     "name": "stdout",
     "output_type": "stream",
     "text": [
      "Restricted license - for non-production use only - expires 2026-11-23\n",
      "Set parameter TimeLimit to value 3600\n",
      "Restricted license - for non-production use only - expires 2026-11-23\n",
      "Set parameter TimeLimit to value 3600\n",
      "Restricted license - for non-production use only - expires 2026-11-23\n",
      "Set parameter TimeLimit to value 3600\n",
      "Restricted license - for non-production use only - expires 2026-11-23\n",
      "Set parameter TimeLimit to value 3600\n"
     ]
    },
    {
     "name": "stderr",
     "output_type": "stream",
     "text": [
      " 78%|███████▊  | 785/1000 [01:49<00:26,  8.06graph/s]"
     ]
    },
    {
     "name": "stdout",
     "output_type": "stream",
     "text": [
      "Restricted license - for non-production use only - expires 2026-11-23\n",
      "Set parameter TimeLimit to value 3600\n"
     ]
    },
    {
     "name": "stderr",
     "output_type": "stream",
     "text": [
      " 79%|███████▊  | 787/1000 [01:50<00:36,  5.79graph/s]"
     ]
    },
    {
     "name": "stdout",
     "output_type": "stream",
     "text": [
      "Restricted license - for non-production use only - expires 2026-11-23\n",
      "Set parameter TimeLimit to value 3600\n",
      "Restricted license - for non-production use only - expires 2026-11-23\n",
      "Set parameter TimeLimit to value 3600\n",
      "Restricted license - for non-production use only - expires 2026-11-23\n",
      "Set parameter TimeLimit to value 3600\n"
     ]
    },
    {
     "name": "stderr",
     "output_type": "stream",
     "text": [
      " 79%|███████▉  | 789/1000 [01:50<00:32,  6.53graph/s]"
     ]
    },
    {
     "name": "stdout",
     "output_type": "stream",
     "text": [
      "Restricted license - for non-production use only - expires 2026-11-23\n",
      "Set parameter TimeLimit to value 3600\n",
      "Restricted license - for non-production use only - expires 2026-11-23\n",
      "Set parameter TimeLimit to value 3600\n"
     ]
    },
    {
     "name": "stderr",
     "output_type": "stream",
     "text": [
      " 79%|███████▉  | 791/1000 [01:50<00:29,  7.20graph/s]"
     ]
    },
    {
     "name": "stdout",
     "output_type": "stream",
     "text": [
      "Restricted license - for non-production use only - expires 2026-11-23\n",
      "Set parameter TimeLimit to value 3600\n"
     ]
    },
    {
     "name": "stderr",
     "output_type": "stream",
     "text": [
      " 79%|███████▉  | 792/1000 [01:51<00:34,  6.08graph/s]"
     ]
    },
    {
     "name": "stdout",
     "output_type": "stream",
     "text": [
      "Restricted license - for non-production use only - expires 2026-11-23\n",
      "Set parameter TimeLimit to value 3600\n",
      "Restricted license - for non-production use only - expires 2026-11-23\n",
      "Set parameter TimeLimit to value 3600\n"
     ]
    },
    {
     "name": "stderr",
     "output_type": "stream",
     "text": [
      " 79%|███████▉  | 794/1000 [01:51<00:42,  4.90graph/s]"
     ]
    },
    {
     "name": "stdout",
     "output_type": "stream",
     "text": [
      "Restricted license - for non-production use only - expires 2026-11-23\n",
      "Set parameter TimeLimit to value 3600\n",
      "Restricted license - for non-production use only - expires 2026-11-23\n",
      "Set parameter TimeLimit to value 3600\n"
     ]
    },
    {
     "name": "stderr",
     "output_type": "stream",
     "text": [
      " 80%|███████▉  | 796/1000 [01:51<00:35,  5.69graph/s]"
     ]
    },
    {
     "name": "stdout",
     "output_type": "stream",
     "text": [
      "Restricted license - for non-production use only - expires 2026-11-23\n",
      "Set parameter TimeLimit to value 3600\n",
      "Restricted license - for non-production use only - expires 2026-11-23\n",
      "Set parameter TimeLimit to value 3600\n",
      "Restricted license - for non-production use only - expires 2026-11-23\n",
      "Set parameter TimeLimit to value 3600\n"
     ]
    },
    {
     "name": "stderr",
     "output_type": "stream",
     "text": [
      " 80%|████████  | 800/1000 [01:52<00:27,  7.38graph/s]"
     ]
    },
    {
     "name": "stdout",
     "output_type": "stream",
     "text": [
      "Restricted license - for non-production use only - expires 2026-11-23\n",
      "Set parameter TimeLimit to value 3600\n",
      "Restricted license - for non-production use only - expires 2026-11-23\n",
      "Set parameter TimeLimit to value 3600\n"
     ]
    },
    {
     "name": "stderr",
     "output_type": "stream",
     "text": [
      " 80%|████████  | 802/1000 [01:52<00:30,  6.41graph/s]"
     ]
    },
    {
     "name": "stdout",
     "output_type": "stream",
     "text": [
      "Restricted license - for non-production use only - expires 2026-11-23\n",
      "Set parameter TimeLimit to value 3600\n",
      "Restricted license - for non-production use only - expires 2026-11-23\n",
      "Set parameter TimeLimit to value 3600\n"
     ]
    },
    {
     "name": "stderr",
     "output_type": "stream",
     "text": [
      " 80%|████████  | 804/1000 [01:52<00:24,  8.04graph/s]"
     ]
    },
    {
     "name": "stdout",
     "output_type": "stream",
     "text": [
      "Restricted license - for non-production use only - expires 2026-11-23\n",
      "Set parameter TimeLimit to value 3600\n",
      "Restricted license - for non-production use only - expires 2026-11-23\n",
      "Set parameter TimeLimit to value 3600\n"
     ]
    },
    {
     "name": "stderr",
     "output_type": "stream",
     "text": [
      " 80%|████████  | 805/1000 [01:53<00:28,  6.82graph/s]"
     ]
    },
    {
     "name": "stdout",
     "output_type": "stream",
     "text": [
      "Restricted license - for non-production use only - expires 2026-11-23\n",
      "Set parameter TimeLimit to value 3600\n"
     ]
    },
    {
     "name": "stderr",
     "output_type": "stream",
     "text": [
      " 81%|████████  | 806/1000 [01:53<00:32,  6.03graph/s]"
     ]
    },
    {
     "name": "stdout",
     "output_type": "stream",
     "text": [
      "Restricted license - for non-production use only - expires 2026-11-23\n",
      "Set parameter TimeLimit to value 3600\n",
      "Restricted license - for non-production use only - expires 2026-11-23\n",
      "Set parameter TimeLimit to value 3600\n"
     ]
    },
    {
     "name": "stderr",
     "output_type": "stream",
     "text": [
      " 81%|████████  | 809/1000 [01:53<00:32,  5.94graph/s]"
     ]
    },
    {
     "name": "stdout",
     "output_type": "stream",
     "text": [
      "Restricted license - for non-production use only - expires 2026-11-23\n",
      "Set parameter TimeLimit to value 3600\n",
      "Restricted license - for non-production use only - expires 2026-11-23\n",
      "Set parameter TimeLimit to value 3600\n"
     ]
    },
    {
     "name": "stderr",
     "output_type": "stream",
     "text": [
      " 81%|████████  | 812/1000 [01:54<00:23,  7.87graph/s]"
     ]
    },
    {
     "name": "stdout",
     "output_type": "stream",
     "text": [
      "Restricted license - for non-production use only - expires 2026-11-23\n",
      "Set parameter TimeLimit to value 3600\n",
      "Restricted license - for non-production use only - expires 2026-11-23\n",
      "Set parameter TimeLimit to value 3600\n",
      "Restricted license - for non-production use only - expires 2026-11-23\n",
      "Set parameter TimeLimit to value 3600\n"
     ]
    },
    {
     "name": "stderr",
     "output_type": "stream",
     "text": [
      " 81%|████████▏ | 814/1000 [01:54<00:27,  6.86graph/s]"
     ]
    },
    {
     "name": "stdout",
     "output_type": "stream",
     "text": [
      "Restricted license - for non-production use only - expires 2026-11-23\n",
      "Set parameter TimeLimit to value 3600\n",
      "Restricted license - for non-production use only - expires 2026-11-23\n",
      "Set parameter TimeLimit to value 3600\n",
      "Restricted license - for non-production use only - expires 2026-11-23\n",
      "Set parameter TimeLimit to value 3600\n"
     ]
    },
    {
     "name": "stderr",
     "output_type": "stream",
     "text": [
      " 82%|████████▏ | 816/1000 [01:55<00:42,  4.35graph/s]"
     ]
    },
    {
     "name": "stdout",
     "output_type": "stream",
     "text": [
      "Restricted license - for non-production use only - expires 2026-11-23\n",
      "Set parameter TimeLimit to value 3600\n"
     ]
    },
    {
     "name": "stderr",
     "output_type": "stream",
     "text": [
      " 82%|████████▏ | 819/1000 [01:55<00:32,  5.62graph/s]"
     ]
    },
    {
     "name": "stdout",
     "output_type": "stream",
     "text": [
      "Restricted license - for non-production use only - expires 2026-11-23\n",
      "Set parameter TimeLimit to value 3600\n",
      "Restricted license - for non-production use only - expires 2026-11-23\n",
      "Set parameter TimeLimit to value 3600\n",
      "Restricted license - for non-production use only - expires 2026-11-23\n",
      "Set parameter TimeLimit to value 3600\n"
     ]
    },
    {
     "name": "stderr",
     "output_type": "stream",
     "text": [
      " 82%|████████▏ | 823/1000 [01:55<00:20,  8.45graph/s]"
     ]
    },
    {
     "name": "stdout",
     "output_type": "stream",
     "text": [
      "Restricted license - for non-production use only - expires 2026-11-23\n",
      "Set parameter TimeLimit to value 3600\n",
      "Restricted license - for non-production use only - expires 2026-11-23\n",
      "Set parameter TimeLimit to value 3600\n",
      "Restricted license - for non-production use only - expires 2026-11-23\n",
      "Set parameter TimeLimit to value 3600\n",
      "Restricted license - for non-production use only - expires 2026-11-23\n",
      "Set parameter TimeLimit to value 3600\n"
     ]
    },
    {
     "name": "stderr",
     "output_type": "stream",
     "text": [
      " 82%|████████▎ | 825/1000 [01:56<00:30,  5.81graph/s]"
     ]
    },
    {
     "name": "stdout",
     "output_type": "stream",
     "text": [
      "Restricted license - for non-production use only - expires 2026-11-23\n",
      "Set parameter TimeLimit to value 3600\n",
      "Restricted license - for non-production use only - expires 2026-11-23\n",
      "Set parameter TimeLimit to value 3600\n"
     ]
    },
    {
     "name": "stderr",
     "output_type": "stream",
     "text": [
      " 83%|████████▎ | 830/1000 [01:57<00:25,  6.63graph/s]"
     ]
    },
    {
     "name": "stdout",
     "output_type": "stream",
     "text": [
      "Restricted license - for non-production use only - expires 2026-11-23\n",
      "Set parameter TimeLimit to value 3600\n",
      "Restricted license - for non-production use only - expires 2026-11-23\n",
      "Set parameter TimeLimit to value 3600\n",
      "Restricted license - for non-production use only - expires 2026-11-23\n",
      "Set parameter TimeLimit to value 3600\n",
      "Restricted license - for non-production use only - expires 2026-11-23\n",
      "Set parameter TimeLimit to value 3600\n",
      "Restricted license - for non-production use only - expires 2026-11-23\n",
      "Set parameter TimeLimit to value 3600\n"
     ]
    },
    {
     "name": "stderr",
     "output_type": "stream",
     "text": [
      " 83%|████████▎ | 832/1000 [01:57<00:22,  7.52graph/s]"
     ]
    },
    {
     "name": "stdout",
     "output_type": "stream",
     "text": [
      "Restricted license - for non-production use only - expires 2026-11-23\n",
      "Set parameter TimeLimit to value 3600\n",
      "Restricted license - for non-production use only - expires 2026-11-23\n",
      "Set parameter TimeLimit to value 3600\n"
     ]
    },
    {
     "name": "stderr",
     "output_type": "stream",
     "text": [
      " 83%|████████▎ | 834/1000 [01:57<00:25,  6.63graph/s]"
     ]
    },
    {
     "name": "stdout",
     "output_type": "stream",
     "text": [
      "Restricted license - for non-production use only - expires 2026-11-23\n",
      "Set parameter TimeLimit to value 3600\n",
      "Restricted license - for non-production use only - expires 2026-11-23\n",
      "Set parameter TimeLimit to value 3600\n"
     ]
    },
    {
     "name": "stderr",
     "output_type": "stream",
     "text": [
      " 84%|████████▎ | 836/1000 [01:58<00:26,  6.19graph/s]"
     ]
    },
    {
     "name": "stdout",
     "output_type": "stream",
     "text": [
      "Restricted license - for non-production use only - expires 2026-11-23\n",
      "Set parameter TimeLimit to value 3600\n",
      "Restricted license - for non-production use only - expires 2026-11-23\n",
      "Set parameter TimeLimit to value 3600\n"
     ]
    },
    {
     "name": "stderr",
     "output_type": "stream",
     "text": [
      " 84%|████████▍ | 839/1000 [01:58<00:22,  7.13graph/s]"
     ]
    },
    {
     "name": "stdout",
     "output_type": "stream",
     "text": [
      "Restricted license - for non-production use only - expires 2026-11-23\n",
      "Set parameter TimeLimit to value 3600\n",
      "Restricted license - for non-production use only - expires 2026-11-23\n",
      "Set parameter TimeLimit to value 3600\n",
      "Restricted license - for non-production use only - expires 2026-11-23\n",
      "Set parameter TimeLimit to value 3600\n"
     ]
    },
    {
     "name": "stderr",
     "output_type": "stream",
     "text": [
      " 84%|████████▍ | 841/1000 [01:59<00:29,  5.36graph/s]"
     ]
    },
    {
     "name": "stdout",
     "output_type": "stream",
     "text": [
      "Restricted license - for non-production use only - expires 2026-11-23\n",
      "Set parameter TimeLimit to value 3600\n",
      "Restricted license - for non-production use only - expires 2026-11-23\n",
      "Set parameter TimeLimit to value 3600\n"
     ]
    },
    {
     "name": "stderr",
     "output_type": "stream",
     "text": [
      " 84%|████████▍ | 842/1000 [01:59<00:27,  5.74graph/s]"
     ]
    },
    {
     "name": "stdout",
     "output_type": "stream",
     "text": [
      "Restricted license - for non-production use only - expires 2026-11-23\n",
      "Set parameter TimeLimit to value 3600\n"
     ]
    },
    {
     "name": "stderr",
     "output_type": "stream",
     "text": [
      " 84%|████████▍ | 843/1000 [01:59<00:32,  4.84graph/s]"
     ]
    },
    {
     "name": "stdout",
     "output_type": "stream",
     "text": [
      "Restricted license - for non-production use only - expires 2026-11-23\n",
      "Set parameter TimeLimit to value 3600\n",
      "Restricted license - for non-production use only - expires 2026-11-23\n",
      "Set parameter TimeLimit to value 3600\n"
     ]
    },
    {
     "name": "stderr",
     "output_type": "stream",
     "text": [
      " 84%|████████▍ | 845/1000 [02:00<00:30,  5.04graph/s]"
     ]
    },
    {
     "name": "stdout",
     "output_type": "stream",
     "text": [
      "Restricted license - for non-production use only - expires 2026-11-23\n",
      "Restricted license - for non-production use only - expires 2026-11-23\n",
      "Set parameter TimeLimit to value 3600\n",
      "Set parameter TimeLimit to value 3600\n",
      "Restricted license - for non-production use only - expires 2026-11-23\n",
      "Set parameter TimeLimit to value 3600\n"
     ]
    },
    {
     "name": "stderr",
     "output_type": "stream",
     "text": [
      " 85%|████████▌ | 850/1000 [02:00<00:21,  7.05graph/s]"
     ]
    },
    {
     "name": "stdout",
     "output_type": "stream",
     "text": [
      "Restricted license - for non-production use only - expires 2026-11-23\n",
      "Set parameter TimeLimit to value 3600\n",
      "Restricted license - for non-production use only - expires 2026-11-23\n",
      "Set parameter TimeLimit to value 3600\n",
      "Restricted license - for non-production use only - expires 2026-11-23\n",
      "Set parameter TimeLimit to value 3600\n",
      "Restricted license - for non-production use only - expires 2026-11-23\n",
      "Set parameter TimeLimit to value 3600\n"
     ]
    },
    {
     "name": "stderr",
     "output_type": "stream",
     "text": [
      " 85%|████████▌ | 852/1000 [02:00<00:21,  6.91graph/s]"
     ]
    },
    {
     "name": "stdout",
     "output_type": "stream",
     "text": [
      "Restricted license - for non-production use only - expires 2026-11-23\n",
      "Set parameter TimeLimit to value 3600\n",
      "Restricted license - for non-production use only - expires 2026-11-23\n",
      "Set parameter TimeLimit to value 3600\n"
     ]
    },
    {
     "name": "stderr",
     "output_type": "stream",
     "text": [
      " 85%|████████▌ | 854/1000 [02:01<00:24,  5.84graph/s]"
     ]
    },
    {
     "name": "stdout",
     "output_type": "stream",
     "text": [
      "Restricted license - for non-production use only - expires 2026-11-23\n",
      "Set parameter TimeLimit to value 3600\n"
     ]
    },
    {
     "name": "stderr",
     "output_type": "stream",
     "text": [
      " 86%|████████▌ | 858/1000 [02:01<00:17,  7.90graph/s]"
     ]
    },
    {
     "name": "stdout",
     "output_type": "stream",
     "text": [
      "Restricted license - for non-production use only - expires 2026-11-23\n",
      "Set parameter TimeLimit to value 3600\n",
      "Restricted license - for non-production use only - expires 2026-11-23\n",
      "Set parameter TimeLimit to value 3600\n",
      "Restricted license - for non-production use only - expires 2026-11-23\n",
      "Set parameter TimeLimit to value 3600\n",
      "Restricted license - for non-production use only - expires 2026-11-23\n",
      "Set parameter TimeLimit to value 3600\n"
     ]
    },
    {
     "name": "stderr",
     "output_type": "stream",
     "text": [
      " 86%|████████▌ | 859/1000 [02:01<00:17,  8.06graph/s]"
     ]
    },
    {
     "name": "stdout",
     "output_type": "stream",
     "text": [
      "Restricted license - for non-production use only - expires 2026-11-23\n",
      "Set parameter TimeLimit to value 3600\n",
      "Restricted license - for non-production use only - expires 2026-11-23\n",
      "Set parameter TimeLimit to value 3600\n"
     ]
    },
    {
     "name": "stderr",
     "output_type": "stream",
     "text": [
      " 86%|████████▌ | 862/1000 [02:02<00:18,  7.31graph/s]"
     ]
    },
    {
     "name": "stdout",
     "output_type": "stream",
     "text": [
      "Restricted license - for non-production use only - expires 2026-11-23\n",
      "Set parameter TimeLimit to value 3600\n",
      "Restricted license - for non-production use only - expires 2026-11-23\n",
      "Set parameter TimeLimit to value 3600\n",
      "Restricted license - for non-production use only - expires 2026-11-23\n",
      "Set parameter TimeLimit to value 3600\n"
     ]
    },
    {
     "name": "stderr",
     "output_type": "stream",
     "text": [
      " 87%|████████▋ | 866/1000 [02:02<00:13, 10.30graph/s]"
     ]
    },
    {
     "name": "stdout",
     "output_type": "stream",
     "text": [
      "Restricted license - for non-production use only - expires 2026-11-23\n",
      "Set parameter TimeLimit to value 3600\n",
      "Restricted license - for non-production use only - expires 2026-11-23\n",
      "Set parameter TimeLimit to value 3600\n",
      "Restricted license - for non-production use only - expires 2026-11-23\n",
      "Set parameter TimeLimit to value 3600\n",
      "Restricted license - for non-production use only - expires 2026-11-23\n",
      "Set parameter TimeLimit to value 3600\n"
     ]
    },
    {
     "name": "stderr",
     "output_type": "stream",
     "text": [
      " 87%|████████▋ | 868/1000 [02:03<00:19,  6.84graph/s]"
     ]
    },
    {
     "name": "stdout",
     "output_type": "stream",
     "text": [
      "Restricted license - for non-production use only - expires 2026-11-23\n",
      "Set parameter TimeLimit to value 3600\n",
      "Restricted license - for non-production use only - expires 2026-11-23\n",
      "Set parameter TimeLimit to value 3600\n",
      "Restricted license - for non-production use only - expires 2026-11-23\n",
      "Set parameter TimeLimit to value 3600\n"
     ]
    },
    {
     "name": "stderr",
     "output_type": "stream",
     "text": [
      " 87%|████████▋ | 871/1000 [02:03<00:14,  8.67graph/s]"
     ]
    },
    {
     "name": "stdout",
     "output_type": "stream",
     "text": [
      "Restricted license - for non-production use only - expires 2026-11-23\n",
      "Set parameter TimeLimit to value 3600\n",
      "Restricted license - for non-production use only - expires 2026-11-23\n",
      "Set parameter TimeLimit to value 3600\n",
      "Restricted license - for non-production use only - expires 2026-11-23\n",
      "Set parameter TimeLimit to value 3600\n"
     ]
    },
    {
     "name": "stderr",
     "output_type": "stream",
     "text": [
      " 87%|████████▋ | 874/1000 [02:03<00:13,  9.37graph/s]"
     ]
    },
    {
     "name": "stdout",
     "output_type": "stream",
     "text": [
      "Restricted license - for non-production use only - expires 2026-11-23\n",
      "Set parameter TimeLimit to value 3600\n",
      "Restricted license - for non-production use only - expires 2026-11-23\n",
      "Set parameter TimeLimit to value 3600\n"
     ]
    },
    {
     "name": "stderr",
     "output_type": "stream",
     "text": [
      " 88%|████████▊ | 876/1000 [02:04<00:17,  7.27graph/s]"
     ]
    },
    {
     "name": "stdout",
     "output_type": "stream",
     "text": [
      "Restricted license - for non-production use only - expires 2026-11-23\n",
      "Set parameter TimeLimit to value 3600\n"
     ]
    },
    {
     "name": "stderr",
     "output_type": "stream",
     "text": [
      " 88%|████████▊ | 879/1000 [02:04<00:16,  7.31graph/s]"
     ]
    },
    {
     "name": "stdout",
     "output_type": "stream",
     "text": [
      "Restricted license - for non-production use only - expires 2026-11-23\n",
      "Set parameter TimeLimit to value 3600\n",
      "Restricted license - for non-production use only - expires 2026-11-23\n",
      "Set parameter TimeLimit to value 3600\n",
      "Restricted license - for non-production use only - expires 2026-11-23\n",
      "Set parameter TimeLimit to value 3600\n"
     ]
    },
    {
     "name": "stderr",
     "output_type": "stream",
     "text": [
      " 88%|████████▊ | 881/1000 [02:04<00:13,  9.07graph/s]"
     ]
    },
    {
     "name": "stdout",
     "output_type": "stream",
     "text": [
      "Restricted license - for non-production use only - expires 2026-11-23\n",
      "Set parameter TimeLimit to value 3600\n",
      "Restricted license - for non-production use only - expires 2026-11-23\n",
      "Set parameter TimeLimit to value 3600\n",
      "Restricted license - for non-production use only - expires 2026-11-23\n",
      "Set parameter TimeLimit to value 3600\n"
     ]
    },
    {
     "name": "stderr",
     "output_type": "stream",
     "text": [
      " 88%|████████▊ | 883/1000 [02:04<00:13,  8.74graph/s]"
     ]
    },
    {
     "name": "stdout",
     "output_type": "stream",
     "text": [
      "Restricted license - for non-production use only - expires 2026-11-23\n",
      "Set parameter TimeLimit to value 3600\n",
      "Restricted license - for non-production use only - expires 2026-11-23\n",
      "Set parameter TimeLimit to value 3600\n"
     ]
    },
    {
     "name": "stderr",
     "output_type": "stream",
     "text": [
      " 89%|████████▊ | 886/1000 [02:05<00:18,  6.27graph/s]"
     ]
    },
    {
     "name": "stdout",
     "output_type": "stream",
     "text": [
      "Restricted license - for non-production use only - expires 2026-11-23\n",
      "Set parameter TimeLimit to value 3600\n",
      "Restricted license - for non-production use only - expires 2026-11-23\n",
      "Set parameter TimeLimit to value 3600\n"
     ]
    },
    {
     "name": "stderr",
     "output_type": "stream",
     "text": [
      " 89%|████████▊ | 887/1000 [02:05<00:17,  6.45graph/s]"
     ]
    },
    {
     "name": "stdout",
     "output_type": "stream",
     "text": [
      "Restricted license - for non-production use only - expires 2026-11-23\n",
      "Set parameter TimeLimit to value 3600\n",
      "Restricted license - for non-production use only - expires 2026-11-23\n",
      "Set parameter TimeLimit to value 3600\n"
     ]
    },
    {
     "name": "stderr",
     "output_type": "stream",
     "text": [
      " 89%|████████▉ | 890/1000 [02:06<00:14,  7.34graph/s]"
     ]
    },
    {
     "name": "stdout",
     "output_type": "stream",
     "text": [
      "Restricted license - for non-production use only - expires 2026-11-23\n",
      "Set parameter TimeLimit to value 3600\n",
      "Restricted license - for non-production use only - expires 2026-11-23\n",
      "Set parameter TimeLimit to value 3600\n"
     ]
    },
    {
     "name": "stderr",
     "output_type": "stream",
     "text": [
      " 89%|████████▉ | 891/1000 [02:06<00:19,  5.49graph/s]"
     ]
    },
    {
     "name": "stdout",
     "output_type": "stream",
     "text": [
      "Restricted license - for non-production use only - expires 2026-11-23\n",
      "Set parameter TimeLimit to value 3600\n"
     ]
    },
    {
     "name": "stderr",
     "output_type": "stream",
     "text": [
      " 89%|████████▉ | 894/1000 [02:06<00:17,  6.23graph/s]"
     ]
    },
    {
     "name": "stdout",
     "output_type": "stream",
     "text": [
      "Restricted license - for non-production use only - expires 2026-11-23\n",
      "Set parameter TimeLimit to value 3600\n",
      "Restricted license - for non-production use only - expires 2026-11-23\n",
      "Set parameter TimeLimit to value 3600\n",
      "Restricted license - for non-production use only - expires 2026-11-23\n",
      "Set parameter TimeLimit to value 3600\n",
      "Restricted license - for non-production use only - expires 2026-11-23\n",
      "Set parameter TimeLimit to value 3600\n",
      "Restricted license - for non-production use only - expires 2026-11-23\n",
      "Set parameter TimeLimit to value 3600\n"
     ]
    },
    {
     "name": "stderr",
     "output_type": "stream",
     "text": [
      " 90%|████████▉ | 897/1000 [02:07<00:14,  7.12graph/s]"
     ]
    },
    {
     "name": "stdout",
     "output_type": "stream",
     "text": [
      "Restricted license - for non-production use only - expires 2026-11-23\n",
      "Set parameter TimeLimit to value 3600\n",
      "Restricted license - for non-production use only - expires 2026-11-23\n",
      "Set parameter TimeLimit to value 3600\n"
     ]
    },
    {
     "name": "stderr",
     "output_type": "stream",
     "text": [
      " 90%|█████████ | 901/1000 [02:07<00:11,  8.35graph/s]"
     ]
    },
    {
     "name": "stdout",
     "output_type": "stream",
     "text": [
      "Restricted license - for non-production use only - expires 2026-11-23\n",
      "Set parameter TimeLimit to value 3600\n",
      "Restricted license - for non-production use only - expires 2026-11-23\n",
      "Set parameter TimeLimit to value 3600\n",
      "Restricted license - for non-production use only - expires 2026-11-23\n",
      "Set parameter TimeLimit to value 3600\n"
     ]
    },
    {
     "name": "stderr",
     "output_type": "stream",
     "text": [
      " 90%|█████████ | 904/1000 [02:07<00:09,  9.63graph/s]"
     ]
    },
    {
     "name": "stdout",
     "output_type": "stream",
     "text": [
      "Restricted license - for non-production use only - expires 2026-11-23\n",
      "Set parameter TimeLimit to value 3600\n",
      "Restricted license - for non-production use only - expires 2026-11-23\n",
      "Set parameter TimeLimit to value 3600\n",
      "Restricted license - for non-production use only - expires 2026-11-23\n",
      "Set parameter TimeLimit to value 3600\n"
     ]
    },
    {
     "name": "stderr",
     "output_type": "stream",
     "text": [
      " 91%|█████████ | 906/1000 [02:08<00:09,  9.95graph/s]"
     ]
    },
    {
     "name": "stdout",
     "output_type": "stream",
     "text": [
      "Restricted license - for non-production use only - expires 2026-11-23\n",
      "Set parameter TimeLimit to value 3600\n",
      "Restricted license - for non-production use only - expires 2026-11-23\n",
      "Set parameter TimeLimit to value 3600\n",
      "Restricted license - for non-production use only - expires 2026-11-23\n",
      "Set parameter TimeLimit to value 3600\n"
     ]
    },
    {
     "name": "stderr",
     "output_type": "stream",
     "text": [
      " 91%|█████████ | 909/1000 [02:08<00:12,  7.50graph/s]"
     ]
    },
    {
     "name": "stdout",
     "output_type": "stream",
     "text": [
      "Restricted license - for non-production use only - expires 2026-11-23\n",
      "Set parameter TimeLimit to value 3600\n",
      "Restricted license - for non-production use only - expires 2026-11-23\n",
      "Set parameter TimeLimit to value 3600\n",
      "Restricted license - for non-production use only - expires 2026-11-23\n",
      "Set parameter TimeLimit to value 3600\n"
     ]
    },
    {
     "name": "stderr",
     "output_type": "stream",
     "text": [
      " 91%|█████████ | 911/1000 [02:08<00:09,  8.94graph/s]"
     ]
    },
    {
     "name": "stdout",
     "output_type": "stream",
     "text": [
      "Restricted license - for non-production use only - expires 2026-11-23\n",
      "Set parameter TimeLimit to value 3600\n"
     ]
    },
    {
     "name": "stderr",
     "output_type": "stream",
     "text": [
      " 91%|█████████▏| 914/1000 [02:09<00:11,  7.19graph/s]"
     ]
    },
    {
     "name": "stdout",
     "output_type": "stream",
     "text": [
      "Restricted license - for non-production use only - expires 2026-11-23\n",
      "Set parameter TimeLimit to value 3600\n",
      "Restricted license - for non-production use only - expires 2026-11-23\n",
      "Set parameter TimeLimit to value 3600\n",
      "Restricted license - for non-production use only - expires 2026-11-23\n",
      "Set parameter TimeLimit to value 3600\n"
     ]
    },
    {
     "name": "stderr",
     "output_type": "stream",
     "text": [
      " 92%|█████████▏| 917/1000 [02:09<00:11,  6.98graph/s]"
     ]
    },
    {
     "name": "stdout",
     "output_type": "stream",
     "text": [
      "Restricted license - for non-production use only - expires 2026-11-23\n",
      "Set parameter TimeLimit to value 3600\n",
      "Restricted license - for non-production use only - expires 2026-11-23\n",
      "Set parameter TimeLimit to value 3600\n",
      "Restricted license - for non-production use only - expires 2026-11-23\n",
      "Set parameter TimeLimit to value 3600\n",
      "Restricted license - for non-production use only - expires 2026-11-23\n",
      "Set parameter TimeLimit to value 3600\n",
      "Restricted license - for non-production use only - expires 2026-11-23\n",
      "Set parameter TimeLimit to value 3600\n"
     ]
    },
    {
     "name": "stderr",
     "output_type": "stream",
     "text": [
      " 92%|█████████▏| 920/1000 [02:10<00:13,  6.04graph/s]"
     ]
    },
    {
     "name": "stdout",
     "output_type": "stream",
     "text": [
      "Restricted license - for non-production use only - expires 2026-11-23\n",
      "Set parameter TimeLimit to value 3600\n"
     ]
    },
    {
     "name": "stderr",
     "output_type": "stream",
     "text": [
      " 92%|█████████▏| 922/1000 [02:11<00:17,  4.56graph/s]"
     ]
    },
    {
     "name": "stdout",
     "output_type": "stream",
     "text": [
      "Restricted license - for non-production use only - expires 2026-11-23\n",
      "Set parameter TimeLimit to value 3600\n",
      "Restricted license - for non-production use only - expires 2026-11-23\n",
      "Set parameter TimeLimit to value 3600\n",
      "Restricted license - for non-production use only - expires 2026-11-23\n",
      "Set parameter TimeLimit to value 3600\n",
      "Restricted license - for non-production use only - expires 2026-11-23\n",
      "Set parameter TimeLimit to value 3600\n"
     ]
    },
    {
     "name": "stderr",
     "output_type": "stream",
     "text": [
      " 92%|█████████▎| 925/1000 [02:11<00:11,  6.57graph/s]"
     ]
    },
    {
     "name": "stdout",
     "output_type": "stream",
     "text": [
      "Restricted license - for non-production use only - expires 2026-11-23\n",
      "Set parameter TimeLimit to value 3600\n"
     ]
    },
    {
     "name": "stderr",
     "output_type": "stream",
     "text": [
      " 93%|█████████▎| 928/1000 [02:12<00:12,  5.79graph/s]"
     ]
    },
    {
     "name": "stdout",
     "output_type": "stream",
     "text": [
      "Restricted license - for non-production use only - expires 2026-11-23\n",
      "Set parameter TimeLimit to value 3600\n",
      "Restricted license - for non-production use only - expires 2026-11-23\n",
      "Set parameter TimeLimit to value 3600\n",
      "Restricted license - for non-production use only - expires 2026-11-23\n",
      "Set parameter TimeLimit to value 3600\n"
     ]
    },
    {
     "name": "stderr",
     "output_type": "stream",
     "text": [
      " 93%|█████████▎| 931/1000 [02:12<00:10,  6.70graph/s]"
     ]
    },
    {
     "name": "stdout",
     "output_type": "stream",
     "text": [
      "Restricted license - for non-production use only - expires 2026-11-23\n",
      "Set parameter TimeLimit to value 3600\n",
      "Restricted license - for non-production use only - expires 2026-11-23\n",
      "Set parameter TimeLimit to value 3600\n",
      "Restricted license - for non-production use only - expires 2026-11-23\n",
      "Set parameter TimeLimit to value 3600\n",
      "Restricted license - for non-production use only - expires 2026-11-23\n",
      "Set parameter TimeLimit to value 3600\n"
     ]
    },
    {
     "name": "stderr",
     "output_type": "stream",
     "text": [
      " 94%|█████████▎| 935/1000 [02:12<00:07,  8.48graph/s]"
     ]
    },
    {
     "name": "stdout",
     "output_type": "stream",
     "text": [
      "Restricted license - for non-production use only - expires 2026-11-23\n",
      "Set parameter TimeLimit to value 3600\n",
      "Restricted license - for non-production use only - expires 2026-11-23\n",
      "Set parameter TimeLimit to value 3600\n",
      "Restricted license - for non-production use only - expires 2026-11-23\n",
      "Set parameter TimeLimit to value 3600\n"
     ]
    },
    {
     "name": "stderr",
     "output_type": "stream",
     "text": [
      " 94%|█████████▎| 937/1000 [02:13<00:07,  8.20graph/s]"
     ]
    },
    {
     "name": "stdout",
     "output_type": "stream",
     "text": [
      "Restricted license - for non-production use only - expires 2026-11-23\n",
      "Set parameter TimeLimit to value 3600\n",
      "Restricted license - for non-production use only - expires 2026-11-23\n",
      "Set parameter TimeLimit to value 3600\n"
     ]
    },
    {
     "name": "stderr",
     "output_type": "stream",
     "text": [
      " 94%|█████████▍| 939/1000 [02:13<00:06,  9.29graph/s]"
     ]
    },
    {
     "name": "stdout",
     "output_type": "stream",
     "text": [
      "Restricted license - for non-production use only - expires 2026-11-23\n",
      "Set parameter TimeLimit to value 3600\n",
      "Restricted license - for non-production use only - expires 2026-11-23\n",
      "Set parameter TimeLimit to value 3600\n"
     ]
    },
    {
     "name": "stderr",
     "output_type": "stream",
     "text": [
      " 94%|█████████▍| 941/1000 [02:13<00:09,  6.27graph/s]"
     ]
    },
    {
     "name": "stdout",
     "output_type": "stream",
     "text": [
      "Restricted license - for non-production use only - expires 2026-11-23\n",
      "Set parameter TimeLimit to value 3600\n",
      "Restricted license - for non-production use only - expires 2026-11-23\n",
      "Set parameter TimeLimit to value 3600\n"
     ]
    },
    {
     "name": "stderr",
     "output_type": "stream",
     "text": [
      " 94%|█████████▍| 942/1000 [02:14<00:09,  6.10graph/s]"
     ]
    },
    {
     "name": "stdout",
     "output_type": "stream",
     "text": [
      "Restricted license - for non-production use only - expires 2026-11-23\n",
      "Set parameter TimeLimit to value 3600\n"
     ]
    },
    {
     "name": "stderr",
     "output_type": "stream",
     "text": [
      " 94%|█████████▍| 943/1000 [02:14<00:12,  4.57graph/s]"
     ]
    },
    {
     "name": "stdout",
     "output_type": "stream",
     "text": [
      "Restricted license - for non-production use only - expires 2026-11-23\n",
      "Set parameter TimeLimit to value 3600\n",
      "Restricted license - for non-production use only - expires 2026-11-23\n",
      "Set parameter TimeLimit to value 3600\n"
     ]
    },
    {
     "name": "stderr",
     "output_type": "stream",
     "text": [
      " 95%|█████████▍| 947/1000 [02:14<00:07,  6.72graph/s]"
     ]
    },
    {
     "name": "stdout",
     "output_type": "stream",
     "text": [
      "Restricted license - for non-production use only - expires 2026-11-23\n",
      "Set parameter TimeLimit to value 3600\n",
      "Restricted license - for non-production use only - expires 2026-11-23\n",
      "Set parameter TimeLimit to value 3600\n",
      "Restricted license - for non-production use only - expires 2026-11-23\n",
      "Set parameter TimeLimit to value 3600\n"
     ]
    },
    {
     "name": "stderr",
     "output_type": "stream",
     "text": [
      " 95%|█████████▌| 950/1000 [02:15<00:08,  6.11graph/s]"
     ]
    },
    {
     "name": "stdout",
     "output_type": "stream",
     "text": [
      "Restricted license - for non-production use only - expires 2026-11-23\n",
      "Set parameter TimeLimit to value 3600\n",
      "Restricted license - for non-production use only - expires 2026-11-23\n",
      "Set parameter TimeLimit to value 3600\n",
      "Restricted license - for non-production use only - expires 2026-11-23\n",
      "Set parameter TimeLimit to value 3600\n"
     ]
    },
    {
     "name": "stderr",
     "output_type": "stream",
     "text": [
      " 95%|█████████▌| 951/1000 [02:15<00:07,  6.50graph/s]"
     ]
    },
    {
     "name": "stdout",
     "output_type": "stream",
     "text": [
      "Restricted license - for non-production use only - expires 2026-11-23\n",
      "Set parameter TimeLimit to value 3600\n"
     ]
    },
    {
     "name": "stderr",
     "output_type": "stream",
     "text": [
      " 95%|█████████▌| 952/1000 [02:16<00:10,  4.72graph/s]"
     ]
    },
    {
     "name": "stdout",
     "output_type": "stream",
     "text": [
      "Restricted license - for non-production use only - expires 2026-11-23\n",
      "Set parameter TimeLimit to value 3600\n",
      "Restricted license - for non-production use only - expires 2026-11-23\n",
      "Set parameter TimeLimit to value 3600\n"
     ]
    },
    {
     "name": "stderr",
     "output_type": "stream",
     "text": [
      " 95%|█████████▌| 954/1000 [02:16<00:09,  4.72graph/s]"
     ]
    },
    {
     "name": "stdout",
     "output_type": "stream",
     "text": [
      "Restricted license - for non-production use only - expires 2026-11-23\n",
      "Set parameter TimeLimit to value 3600\n",
      "Restricted license - for non-production use only - expires 2026-11-23\n",
      "Set parameter TimeLimit to value 3600\n",
      "Restricted license - for non-production use only - expires 2026-11-23\n",
      "Set parameter TimeLimit to value 3600\n"
     ]
    },
    {
     "name": "stderr",
     "output_type": "stream",
     "text": [
      " 96%|█████████▌| 961/1000 [02:17<00:04,  7.87graph/s]"
     ]
    },
    {
     "name": "stdout",
     "output_type": "stream",
     "text": [
      "Restricted license - for non-production use only - expires 2026-11-23\n",
      "Set parameter TimeLimit to value 3600\n",
      "Restricted license - for non-production use only - expires 2026-11-23\n",
      "Set parameter TimeLimit to value 3600\n",
      "Restricted license - for non-production use only - expires 2026-11-23\n",
      "Set parameter TimeLimit to value 3600\n",
      "Restricted license - for non-production use only - expires 2026-11-23\n",
      "Set parameter TimeLimit to value 3600\n",
      "Restricted license - for non-production use only - expires 2026-11-23\n",
      "Set parameter TimeLimit to value 3600\n"
     ]
    },
    {
     "name": "stderr",
     "output_type": "stream",
     "text": [
      " 96%|█████████▋| 963/1000 [02:17<00:04,  7.90graph/s]"
     ]
    },
    {
     "name": "stdout",
     "output_type": "stream",
     "text": [
      "Restricted license - for non-production use only - expires 2026-11-23\n",
      "Set parameter TimeLimit to value 3600\n",
      "Restricted license - for non-production use only - expires 2026-11-23\n",
      "Set parameter TimeLimit to value 3600\n"
     ]
    },
    {
     "name": "stderr",
     "output_type": "stream",
     "text": [
      " 97%|█████████▋| 967/1000 [02:17<00:03,  8.42graph/s]"
     ]
    },
    {
     "name": "stdout",
     "output_type": "stream",
     "text": [
      "Restricted license - for non-production use only - expires 2026-11-23\n",
      "Set parameter TimeLimit to value 3600\n",
      "Restricted license - for non-production use only - expires 2026-11-23\n",
      "Set parameter TimeLimit to value 3600\n",
      "Restricted license - for non-production use only - expires 2026-11-23\n",
      "Set parameter TimeLimit to value 3600\n",
      "Restricted license - for non-production use only - expires 2026-11-23\n",
      "Set parameter TimeLimit to value 3600\n"
     ]
    },
    {
     "name": "stderr",
     "output_type": "stream",
     "text": [
      " 97%|█████████▋| 969/1000 [02:18<00:04,  7.39graph/s]"
     ]
    },
    {
     "name": "stdout",
     "output_type": "stream",
     "text": [
      "Restricted license - for non-production use only - expires 2026-11-23\n",
      "Set parameter TimeLimit to value 3600\n",
      "Restricted license - for non-production use only - expires 2026-11-23\n",
      "Set parameter TimeLimit to value 3600\n"
     ]
    },
    {
     "name": "stderr",
     "output_type": "stream",
     "text": [
      " 97%|█████████▋| 972/1000 [02:18<00:03,  8.62graph/s]"
     ]
    },
    {
     "name": "stdout",
     "output_type": "stream",
     "text": [
      "Restricted license - for non-production use only - expires 2026-11-23\n",
      "Set parameter TimeLimit to value 3600\n",
      "Restricted license - for non-production use only - expires 2026-11-23\n",
      "Set parameter TimeLimit to value 3600\n",
      "Restricted license - for non-production use only - expires 2026-11-23\n",
      "Set parameter TimeLimit to value 3600\n",
      "Restricted license - for non-production use only - expires 2026-11-23\n",
      "Set parameter TimeLimit to value 3600\n"
     ]
    },
    {
     "name": "stderr",
     "output_type": "stream",
     "text": [
      " 98%|█████████▊| 976/1000 [02:18<00:02, 11.06graph/s]"
     ]
    },
    {
     "name": "stdout",
     "output_type": "stream",
     "text": [
      "Restricted license - for non-production use only - expires 2026-11-23\n",
      "Set parameter TimeLimit to value 3600\n",
      "Restricted license - for non-production use only - expires 2026-11-23\n",
      "Set parameter TimeLimit to value 3600\n",
      "Restricted license - for non-production use only - expires 2026-11-23\n",
      "Set parameter TimeLimit to value 3600\n",
      "Restricted license - for non-production use only - expires 2026-11-23\n",
      "Set parameter TimeLimit to value 3600\n",
      "Restricted license - for non-production use only - expires 2026-11-23\n",
      "Set parameter TimeLimit to value 3600\n"
     ]
    },
    {
     "name": "stderr",
     "output_type": "stream",
     "text": [
      " 98%|█████████▊| 979/1000 [02:19<00:01, 13.47graph/s]"
     ]
    },
    {
     "name": "stdout",
     "output_type": "stream",
     "text": [
      "Restricted license - for non-production use only - expires 2026-11-23\n",
      "Set parameter TimeLimit to value 3600\n"
     ]
    },
    {
     "name": "stderr",
     "output_type": "stream",
     "text": [
      " 98%|█████████▊| 981/1000 [02:19<00:02,  9.22graph/s]"
     ]
    },
    {
     "name": "stdout",
     "output_type": "stream",
     "text": [
      "Restricted license - for non-production use only - expires 2026-11-23\n",
      "Set parameter TimeLimit to value 3600\n",
      "Restricted license - for non-production use only - expires 2026-11-23\n",
      "Set parameter TimeLimit to value 3600\n"
     ]
    },
    {
     "name": "stderr",
     "output_type": "stream",
     "text": [
      " 98%|█████████▊| 983/1000 [02:20<00:02,  6.04graph/s]"
     ]
    },
    {
     "name": "stdout",
     "output_type": "stream",
     "text": [
      "Restricted license - for non-production use only - expires 2026-11-23\n",
      "Set parameter TimeLimit to value 3600\n",
      "Restricted license - for non-production use only - expires 2026-11-23\n",
      "Set parameter TimeLimit to value 3600\n",
      "Restricted license - for non-production use only - expires 2026-11-23\n",
      "Set parameter TimeLimit to value 3600\n"
     ]
    },
    {
     "name": "stderr",
     "output_type": "stream",
     "text": [
      " 98%|█████████▊| 985/1000 [02:20<00:02,  7.14graph/s]"
     ]
    },
    {
     "name": "stdout",
     "output_type": "stream",
     "text": [
      "Restricted license - for non-production use only - expires 2026-11-23\n",
      "Set parameter TimeLimit to value 3600\n",
      "Restricted license - for non-production use only - expires 2026-11-23\n",
      "Set parameter TimeLimit to value 3600\n",
      "Restricted license - for non-production use only - expires 2026-11-23\n",
      "Set parameter TimeLimit to value 3600\n"
     ]
    },
    {
     "name": "stderr",
     "output_type": "stream",
     "text": [
      " 99%|█████████▉| 988/1000 [02:20<00:01,  7.00graph/s]"
     ]
    },
    {
     "name": "stdout",
     "output_type": "stream",
     "text": [
      "Restricted license - for non-production use only - expires 2026-11-23\n",
      "Set parameter TimeLimit to value 3600\n",
      "Restricted license - for non-production use only - expires 2026-11-23\n",
      "Set parameter TimeLimit to value 3600\n"
     ]
    },
    {
     "name": "stderr",
     "output_type": "stream",
     "text": [
      " 99%|█████████▉| 991/1000 [02:21<00:01,  5.52graph/s]"
     ]
    },
    {
     "name": "stdout",
     "output_type": "stream",
     "text": [
      "Restricted license - for non-production use only - expires 2026-11-23\n",
      "Set parameter TimeLimit to value 3600\n",
      "Restricted license - for non-production use only - expires 2026-11-23\n",
      "Set parameter TimeLimit to value 3600\n"
     ]
    },
    {
     "name": "stderr",
     "output_type": "stream",
     "text": [
      "100%|█████████▉| 995/1000 [02:21<00:00,  7.41graph/s]"
     ]
    },
    {
     "name": "stdout",
     "output_type": "stream",
     "text": [
      "Restricted license - for non-production use only - expires 2026-11-23\n",
      "Set parameter TimeLimit to value 3600\n"
     ]
    },
    {
     "name": "stderr",
     "output_type": "stream",
     "text": [
      "100%|██████████| 1000/1000 [02:22<00:00,  7.03graph/s]\n"
     ]
    }
   ],
   "source": [
    "n, p = 100, .15\n",
    "tt_g = 1000\n",
    "graphs = generate_graphs(range(n, n+1), p, s=tt_g, solver=milp_solve_mds, attrs=['dominable_neighbors'])"
   ],
   "metadata": {
    "collapsed": false
   }
  },
  {
   "cell_type": "code",
   "execution_count": 7,
   "outputs": [
    {
     "data": {
      "text/plain": "DQGN(\n  (layers): ModuleList(\n    (0): GCNConv(2, 64)\n    (1): ReLU(inplace=True)\n    (2): GCNConv(64, 64)\n    (3): ReLU(inplace=True)\n    (4): GCNConv(64, 64)\n    (5): ReLU(inplace=True)\n    (6): GCNConv(64, 64)\n    (7): ReLU(inplace=True)\n    (8): GCNConv(64, 64)\n    (9): ReLU(inplace=True)\n    (10): GCNConv(64, 64)\n    (11): ReLU(inplace=True)\n    (12): GCNConv(64, 64)\n    (13): ReLU(inplace=True)\n    (14): GCNConv(64, 64)\n    (15): ReLU(inplace=True)\n    (16): GCNConv(64, 64)\n    (17): ReLU(inplace=True)\n  )\n  (node_transform): Linear(in_features=64, out_features=64, bias=False)\n  (neig_transform): Linear(in_features=64, out_features=64, bias=False)\n  (aggr_transform): Linear(in_features=128, out_features=1, bias=False)\n  (relu): ReLU(inplace=True)\n  (tanh): Tanh()\n)"
     },
     "execution_count": 7,
     "metadata": {},
     "output_type": "execute_result"
    }
   ],
   "source": [
    "ckp_path = './experiments/2025-01-23-2112/version_0/checkpoints/epoch=1339-step=1340.ckpt'\n",
    "device = torch.device('cpu')\n",
    "checkpoint = torch.load(ckp_path, map_location=device)\n",
    "hyper_parameters = checkpoint['hyper_parameters']\n",
    "\n",
    "state_dict = {k.replace('net.', ''): v for k, v in checkpoint['state_dict'].items() if 'target' not in k}\n",
    "state_dict.pop('loss_module.pos_weight', None)\n",
    "\n",
    "c_in = graphs[0].x.shape[1]\n",
    "gnn = DQGN(c_in=c_in)\n",
    "gnn.load_state_dict(state_dict)\n",
    "gnn.eval()\n",
    "gnn"
   ],
   "metadata": {
    "collapsed": false
   }
  },
  {
   "cell_type": "code",
   "execution_count": 8,
   "outputs": [],
   "source": [
    "agent = Agent(n, p, None, None, None, graphs)"
   ],
   "metadata": {
    "collapsed": false
   }
  },
  {
   "cell_type": "code",
   "execution_count": 9,
   "outputs": [
    {
     "name": "stdout",
     "output_type": "stream",
     "text": [
      "testing agent on mds\n"
     ]
    },
    {
     "name": "stderr",
     "output_type": "stream",
     "text": [
      "100%|██████████| 1000/1000 [02:21<00:00,  7.05graph/s]\n"
     ]
    }
   ],
   "source": [
    "valid_ds = []\n",
    "size_eq_lp = []\n",
    "apx_ratio = []\n",
    "gap = []\n",
    "opt_sizes = []\n",
    "s_sizes = []\n",
    "\n",
    "print(f'testing agent on mds')\n",
    "for g in tqdm(graphs, unit='graph'):\n",
    "    agent.reset(g)\n",
    "    # Perform an episode of actions\n",
    "    for step in range(n):\n",
    "        rwd, done = agent.play_validation_step(gnn, 'cpu')\n",
    "        if done:\n",
    "            break\n",
    "    g.s = {i for i, v in enumerate(agent.state.x[:, 0]) if v == 1}\n",
    "\n",
    "    valid_ds.append(all(v in g.s or len(g.nx[v].keys() & g.s) > 0 for v in g.nx))\n",
    "    len_opt = sum(v for v in g.y)\n",
    "    size_eq_lp.append(len(g.s) <= len_opt)\n",
    "    apx_ratio.append(len(g.s)/len_opt)\n",
    "    gap.append(len_opt/len(g.s))\n",
    "    opt_sizes.append(len_opt)\n",
    "    s_sizes.append(len(g.s))"
   ],
   "metadata": {
    "collapsed": false
   }
  },
  {
   "cell_type": "code",
   "execution_count": 10,
   "outputs": [
    {
     "name": "stdout",
     "output_type": "stream",
     "text": [
      "valid DS      S <= OPT     apx ratio           gap        μ|OPT|          μ|S|\n",
      "  100.0%          0.0%         2.393         0.560           9.1          21.9\n"
     ]
    }
   ],
   "source": [
    "valid_ds = 100*sum(valid_ds)/tt_g\n",
    "size_eq_lp = (100*sum(size_eq_lp)/tt_g).item()\n",
    "apx_ratio = (sum(apx_ratio)/tt_g).item()\n",
    "gap = (1-sum(gap)/tt_g).item()\n",
    "avg_opt_size = (sum(opt_sizes)/tt_g).item()\n",
    "avg_s_size = sum(s_sizes)/tt_g\n",
    "print(f'{\"valid DS\"}{\"S <= OPT\":>14}{\"apx ratio\":>14}{\"gap\":>14}{\"μ|OPT|\":>14}{\"μ|S|\":>14}')\n",
    "print(f'{valid_ds:>7}%{size_eq_lp:>13.1f}%{apx_ratio:>14.3f}{gap:>14.3f}{avg_opt_size:>14.1f}{avg_s_size:>14.1f}')"
   ],
   "metadata": {
    "collapsed": false
   }
  },
  {
   "cell_type": "code",
   "execution_count": 13,
   "outputs": [],
   "source": [
    "g_gen = (g for g in graphs if len(g.s) > len([i for i in g.y if i]))"
   ],
   "metadata": {
    "collapsed": false
   }
  },
  {
   "cell_type": "code",
   "execution_count": 19,
   "outputs": [
    {
     "name": "stdout",
     "output_type": "stream",
     "text": [
      "g.s={0, 12, 13, 20, 21, 24, 33, 46, 50, 53, 54, 61, 63, 72, 75, 80, 83, 89, 95} y={72, 46, 80, 49, 53, 54, 89, 61, 63}\n"
     ]
    },
    {
     "data": {
      "text/plain": "<Figure size 640x480 with 1 Axes>",
      "image/png": "[encoded data removed]"
     },
     "metadata": {},
     "output_type": "display_data"
    }
   ],
   "source": [
    "g = next(g_gen)\n",
    "g_n = g.nx\n",
    "\n",
    "try:\n",
    "    layout = nx.planar_layout(g_n)\n",
    "except:\n",
    "    layout = nx.drawing.spring_layout(g_n)\n",
    "\n",
    "node_colors = ['blue' if n in g.s else 'gray' for n in g.nx]\n",
    "nx.draw(g_n, with_labels=True, node_color=node_colors, pos=layout)\n",
    "y = {i for i, v in enumerate(g.y) if v}\n",
    "print(f'{g.s=} {y=}')"
   ],
   "metadata": {
    "collapsed": false
   }
  },
  {
   "cell_type": "code",
   "execution_count": 20,
   "outputs": [
    {
     "data": {
      "text/plain": "True"
     },
     "execution_count": 20,
     "metadata": {},
     "output_type": "execute_result"
    }
   ],
   "source": [
    "from graph import is_ds\n",
    "is_ds(g.nx, y)"
   ],
   "metadata": {
    "collapsed": false
   }
  },
  {
   "cell_type": "code",
   "execution_count": 21,
   "outputs": [
    {
     "ename": "TypeError",
     "evalue": "forward() missing 1 required positional argument: 'nb_batch'",
     "output_type": "error",
     "traceback": [
      "\u001B[0;31m---------------------------------------------------------------------------\u001B[0m",
      "\u001B[0;31mTypeError\u001B[0m                                 Traceback (most recent call last)",
      "Cell \u001B[0;32mIn[21], line 2\u001B[0m\n\u001B[1;32m      1\u001B[0m edge_index, node_feats \u001B[38;5;241m=\u001B[39m g\u001B[38;5;241m.\u001B[39medge_index, torch\u001B[38;5;241m.\u001B[39mFloatTensor([[\u001B[38;5;241m0\u001B[39m]] \u001B[38;5;241m*\u001B[39m n)\n\u001B[0;32m----> 2\u001B[0m q_values \u001B[38;5;241m=\u001B[39m \u001B[43mgnn\u001B[49m\u001B[43m(\u001B[49m\u001B[43mnode_feats\u001B[49m\u001B[43m,\u001B[49m\u001B[43m \u001B[49m\u001B[43medge_index\u001B[49m\u001B[43m)\u001B[49m\u001B[38;5;241m.\u001B[39msqueeze()\u001B[38;5;241m.\u001B[39mtolist()\n\u001B[1;32m      3\u001B[0m \u001B[38;5;28msorted\u001B[39m(\u001B[38;5;28menumerate\u001B[39m(q_values), key\u001B[38;5;241m=\u001B[39m\u001B[38;5;28;01mlambda\u001B[39;00m qv: qv[\u001B[38;5;241m1\u001B[39m], reverse\u001B[38;5;241m=\u001B[39m\u001B[38;5;28;01mTrue\u001B[39;00m)\n",
      "File \u001B[0;32m~/Documents/UFF/mestrado/2o Sem/EO/gnn-co/venv/lib/python3.9/site-packages/torch/nn/modules/module.py:1130\u001B[0m, in \u001B[0;36mModule._call_impl\u001B[0;34m(self, *input, **kwargs)\u001B[0m\n\u001B[1;32m   1126\u001B[0m \u001B[38;5;66;03m# If we don't have any hooks, we want to skip the rest of the logic in\u001B[39;00m\n\u001B[1;32m   1127\u001B[0m \u001B[38;5;66;03m# this function, and just call forward.\u001B[39;00m\n\u001B[1;32m   1128\u001B[0m \u001B[38;5;28;01mif\u001B[39;00m \u001B[38;5;129;01mnot\u001B[39;00m (\u001B[38;5;28mself\u001B[39m\u001B[38;5;241m.\u001B[39m_backward_hooks \u001B[38;5;129;01mor\u001B[39;00m \u001B[38;5;28mself\u001B[39m\u001B[38;5;241m.\u001B[39m_forward_hooks \u001B[38;5;129;01mor\u001B[39;00m \u001B[38;5;28mself\u001B[39m\u001B[38;5;241m.\u001B[39m_forward_pre_hooks \u001B[38;5;129;01mor\u001B[39;00m _global_backward_hooks\n\u001B[1;32m   1129\u001B[0m         \u001B[38;5;129;01mor\u001B[39;00m _global_forward_hooks \u001B[38;5;129;01mor\u001B[39;00m _global_forward_pre_hooks):\n\u001B[0;32m-> 1130\u001B[0m     \u001B[38;5;28;01mreturn\u001B[39;00m \u001B[43mforward_call\u001B[49m\u001B[43m(\u001B[49m\u001B[38;5;241;43m*\u001B[39;49m\u001B[38;5;28;43minput\u001B[39;49m\u001B[43m,\u001B[49m\u001B[43m \u001B[49m\u001B[38;5;241;43m*\u001B[39;49m\u001B[38;5;241;43m*\u001B[39;49m\u001B[43mkwargs\u001B[49m\u001B[43m)\u001B[49m\n\u001B[1;32m   1131\u001B[0m \u001B[38;5;66;03m# Do not call functions when jit is used\u001B[39;00m\n\u001B[1;32m   1132\u001B[0m full_backward_hooks, non_full_backward_hooks \u001B[38;5;241m=\u001B[39m [], []\n",
      "\u001B[0;31mTypeError\u001B[0m: forward() missing 1 required positional argument: 'nb_batch'"
     ]
    }
   ],
   "source": [
    "edge_index, node_feats = g.edge_index, torch.FloatTensor([[0]] * n)\n",
    "q_values = gnn(node_feats, edge_index).squeeze().tolist()\n",
    "sorted(enumerate(q_values), key=lambda qv: qv[1], reverse=True)"
   ],
   "metadata": {
    "collapsed": false
   }
  },
  {
   "cell_type": "code",
   "execution_count": null,
   "outputs": [],
   "source": [
    "edge_index, node_feats = g.edge_index, torch.FloatTensor([[1], [0], [1], [1], [0], [0], [0], [0], [0], [0]])\n",
    "q_values = gnn(node_feats, edge_index).squeeze().tolist()\n",
    "sorted(enumerate(q_values), key=lambda qv: qv[1], reverse=True)"
   ],
   "metadata": {
    "collapsed": false
   }
  },
  {
   "cell_type": "code",
   "execution_count": null,
   "outputs": [],
   "source": [],
   "metadata": {
    "collapsed": false
   }
  }
 ],
 "metadata": {
  "kernelspec": {
   "display_name": "Python 3",
   "language": "python",
   "name": "python3"
  },
  "language_info": {
   "codemirror_mode": {
    "name": "ipython",
    "version": 2
   },
   "file_extension": ".py",
   "mimetype": "text/x-python",
   "name": "python",
   "nbconvert_exporter": "python",
   "pygments_lexer": "ipython2",
   "version": "2.7.6"
  }
 },
 "nbformat": 4,
 "nbformat_minor": 0
}
