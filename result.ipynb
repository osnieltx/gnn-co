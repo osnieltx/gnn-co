{
 "cells": [
  {
   "cell_type": "code",
   "execution_count": 41,
   "metadata": {},
   "outputs": [],
   "source": [
    "import torch\n",
    "\n",
    "from models import GNNModel"
   ]
  },
  {
   "cell_type": "code",
   "execution_count": 42,
   "metadata": {
    "collapsed": false,
    "jupyter": {
     "outputs_hidden": false
    }
   },
   "outputs": [],
   "source": [
    "ckp_path = './experiments/2024-05-30 1732/0/checkpoints/epoch=191-step=1535999.ckpt'\n",
    "checkpoint = torch.load(ckp_path, map_location=torch.device('cpu'))\n",
    "hyper_parameters = checkpoint['hyper_parameters']"
   ]
  },
  {
   "cell_type": "code",
   "execution_count": 43,
   "metadata": {
    "collapsed": false,
    "jupyter": {
     "outputs_hidden": false
    }
   },
   "outputs": [
    {
     "data": {
      "text/plain": "<All keys matched successfully>"
     },
     "execution_count": 43,
     "metadata": {},
     "output_type": "execute_result"
    }
   ],
   "source": [
    "from models import NodeLevelGNN\n",
    "\n",
    "state_dict = {}\n",
    "for k, v in checkpoint['state_dict'].items():\n",
    "    k = k.replace('.weight', '.lin.weight')\n",
    "    if 'output_layers' in k:\n",
    "        v = v.T\n",
    "    if k == 'model.layers.0.lin.weight':\n",
    "        v = v.T\n",
    "    state_dict[k] = v\n",
    "model = NodeLevelGNN(c_in=hyper_parameters['c_in'], c_hidden=30, c_out=hyper_parameters['c_out'], num_layers=20, m=8)\n",
    "model.load_state_dict(state_dict)"
   ]
  },
  {
   "cell_type": "code",
   "execution_count": 44,
   "metadata": {
    "collapsed": false,
    "jupyter": {
     "outputs_hidden": false
    }
   },
   "outputs": [],
   "source": [
    "from random import randint\n",
    "from pyg import torch_geometric\n",
    "\n",
    "p = .15\n",
    "\n",
    "def get_lonely_vertex(g, n):\n",
    "    degress = [0] * n\n",
    "    for v in g[0]:\n",
    "        degress[v] += 1\n",
    "\n",
    "    try:\n",
    "        return degress.index(0)\n",
    "    except ValueError:\n",
    "        return None\n",
    "\n",
    "\n",
    "def create_graph(n):\n",
    "    ei = torch_geometric.utils.erdos_renyi_graph(n, p)\n",
    "\n",
    "    while True:\n",
    "        v = get_lonely_vertex(ei, n)\n",
    "        if not v:\n",
    "            break\n",
    "\n",
    "        u = randint(0, n-1)\n",
    "        if u == v:\n",
    "            continue\n",
    "        new_edge = torch.tensor([[v, u], [u, v]])\n",
    "        ei = torch.cat((ei, new_edge), 1)\n",
    "\n",
    "    return ei"
   ]
  },
  {
   "cell_type": "code",
   "execution_count": 80,
   "metadata": {
    "collapsed": false,
    "jupyter": {
     "outputs_hidden": false
    }
   },
   "outputs": [],
   "source": [
    "g = create_graph(10)\n",
    "edge_list = [(int(a), int(b)) for a, b in g.T]"
   ]
  },
  {
   "cell_type": "code",
   "execution_count": 81,
   "metadata": {
    "collapsed": false,
    "jupyter": {
     "outputs_hidden": false
    }
   },
   "outputs": [
    {
     "data": {
      "text/plain": "<networkx.classes.graph.Graph at 0x30ec519a0>"
     },
     "execution_count": 81,
     "metadata": {},
     "output_type": "execute_result"
    }
   ],
   "source": [
    "import networkx as nx\n",
    "\n",
    "g_n = nx.from_edgelist(edge_list)\n",
    "g_n"
   ]
  },
  {
   "cell_type": "code",
   "execution_count": 82,
   "metadata": {
    "collapsed": false,
    "jupyter": {
     "outputs_hidden": false
    }
   },
   "outputs": [
    {
     "data": {
      "text/plain": "<Figure size 640x480 with 1 Axes>",
      "image/png": "[encoded data removed]"
     },
     "metadata": {},
     "output_type": "display_data"
    }
   ],
   "source": [
    "nx.draw(g_n, with_labels=True)"
   ]
  },
  {
   "cell_type": "code",
   "execution_count": 83,
   "metadata": {},
   "outputs": [
    {
     "data": {
      "text/plain": "tensor([[[-2.9447e+01],\n         [-2.8086e+01],\n         [-2.8048e+01],\n         [-2.5723e+01],\n         [-2.9447e+01],\n         [-2.4552e+01],\n         [-2.8048e+01],\n         [-2.9447e+01],\n         [-2.7110e+01],\n         [-2.8086e+01]],\n\n        [[-1.3269e+01],\n         [-1.0356e+01],\n         [-9.1426e+00],\n         [-5.9141e+00],\n         [-1.3269e+01],\n         [-4.8373e+00],\n         [-9.1426e+00],\n         [-1.3269e+01],\n         [-1.0968e+01],\n         [-1.0356e+01]],\n\n        [[ 1.9986e+00],\n         [ 7.5593e-03],\n         [-8.2232e-01],\n         [-2.6690e+00],\n         [ 1.9986e+00],\n         [-2.8684e+00],\n         [-8.2232e-01],\n         [ 1.9986e+00],\n         [ 9.3752e-01],\n         [ 7.5593e-03]],\n\n        [[-9.0090e-01],\n         [-9.6189e-01],\n         [-8.4002e-01],\n         [-1.0994e+00],\n         [-9.0090e-01],\n         [-1.2203e+00],\n         [-8.4002e-01],\n         [-9.0090e-01],\n         [-1.2751e+00],\n         [-9.6189e-01]],\n\n        [[-5.5212e+00],\n         [-5.7262e+00],\n         [-5.7327e+00],\n         [-6.1273e+00],\n         [-5.5212e+00],\n         [-6.3430e+00],\n         [-5.7327e+00],\n         [-5.5212e+00],\n         [-5.8958e+00],\n         [-5.7262e+00]],\n\n        [[-1.3561e+01],\n         [-1.3238e+01],\n         [-1.2685e+01],\n         [-1.3437e+01],\n         [-1.3561e+01],\n         [-1.4473e+01],\n         [-1.2685e+01],\n         [-1.3561e+01],\n         [-1.4986e+01],\n         [-1.3238e+01]],\n\n        [[ 2.3013e+00],\n         [ 4.4921e+00],\n         [ 4.3306e+00],\n         [ 8.2269e+00],\n         [ 2.3013e+00],\n         [ 1.0044e+01],\n         [ 4.3306e+00],\n         [ 2.3013e+00],\n         [ 6.4007e+00],\n         [ 4.4921e+00]],\n\n        [[-1.3121e+01],\n         [-9.4923e+00],\n         [-9.5375e+00],\n         [-3.5150e+00],\n         [-1.3121e+01],\n         [-8.6032e-01],\n         [-9.5375e+00],\n         [-1.3121e+01],\n         [-6.9889e+00],\n         [-9.4923e+00]]], grad_fn=<StackBackward0>)"
     },
     "execution_count": 83,
     "metadata": {},
     "output_type": "execute_result"
    }
   ],
   "source": [
    "from pyg import geom_data\n",
    "x = torch.Tensor([[1.]] * 10)\n",
    "tg = geom_data.Data(x=x, edge_index=g)\n",
    "\n",
    "model.model.eval()\n",
    "results = model.model.forward(x, g)\n",
    "results"
   ]
  },
  {
   "cell_type": "code",
   "execution_count": 84,
   "outputs": [
    {
     "data": {
      "text/plain": "tensor([[[0.],\n         [0.],\n         [0.],\n         [0.],\n         [0.],\n         [0.],\n         [0.],\n         [0.],\n         [0.],\n         [0.]],\n\n        [[0.],\n         [0.],\n         [0.],\n         [0.],\n         [0.],\n         [0.],\n         [0.],\n         [0.],\n         [0.],\n         [0.]],\n\n        [[1.],\n         [1.],\n         [0.],\n         [0.],\n         [1.],\n         [0.],\n         [0.],\n         [1.],\n         [1.],\n         [1.]],\n\n        [[0.],\n         [0.],\n         [0.],\n         [0.],\n         [0.],\n         [0.],\n         [0.],\n         [0.],\n         [0.],\n         [0.]],\n\n        [[0.],\n         [0.],\n         [0.],\n         [0.],\n         [0.],\n         [0.],\n         [0.],\n         [0.],\n         [0.],\n         [0.]],\n\n        [[0.],\n         [0.],\n         [0.],\n         [0.],\n         [0.],\n         [0.],\n         [0.],\n         [0.],\n         [0.],\n         [0.]],\n\n        [[1.],\n         [1.],\n         [1.],\n         [1.],\n         [1.],\n         [1.],\n         [1.],\n         [1.],\n         [1.],\n         [1.]],\n\n        [[0.],\n         [0.],\n         [0.],\n         [0.],\n         [0.],\n         [0.],\n         [0.],\n         [0.],\n         [0.],\n         [0.]]])"
     },
     "execution_count": 84,
     "metadata": {},
     "output_type": "execute_result"
    }
   ],
   "source": [
    "maps = (torch.sigmoid(results) > .5).float()\n",
    "maps"
   ],
   "metadata": {
    "collapsed": false
   }
  },
  {
   "cell_type": "code",
   "execution_count": null,
   "outputs": [],
   "source": [],
   "metadata": {
    "collapsed": false
   }
  },
  {
   "cell_type": "code",
   "execution_count": 88,
   "outputs": [
    {
     "data": {
      "text/plain": "tensor(1.)"
     },
     "execution_count": 88,
     "metadata": {},
     "output_type": "execute_result"
    }
   ],
   "source": [
    "y = torch.Tensor([0, 0, 0, 1, 0, 1, 0, 0, 1, 0])\n",
    "acc = (maps == y).sum(dim=1).float() / y.size(dim=0)\n",
    "acc = acc.max()\n",
    "acc"
   ],
   "metadata": {
    "collapsed": false
   }
  },
  {
   "cell_type": "code",
   "execution_count": 101,
   "outputs": [
    {
     "name": "stdout",
     "output_type": "stream",
     "text": [
      "tensor([ True,  True,  True, False,  True, False,  True,  True, False,  True])\n",
      "tensor([ True,  True,  True, False,  True, False,  True,  True, False,  True])\n",
      "tensor([False, False, False,  True, False,  True, False, False,  True, False])\n",
      "tensor([ True,  True,  True, False,  True, False,  True,  True, False,  True])\n",
      "tensor([ True,  True,  True, False,  True, False,  True,  True, False,  True])\n",
      "tensor([ True,  True,  True, False,  True, False,  True,  True, False,  True])\n",
      "tensor([False, False, False,  True, False,  True, False, False,  True, False])\n",
      "tensor([ True,  True,  True, False,  True, False,  True,  True, False,  True])\n"
     ]
    }
   ],
   "source": [
    "for i in range(8):\n",
    "    print(maps[i][0] == y)"
   ],
   "metadata": {
    "collapsed": false
   }
  }
 ],
 "metadata": {
  "kernelspec": {
   "display_name": "Python 3 (ipykernel)",
   "language": "python",
   "name": "python3"
  },
  "language_info": {
   "codemirror_mode": {
    "name": "ipython",
    "version": 3
   },
   "file_extension": ".py",
   "mimetype": "text/x-python",
   "name": "python",
   "nbconvert_exporter": "python",
   "pygments_lexer": "ipython3",
   "version": "3.9.13"
  }
 },
 "nbformat": 4,
 "nbformat_minor": 4
}
