{
 "cells": [
  {
   "cell_type": "code",
   "execution_count": 1,
   "metadata": {},
   "outputs": [],
   "source": [
    "from collections.abc import Iterable\n",
    "from copy import deepcopy\n",
    "from random import randint\n",
    "from typing import List\n",
    "\n",
    "import matplotlib.pyplot as plt\n",
    "import networkx as nx\n",
    "import torch\n",
    "from tqdm.notebook import trange\n",
    "\n",
    "from graph import create_graph, milp_solve, milp_solve_mds, mdsi\n",
    "from pyg import geom_data"
   ]
  },
  {
   "cell_type": "code",
   "execution_count": 2,
   "metadata": {
    "collapsed": false,
    "jupyter": {
     "outputs_hidden": false
    }
   },
   "outputs": [],
   "source": [
    "ckp_path = './experiments/2024-06-14 1749/0/checkpoints/epoch=299-step=2399999.ckpt'\n",
    "checkpoint = torch.load(ckp_path, map_location=torch.device('cpu'))\n",
    "hyper_parameters = checkpoint['hyper_parameters']\n",
    "\n",
    "solver = milp_solve_mds\n",
    "indexer = mdsi"
   ]
  },
  {
   "cell_type": "code",
   "execution_count": 3,
   "metadata": {
    "collapsed": false,
    "jupyter": {
     "outputs_hidden": false
    }
   },
   "outputs": [
    {
     "name": "stderr",
     "output_type": "stream",
     "text": [
      "/var/folders/dr/3ns44tr91gn7qcy2c60qjd0h0000gn/T/ipykernel_23010/637522613.py:7: UserWarning: The use of `x.T` on tensors of dimension other than 2 to reverse their shape is deprecated and it will throw an error in a future release. Consider `x.mT` to transpose batches of matrices or `x.permute(*torch.arange(x.ndim - 1, -1, -1))` to reverse the dimensions of a tensor. (Triggered internally at /Users/runner/work/pytorch/pytorch/pytorch/aten/src/ATen/native/TensorShape.cpp:3679.)\n",
      "  v = v.T\n"
     ]
    },
    {
     "data": {
      "text/plain": "GNNModel(\n  (layers): ModuleList(\n    (0): GCNConv(1, 30)\n    (1): ReLU(inplace=True)\n    (2): Dropout(p=0.1, inplace=False)\n    (3): GCNConv(30, 30)\n    (4): ReLU(inplace=True)\n    (5): Dropout(p=0.1, inplace=False)\n    (6): GCNConv(30, 30)\n    (7): ReLU(inplace=True)\n    (8): Dropout(p=0.1, inplace=False)\n    (9): GCNConv(30, 30)\n    (10): ReLU(inplace=True)\n    (11): Dropout(p=0.1, inplace=False)\n    (12): GCNConv(30, 30)\n    (13): ReLU(inplace=True)\n    (14): Dropout(p=0.1, inplace=False)\n    (15): GCNConv(30, 30)\n    (16): ReLU(inplace=True)\n    (17): Dropout(p=0.1, inplace=False)\n    (18): GCNConv(30, 30)\n    (19): ReLU(inplace=True)\n    (20): Dropout(p=0.1, inplace=False)\n    (21): GCNConv(30, 30)\n    (22): ReLU(inplace=True)\n    (23): Dropout(p=0.1, inplace=False)\n    (24): GCNConv(30, 30)\n    (25): ReLU(inplace=True)\n    (26): Dropout(p=0.1, inplace=False)\n    (27): GCNConv(30, 30)\n    (28): ReLU(inplace=True)\n    (29): Dropout(p=0.1, inplace=False)\n    (30): GCNConv(30, 30)\n    (31): ReLU(inplace=True)\n    (32): Dropout(p=0.1, inplace=False)\n    (33): GCNConv(30, 30)\n    (34): ReLU(inplace=True)\n    (35): Dropout(p=0.1, inplace=False)\n    (36): GCNConv(30, 30)\n    (37): ReLU(inplace=True)\n    (38): Dropout(p=0.1, inplace=False)\n    (39): GCNConv(30, 30)\n    (40): ReLU(inplace=True)\n    (41): Dropout(p=0.1, inplace=False)\n    (42): GCNConv(30, 30)\n    (43): ReLU(inplace=True)\n    (44): Dropout(p=0.1, inplace=False)\n    (45): GCNConv(30, 30)\n    (46): ReLU(inplace=True)\n    (47): Dropout(p=0.1, inplace=False)\n    (48): GCNConv(30, 30)\n    (49): ReLU(inplace=True)\n    (50): Dropout(p=0.1, inplace=False)\n    (51): GCNConv(30, 30)\n    (52): ReLU(inplace=True)\n    (53): Dropout(p=0.1, inplace=False)\n    (54): GCNConv(30, 30)\n    (55): ReLU(inplace=True)\n    (56): Dropout(p=0.1, inplace=False)\n  )\n  (output_layers): ModuleList(\n    (0-15): 16 x GCNConv(30, 1)\n  )\n)"
     },
     "execution_count": 3,
     "metadata": {},
     "output_type": "execute_result"
    }
   ],
   "source": [
    "from models import GNNModel\n",
    "\n",
    "state_dict = {}\n",
    "for k, v in checkpoint['state_dict'].items():\n",
    "    k = k.replace('.weight', '.lin.weight').replace('model.', '')\n",
    "    if 'output_layers' in k:\n",
    "        v = v.T\n",
    "    if k == 'layers.0.lin.weight':\n",
    "        v = v.T\n",
    "    state_dict[k] = v\n",
    "\n",
    "gnn = GNNModel(c_in=hyper_parameters['c_in'], c_hidden=30, c_out=hyper_parameters['c_out'], num_layers=hyper_parameters['num_layers'], m=hyper_parameters['m'])\n",
    "gnn.load_state_dict(state_dict)\n",
    "gnn.eval()\n",
    "gnn"
   ]
  },
  {
   "cell_type": "code",
   "execution_count": 4,
   "metadata": {
    "collapsed": false,
    "jupyter": {
     "outputs_hidden": false
    }
   },
   "outputs": [],
   "source": [
    "n, p = 10, .15\n",
    "g = create_graph(n, p)\n",
    "# g = torch.tensor([[0, 1, 2, 3], [1, 2, 3, 4]])\n",
    "edge_list = [(int(a), int(b)) for a, b in g.T]\n",
    "\n",
    "g_n = nx.from_edgelist(edge_list)\n",
    "idx_t = torch.Tensor([[i] for i in range(n)])\n",
    "x = torch.Tensor([[1.]]*n)\n",
    "x = torch.stack([idx_t, x], dim=1)\n",
    "tg = geom_data.Data(x=x, edge_index=g)\n",
    "g_n = nx.from_edgelist(edge_list)\n",
    "g_n.x = x\n",
    "g_n.edge_list = g"
   ]
  },
  {
   "cell_type": "code",
   "execution_count": 5,
   "outputs": [],
   "source": [
    "def forward(gnn, g: nx.Graph):\n",
    "    \"\"\"\n",
    "    return\n",
    "     - prob_maps: lists of sorted vertices by prob\n",
    "     - maps: truncated maps\n",
    "     - id_better_solution\n",
    "    \"\"\"\n",
    "    prob_maps = gnn.forward(g.x[:, 1], g.edge_list)\n",
    "    maps = (torch.sigmoid(prob_maps) > .5).float()\n",
    "\n",
    "    cov_size, uncovered_nodes, best_sol_id = mdsi(maps, g.edge_list)\n",
    "\n",
    "    prob_maps = prob_maps.squeeze(2).tolist()\n",
    "    sorted_prob_maps = []\n",
    "    for pb_m in prob_maps:\n",
    "        prob = list(enumerate(pb_m))\n",
    "        prob.sort(key=lambda x: x[1], reverse=True)\n",
    "        sorted_prob_maps.append(prob)\n",
    "\n",
    "    return sorted_prob_maps, maps, best_sol_id\n"
   ],
   "metadata": {
    "collapsed": false
   }
  },
  {
   "cell_type": "code",
   "execution_count": 6,
   "outputs": [
    {
     "name": "stdout",
     "output_type": "stream",
     "text": [
      "mvc={0, 1, 2, 8}\n"
     ]
    }
   ],
   "source": [
    "mvc = solver(g, n)\n",
    "y = torch.FloatTensor([[n in mvc] for n in range(n)])\n",
    "print(f'{mvc=}')\n",
    "\n",
    "sorted_prob_maps, maps, id_min_mvci = forward(gnn, g_n)"
   ],
   "metadata": {
    "collapsed": false
   }
  },
  {
   "cell_type": "code",
   "execution_count": 7,
   "outputs": [
    {
     "name": "stdout",
     "output_type": "stream",
     "text": [
      "acc=0.60\n",
      "aon=0.0\n",
      "min_mvc=6.0 \n",
      "cov_size_dif[idx]=tensor([6.]) \n",
      "uncovered_edges[idx]=tensor([0.])\n"
     ]
    }
   ],
   "source": [
    "acc = ((maps == y).sum(dim=1) / y.size(dim=0)).max().item()\n",
    "aon = (maps == y).all(dim=1).sum().float().item()\n",
    "\n",
    "a, b = 1, 1\n",
    "cov_size_dif = (maps.sum(dim=1) - y.sum())\n",
    "uncovered_edges = torch.sum(\n",
    "    ~(maps[:, g[0]].logical_or(maps[:, g[1]])),\n",
    "    dim=1\n",
    ") / 2\n",
    "mvc_scores = (a * cov_size_dif.abs() + b * uncovered_edges)\n",
    "idx, min_mvc = mvc_scores.argmin().item(), mvc_scores.min().item()\n",
    "\n",
    "print(f'{acc=:.2f}\\n{aon=}\\n{min_mvc=} \\n{cov_size_dif[idx]=} \\n{uncovered_edges[idx]=}')"
   ],
   "metadata": {
    "collapsed": false
   }
  },
  {
   "cell_type": "code",
   "execution_count": 8,
   "outputs": [
    {
     "ename": "TypeError",
     "evalue": "mvc_simple() takes 2 positional arguments but 3 were given",
     "output_type": "error",
     "traceback": [
      "\u001B[0;31m---------------------------------------------------------------------------\u001B[0m",
      "\u001B[0;31mTypeError\u001B[0m                                 Traceback (most recent call last)",
      "Cell \u001B[0;32mIn[8], line 21\u001B[0m\n\u001B[1;32m     18\u001B[0m             g_\u001B[38;5;241m.\u001B[39mremove_node(v)\n\u001B[1;32m     19\u001B[0m     \u001B[38;5;28;01mreturn\u001B[39;00m s\n\u001B[0;32m---> 21\u001B[0m s \u001B[38;5;241m=\u001B[39m \u001B[43mmvc_simple\u001B[49m\u001B[43m(\u001B[49m\u001B[43mgnn\u001B[49m\u001B[43m,\u001B[49m\u001B[43m \u001B[49m\u001B[43mg_n\u001B[49m\u001B[43m,\u001B[49m\u001B[43m \u001B[49m\u001B[43my\u001B[49m\u001B[43m)\u001B[49m\n\u001B[1;32m     22\u001B[0m s, \u001B[38;5;28mlen\u001B[39m(s) \u001B[38;5;241m==\u001B[39m \u001B[38;5;28mlen\u001B[39m(mvc), \u001B[38;5;28mall\u001B[39m(u\u001B[38;5;241m.\u001B[39mitem() \u001B[38;5;129;01min\u001B[39;00m s \u001B[38;5;129;01mor\u001B[39;00m v\u001B[38;5;241m.\u001B[39mitem() \u001B[38;5;129;01min\u001B[39;00m s \u001B[38;5;28;01mfor\u001B[39;00m u, v \u001B[38;5;129;01min\u001B[39;00m g\u001B[38;5;241m.\u001B[39mT)\n",
      "\u001B[0;31mTypeError\u001B[0m: mvc_simple() takes 2 positional arguments but 3 were given"
     ]
    }
   ],
   "source": [
    "def mvc_simple(gnn: GNNModel, g: nx.Graph) -> set:\n",
    "    g_ = deepcopy(g)\n",
    "    sorted_prob_maps, _, id_min_mvci = forward(gnn, g_)\n",
    "    s = set()\n",
    "    while g_.edges:\n",
    "        n_s = set()\n",
    "        for v, _ in sorted_prob_maps[id_min_mvci]:\n",
    "            if v in s | n_s or v not in g_:\n",
    "                continue\n",
    "\n",
    "            s.add(v)\n",
    "            for u in list(g_[v]):\n",
    "                n_s.add(u)\n",
    "                # preventing lonely node after v removed\n",
    "                if len(g_[u]) == 1:\n",
    "                    g_.remove_node(u)\n",
    "\n",
    "            g_.remove_node(v)\n",
    "    return s\n",
    "\n",
    "s = mvc_simple(gnn, g_n, y)\n",
    "s, len(s) == len(mvc), all(u.item() in s or v.item() in s for u, v in g.T)"
   ],
   "metadata": {
    "collapsed": false
   }
  },
  {
   "cell_type": "code",
   "execution_count": null,
   "outputs": [],
   "source": [],
   "metadata": {
    "collapsed": false
   }
  },
  {
   "cell_type": "code",
   "execution_count": null,
   "outputs": [],
   "source": [
    "plt.ioff()\n",
    "\n",
    "layout = None\n",
    "try:\n",
    "    layout = nx.planar_layout(g_n)\n",
    "except:\n",
    "    pass\n",
    "\n",
    "fig, axes = plt.subplots(ncols=3, figsize=(18, 8))\n",
    "\n",
    "node_colors = ['blue' if n in mvc else 'gray' for n in g_n]\n",
    "nx.draw(g_n, with_labels=True, node_color=node_colors, pos=layout, ax=axes[0])\n",
    "\n",
    "mvc_color = ['blue' if v else 'gray' for v in maps[id_min_mvci].squeeze()]\n",
    "node_colors = [mvc_color[n] for n in g_n]\n",
    "nx.draw(g_n, with_labels=True, node_color=node_colors, pos=layout, ax=axes[1])\n",
    "\n",
    "mvc_color = ['blue' if v in s else 'gray' for v in range(n)]\n",
    "node_colors = [mvc_color[n] for n in g_n]\n",
    "probs = torch.sigmoid(torch.tensor([p for idx, p in sorted_prob_maps[id_min_mvci]])).tolist()\n",
    "label_dict = {n: f'{v*100:.0f}' for (n, _), v in zip(sorted_prob_maps[id_min_mvci], probs)}\n",
    "nx.draw(g_n, with_labels=True, node_color=node_colors, pos=layout, ax=axes[2], labels=label_dict)\n",
    "\n",
    "for i, t in enumerate(['PLI', 'GNN', 'GNN + ref']):\n",
    "    axes[i].set_title(t)\n",
    "\n",
    "plt.show()"
   ],
   "metadata": {
    "collapsed": false
   }
  },
  {
   "cell_type": "code",
   "execution_count": null,
   "outputs": [],
   "source": [
    "# raise KeyError"
   ],
   "metadata": {
    "collapsed": false
   }
  },
  {
   "cell_type": "markdown",
   "source": [
    "## Correct output distribution"
   ],
   "metadata": {
    "collapsed": false
   }
  },
  {
   "cell_type": "code",
   "execution_count": null,
   "outputs": [],
   "source": [
    "tt_g = 1000\n",
    "l = torch.nn.BCEWithLogitsLoss()\n",
    "m = hyper_parameters['m']\n",
    "x = torch.Tensor([[1.]] * n)\n",
    "\n",
    "results = [0] * m\n",
    "r_l = [0] * m\n",
    "gnn_ref_ltq_mvc = [False] * tt_g\n",
    "gnn_ref_cv = [False] * tt_g  # if the solution is a vertex cover\n",
    "\n",
    "for i in trange(tt_g):\n",
    "    g = create_graph(n, p)\n",
    "    edge_list = [(int(a), int(b)) for a, b in g.T]\n",
    "    x = torch.Tensor([[1.]]*n)\n",
    "    g_n = nx.from_edgelist(edge_list)\n",
    "    g_n.x = x\n",
    "    g_n.edge_list = g\n",
    "\n",
    "    mvc = solver(g, n)\n",
    "    y = torch.FloatTensor([[n in mvc] for n in range(n)])\n",
    "\n",
    "    prob_maps = gnn.forward(x, g)\n",
    "    losses = [l(pb, y) for pb in prob_maps]\n",
    "    r_l_idx = min(range(m), key=lambda x: losses[x])\n",
    "    r_l[r_l_idx] += 1\n",
    "    maps = (torch.sigmoid(prob_maps) > .5).float()\n",
    "\n",
    "    a, b = 1, 1\n",
    "    cov_size_dif = (maps.sum(dim=1) - y.sum()).abs()\n",
    "    uncovered_edges = torch.sum(\n",
    "        ~(maps[:, g[0]].logical_or(maps[:, g[1]])),\n",
    "        dim=1\n",
    "    )\n",
    "    mvc_scores = (a * cov_size_dif + b * uncovered_edges)\n",
    "    idx = mvc_scores.argmin()\n",
    "    results[idx] += 1\n",
    "\n",
    "    idx_t = torch.Tensor([[i] for i in range(n)])\n",
    "    x = torch.Tensor([[1.]]*n)\n",
    "    x = torch.stack([idx_t, x], dim=1)\n",
    "    g_n.x = x\n",
    "    s = mvc_simple(gnn, g_n, y)\n",
    "    gnn_ref_ltq_mvc[i] = len(s) <= len(mvc)\n",
    "\n",
    "    gnn_ref_cv[i] = all(u in s or v in s for u, v in edge_list)\n",
    "\n",
    "results"
   ],
   "metadata": {
    "collapsed": false
   }
  },
  {
   "cell_type": "code",
   "execution_count": null,
   "outputs": [],
   "source": [
    "import pandas as pd\n",
    "fig.clear()\n",
    "pd.DataFrame({'mvc': [r/10 for r in results], 'loss': [r/10 for r in r_l]}).plot()\n",
    "plt.show()"
   ],
   "metadata": {
    "collapsed": false
   }
  },
  {
   "cell_type": "code",
   "execution_count": null,
   "outputs": [],
   "source": [
    "sum(gnn_ref_ltq_mvc)/tt_g, sum(gnn_ref_cv)/tt_g"
   ],
   "metadata": {
    "collapsed": false
   }
  },
  {
   "cell_type": "markdown",
   "source": [
    "## Recursive MVC"
   ],
   "metadata": {
    "collapsed": false
   }
  },
  {
   "cell_type": "code",
   "execution_count": null,
   "outputs": [],
   "source": [
    "def tensor_pop(t, ids):\n",
    "    if not isinstance(ids, Iterable):\n",
    "        ids = [ids]\n",
    "\n",
    "    index = t[:,0, 0]\n",
    "    mask = torch.tensor([i in ids for i in index])\n",
    "    t[mask, 1, 0] = 0\n",
    "\n",
    "    return t\n",
    "\n",
    "def ei_remove_node(edge_index, node):\n",
    "    mask = (edge_index[0] != node) & (edge_index[1] != node)\n",
    "    new_edge_index = edge_index[:, mask]\n",
    "    return new_edge_index\n",
    "\n",
    "def remove_node(g: nx.Graph, n: int):\n",
    "    g.remove_node(n)\n",
    "    g.x = tensor_pop(g.x, n)\n",
    "    g.edge_list = ei_remove_node(g.edge_list, n)\n",
    "    return g"
   ],
   "metadata": {
    "collapsed": false
   }
  },
  {
   "cell_type": "code",
   "execution_count": null,
   "outputs": [],
   "source": [
    "def mvc_r(gnn, g: nx.Graph, y: List[bool]):\n",
    "    g_ = deepcopy(g)\n",
    "    sorted_prob_maps, _, id_min_mvci = forward(gnn, g_)\n",
    "    s = set()\n",
    "    n_s = set()\n",
    "    for v, p in sorted_prob_maps[id_min_mvci]:\n",
    "        if v in s | n_s:\n",
    "            break\n",
    "        if v not in g_:\n",
    "            # this can happen in a recursive call because the input x is not resized\n",
    "            # to avoid problems with the vector indices on the edge_index,\n",
    "            # given that it keep vertex with index > len(x) if x was decreased.\n",
    "            # it could be faster to remove the indices from X and ajust the edge_index\n",
    "            # to avoid passing unecessary nodes to the network\n",
    "            continue\n",
    "\n",
    "        s.add(v)\n",
    "        for u in list(g_[v]):\n",
    "            n_s.add(u)\n",
    "            # preventing lonely node after v removed\n",
    "            if len(g_[u]) == 1:\n",
    "                g_ = remove_node(g_, u)\n",
    "\n",
    "        g_ = remove_node(g_, v)\n",
    "\n",
    "    if g_:\n",
    "        s |= mvc_r(gnn, g_, y)\n",
    "\n",
    "    return s"
   ],
   "metadata": {
    "collapsed": false
   }
  },
  {
   "cell_type": "code",
   "execution_count": null,
   "outputs": [],
   "source": [
    "idx_t = torch.Tensor([[i] for i in range(n)])\n",
    "x = torch.Tensor([[1.]]*n)\n",
    "x = torch.stack([idx_t, x], dim=1)\n",
    "g = create_graph(n, p)\n",
    "edge_list = [(int(a), int(b)) for a, b in g.T]\n",
    "g_n = nx.from_edgelist(edge_list)\n",
    "g_n.x = x\n",
    "g_n.edge_list = g\n",
    "\n",
    "mvc = solver(g, n)\n",
    "y = torch.FloatTensor([[n in mvc] for n in range(n)])\n",
    "\n",
    "solution = mvc_r(gnn, g_n, y)\n",
    "\n",
    "print(mvc, solution)\n",
    "print(f'same size? {len(mvc) == len(solution)}')"
   ],
   "metadata": {
    "collapsed": false
   }
  },
  {
   "cell_type": "code",
   "execution_count": null,
   "outputs": [],
   "source": [
    "layout = None\n",
    "try:\n",
    "    layout = nx.planar_layout(g_n)\n",
    "except:\n",
    "    pass\n",
    "\n",
    "fig, axes = plt.subplots(ncols=2, figsize=(18, 8))\n",
    "\n",
    "node_colors = ['blue' if n in mvc else 'gray' for n in g_n]\n",
    "nx.draw(g_n, with_labels=True, node_color=node_colors, pos=layout, ax=axes[0])\n",
    "\n",
    "node_colors = ['blue' if n in solution else 'gray' for n in g_n]\n",
    "nx.draw(g_n, with_labels=True, node_color=node_colors, pos=layout, ax=axes[1])\n",
    "\n",
    "for i, t in enumerate(['PLI', 'GNN + ref + rec']):\n",
    "    axes[i].set_title(t)\n",
    "\n",
    "plt.show()"
   ],
   "metadata": {
    "collapsed": false
   }
  },
  {
   "cell_type": "markdown",
   "source": [
    "### Tree Search"
   ],
   "metadata": {
    "collapsed": false
   }
  },
  {
   "cell_type": "code",
   "execution_count": null,
   "outputs": [],
   "source": [
    "# raise KeyError\n",
    "\n",
    "def tree_search(gnn, g: nx.Graph, y, max_expansions=1e4):\n",
    "    g.s = set()\n",
    "    bag = [g]\n",
    "    best = set(g.nodes)\n",
    "\n",
    "    expansions = 0\n",
    "    while len(best) > y.sum() and expansions < max_expansions and bag:\n",
    "        g_id = randint(0, len(bag)-1)\n",
    "        g = bag.pop(g_id)\n",
    "        prob_maps, _, _ = forward(gnn, g)\n",
    "\n",
    "        for m in prob_maps:\n",
    "            s = set()\n",
    "            g_ = deepcopy(g)\n",
    "            n_s = set()\n",
    "            for v, _ in m:\n",
    "                if v in s | n_s or v not in g_:\n",
    "                    break\n",
    "\n",
    "                s.add(v)\n",
    "                for u in list(g_[v].keys()):\n",
    "                    n_s.add(u)\n",
    "                    if len(g_[u]) == 1:\n",
    "                        g_ = remove_node(g_, u)\n",
    "\n",
    "                g_ = remove_node(g_, v)\n",
    "\n",
    "            new_mvc = s | g_.s\n",
    "            if not g_.edges:\n",
    "                if len(new_mvc) < len(best):\n",
    "                    best = new_mvc\n",
    "            else:\n",
    "                g_.s = new_mvc\n",
    "                # TODO update g_.x and g_.edge_list\n",
    "                bag.append(g_)\n",
    "\n",
    "        expansions += 1\n",
    "\n",
    "    return best"
   ],
   "metadata": {
    "collapsed": false
   }
  },
  {
   "cell_type": "code",
   "execution_count": null,
   "outputs": [],
   "source": [
    "idx_t = torch.Tensor([[i] for i in range(n)])\n",
    "x = torch.Tensor([[1.]]*n)\n",
    "x = torch.stack([idx_t, x], dim=1)\n",
    "g = create_graph(n, p)\n",
    "edge_list = [(int(a), int(b)) for a, b in g.T]\n",
    "g_n = nx.from_edgelist(edge_list)\n",
    "g_n.x = x\n",
    "g_n.edge_list = g\n",
    "\n",
    "mvc = solver(g, n)\n",
    "y = torch.FloatTensor([[n in mvc] for n in range(n)])\n",
    "\n",
    "solution = tree_search(gnn, g_n, y)\n",
    "\n",
    "mvc, solution"
   ],
   "metadata": {
    "collapsed": false
   }
  },
  {
   "cell_type": "markdown",
   "source": [
    "## Methods Comparison"
   ],
   "metadata": {
    "collapsed": false
   }
  },
  {
   "cell_type": "code",
   "execution_count": null,
   "outputs": [],
   "source": [
    "method_by_id = {0: mvc_simple, 1: mvc_r, 2: tree_search}\n",
    "valid_cvr:    List[bool] = [[], [], []]\n",
    "size_eq_mlip: List[bool] = [[], [], []]\n",
    "\n",
    "tt_g = 1000\n",
    "for i in trange(tt_g):\n",
    "    idx_t = torch.Tensor([[i] for i in range(n)])\n",
    "    x = torch.Tensor([[1.]]*n)\n",
    "    x = torch.stack([idx_t, x], dim=1)\n",
    "    g = create_graph(n, p)\n",
    "    edge_list = [(int(a), int(b)) for a, b in g.T]\n",
    "    g_n = nx.from_edgelist(edge_list)\n",
    "    g_n.x = x\n",
    "    g_n.edge_list = g\n",
    "\n",
    "    mvc = solver(g, n)\n",
    "    y = torch.FloatTensor([[n in mvc] for n in range(n)])\n",
    "\n",
    "    for m_id, func in method_by_id.items():\n",
    "        s = func(gnn, g_n, y)\n",
    "        valid_cvr[m_id].append(all(u in s or v in s for u, v in edge_list))\n",
    "        size_eq_mlip[m_id].append(len(s) <= len(mvc))"
   ],
   "metadata": {
    "collapsed": false
   }
  },
  {
   "cell_type": "code",
   "execution_count": null,
   "outputs": [],
   "source": [
    "for m_id, func in method_by_id.items():\n",
    "    print(f'{func.__name__:<15} {100*sum(valid_cvr[m_id])/tt_g}% valid MVC      {100*sum(size_eq_mlip[m_id])/tt_g}% equivalent to MILP')"
   ],
   "metadata": {
    "collapsed": false
   }
  },
  {
   "cell_type": "code",
   "execution_count": null,
   "outputs": [],
   "source": [
    "method_by_id = {0: mvc_simple, 1: mvc_r, 2: tree_search}\n",
    "valid_cvr    = [[], [], []]\n",
    "size_eq_mlip = [[], [], []]\n",
    "\n",
    "tt_g = 1000\n",
    "n = 15\n",
    "for i in trange(tt_g):\n",
    "    idx_t = torch.Tensor([[i] for i in range(n)])\n",
    "    x = torch.Tensor([[1.]]*n)\n",
    "    x = torch.stack([idx_t, x], dim=1)\n",
    "    g = create_graph(n, p)\n",
    "    edge_list = [(int(a), int(b)) for a, b in g.T]\n",
    "    g_n = nx.from_edgelist(edge_list)\n",
    "    g_n.x = x\n",
    "    g_n.edge_list = g\n",
    "\n",
    "    mvc = solver(g, n)\n",
    "    y = torch.FloatTensor([[n in mvc] for n in range(n)])\n",
    "\n",
    "    for m_id, func in method_by_id.items():\n",
    "        s = func(gnn, g_n, y)\n",
    "        valid_cvr[m_id].append(all(u in s or v in s for u, v in edge_list))\n",
    "        size_eq_mlip[m_id].append(len(s) <= len(mvc))\n",
    "\n",
    "for m_id, func in method_by_id.items():\n",
    "    print(f'{func.__name__:<15} {100*sum(valid_cvr[m_id])/tt_g}% valid MVC      {100*sum(size_eq_mlip[m_id])/tt_g}% equivalent to MILP')"
   ],
   "metadata": {
    "collapsed": false
   }
  }
 ],
 "metadata": {
  "kernelspec": {
   "display_name": "Python 3 (ipykernel)",
   "language": "python",
   "name": "python3"
  },
  "language_info": {
   "codemirror_mode": {
    "name": "ipython",
    "version": 3
   },
   "file_extension": ".py",
   "mimetype": "text/x-python",
   "name": "python",
   "nbconvert_exporter": "python",
   "pygments_lexer": "ipython3",
   "version": "3.9.13"
  }
 },
 "nbformat": 4,
 "nbformat_minor": 4
}
