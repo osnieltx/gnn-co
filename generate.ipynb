{
 "cells": [
  {
   "cell_type": "code",
   "execution_count": 2,
   "outputs": [],
   "source": [
    "from pickle import dump\n",
    "from random import choice\n",
    "\n",
    "import networkx as nx\n",
    "from pyvis.network import Network\n",
    "from tqdm import tqdm"
   ],
   "metadata": {
    "collapsed": false
   }
  },
  {
   "cell_type": "code",
   "execution_count": 3,
   "outputs": [],
   "source": [
    "graphs_to_generate = 10000\n",
    "p = .15"
   ],
   "metadata": {
    "collapsed": false
   }
  },
  {
   "cell_type": "code",
   "execution_count": 4,
   "outputs": [],
   "source": [
    "def create_graph(n):\n",
    "    g = nx.erdos_renyi_graph(n, p)\n",
    "    # dg = max(g.degree(n) for n in g)\n",
    "    while True:\n",
    "        for u in g:\n",
    "            if g.degree[u] > 0:\n",
    "                # print(f'd(u) = {g.degree[u]}')\n",
    "                continue\n",
    "\n",
    "            v = choice(list(g))\n",
    "            if v == u:\n",
    "                # print(f'{v} == {u}, D(g) = {dg}, n = {n}, V = {list(g)}')\n",
    "                break\n",
    "\n",
    "            g.add_edge(u, v)\n",
    "            # print(f'+ e({u}, {v})')\n",
    "            break\n",
    "        else:\n",
    "            break\n",
    "\n",
    "    return g"
   ],
   "metadata": {
    "collapsed": false
   }
  },
  {
   "cell_type": "code",
   "execution_count": 5,
   "outputs": [],
   "source": [
    "def show(g, s):\n",
    "    for i in g:\n",
    "        g.nodes[i]['label'] = str(i)\n",
    "        if i in s:\n",
    "            g.nodes[i]['color'] = '#fb8500'\n",
    "\n",
    "    # nt = Network('1000px', '850px', notebook=True)\n",
    "    nt = Network(notebook=True)\n",
    "    nt.from_nx(g)\n",
    "    nt.toggle_physics(False)\n",
    "    nt.options.edges.smooth.enabled = False\n",
    "    nt.options.interaction.multiselect = True\n",
    "    nt.options.interaction.selectConnectedEdges = False\n",
    "\n",
    "    nt.show_buttons()\n",
    "    return nt.show('nx.html')"
   ],
   "metadata": {
    "collapsed": false
   }
  },
  {
   "cell_type": "code",
   "execution_count": 6,
   "outputs": [],
   "source": [
    "import numpy as np\n",
    "from scipy.optimize import milp, LinearConstraint\n",
    "\n",
    "\n",
    "def milp_solve(g):\n",
    "    # Solving MVC with MILP\n",
    "    c = np.ones(len(g))\n",
    "    A = np.zeros((len(g.edges), len(g)))\n",
    "    for i, edge in enumerate(g.edges):\n",
    "        v1, v2 = edge\n",
    "        A[i, v1] = 1\n",
    "        A[i, v2] = 1\n",
    "\n",
    "    b_l = np.ones(len(g.edges))\n",
    "    b_u = np.full_like(b_l, np.inf)\n",
    "\n",
    "    constraints = LinearConstraint(A, b_l, b_u)\n",
    "    integrality = np.ones_like(c)\n",
    "\n",
    "    res = milp(c=c, constraints=constraints, integrality=integrality)\n",
    "    mvc = {i for i, v in enumerate(res.x) if v}\n",
    "    return mvc"
   ],
   "metadata": {
    "collapsed": false
   }
  },
  {
   "cell_type": "code",
   "execution_count": 7,
   "outputs": [
    {
     "name": "stderr",
     "output_type": "stream",
     "text": [
      "100%|██████████| 10000/10000 [00:07<00:00, 1386.51graph/s]\n"
     ]
    }
   ],
   "source": [
    "for g_i in tqdm(range(graphs_to_generate), unit='graph'):\n",
    "    g = create_graph(n=10)\n",
    "\n",
    "   # conjunto indepente\n",
    "\n",
    "    # Approximate Algorithm for Vertex Cover\n",
    "    result = set()\n",
    "    e_set = set(g.edges)\n",
    "    n_list = sorted(g, key=lambda x: g.degree[x], reverse=True)\n",
    "    while n_list:\n",
    "        s = n_list.pop(0)\n",
    "        result.add(s)\n",
    "\n",
    "        # TODO use adj(s) instead of the whole e_set\n",
    "        edges_cvrd = {e for e in e_set if e[0] == s or e[1] == s}\n",
    "        nodes_cvrd = {u if u != s else v for u, v in edges_cvrd}\n",
    "        e_set -= edges_cvrd\n",
    "        for nc in nodes_cvrd:\n",
    "            if nc in n_list:\n",
    "                n_list.remove(nc)\n",
    "\n",
    "    mvc = milp_solve(g)\n",
    "    g.graph['mvc'] = [n in mvc for n in g]\n",
    "\n",
    "    with open(f'./data/{g_i}', 'wb') as f:\n",
    "        dump(g, f)"
   ],
   "metadata": {
    "collapsed": false
   }
  },
  {
   "cell_type": "code",
   "execution_count": 8,
   "metadata": {
    "collapsed": false,
    "jupyter": {
     "outputs_hidden": false
    }
   },
   "outputs": [
    {
     "name": "stderr",
     "output_type": "stream",
     "text": [
      "100%|██████████| 10000/10000 [00:05<00:00, 1732.41graph/s]\n"
     ]
    }
   ],
   "source": [
    "for g_i in tqdm(range(graphs_to_generate), unit='graph'):\n",
    "    g = create_graph(n=10)\n",
    "\n",
    "    # Approximate Algorithm for Vertex Cover\n",
    "    # result = set()\n",
    "    # e_set = set(g.edges)\n",
    "    # n_list = sorted(g, key=lambda x: g.degree[x], reverse=True)\n",
    "    # while n_list:\n",
    "    #     s = n_list.pop(0)\n",
    "    #     result.add(s)\n",
    "    #\n",
    "    #     # TODO use adj(s) instead of the whole e_set\n",
    "    #     edges_cvrd = {e for e in e_set if e[0] == s or e[1] == s}\n",
    "    #     nodes_cvrd = {u if u != s else v for u, v in edges_cvrd}\n",
    "    #     e_set -= edges_cvrd\n",
    "    #     for nc in nodes_cvrd:\n",
    "    #         if nc in n_list:\n",
    "    #             n_list.remove(nc)\n",
    "\n",
    "    mvc = milp_solve(g)\n",
    "\n",
    "    # check if valid vertex cover\n",
    "    assert all(v1 in mvc or v2 in mvc for v1, v2 in g.edges)\n",
    "\n",
    "    g.graph['mvc'] = [int(v in mvc) for v in g]\n",
    "\n",
    "    with open(f'./data/{g_i}', 'wb') as f:\n",
    "        dump(g, f)"
   ]
  },
  {
   "cell_type": "code",
   "execution_count": 9,
   "metadata": {},
   "outputs": [
    {
     "name": "stdout",
     "output_type": "stream",
     "text": [
      "Warning: When  cdn_resources is 'local' jupyter notebook has issues displaying graphics on chrome/safari. Use cdn_resources='in_line' or cdn_resources='remote' if you have issues viewing graphics in a notebook.\n",
      "nx.html\n"
     ]
    },
    {
     "data": {
      "text/plain": "<IPython.lib.display.IFrame at 0x15bbc0a30>",
      "text/html": "\n        <iframe\n            width=\"100%\"\n            height=\"600px\"\n            src=\"nx.html\"\n            frameborder=\"0\"\n            allowfullscreen\n            \n        ></iframe>\n        "
     },
     "execution_count": 9,
     "metadata": {},
     "output_type": "execute_result"
    }
   ],
   "source": [
    "show(g, g.graph['mvc'])"
   ]
  },
  {
   "cell_type": "code",
   "execution_count": 10,
   "metadata": {},
   "outputs": [
    {
     "ename": "NameError",
     "evalue": "name 'milp_slt' is not defined",
     "output_type": "error",
     "traceback": [
      "\u001B[0;31m---------------------------------------------------------------------------\u001B[0m",
      "\u001B[0;31mNameError\u001B[0m                                 Traceback (most recent call last)",
      "Cell \u001B[0;32mIn[10], line 1\u001B[0m\n\u001B[0;32m----> 1\u001B[0m show(g, \u001B[43mmilp_slt\u001B[49m)\n",
      "\u001B[0;31mNameError\u001B[0m: name 'milp_slt' is not defined"
     ]
    }
   ],
   "source": [
    "show(g, milp_slt)"
   ]
  }
 ],
 "metadata": {
  "kernelspec": {
   "display_name": "Python 3 (ipykernel)",
   "language": "python",
   "name": "python3"
  },
  "language_info": {
   "codemirror_mode": {
    "name": "ipython",
    "version": 3
   },
   "file_extension": ".py",
   "mimetype": "text/x-python",
   "name": "python",
   "nbconvert_exporter": "python",
   "pygments_lexer": "ipython3",
   "version": "3.9.13"
  }
 },
 "nbformat": 4,
 "nbformat_minor": 4
}
